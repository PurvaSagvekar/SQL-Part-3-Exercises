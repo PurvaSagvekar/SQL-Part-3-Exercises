{
    "metadata": {
        "kernelspec": {
            "name": "SQL",
            "display_name": "SQL",
            "language": "sql"
        },
        "language_info": {
            "name": "sql",
            "version": ""
        },
        "extensions": {
            "azuredatastudio": {
                "version": 1,
                "views": []
            }
        }
    },
    "nbformat_minor": 2,
    "nbformat": 4,
    "cells": [
        {
            "cell_type": "markdown",
            "source": [
                "# SQL Part 3 Exercises Joins\n",
                "\n",
                "This notebook works with the BooksDB dataset.  \n",
                "\n",
                "**Questions 1-4** focus on how joins work in a more general sense.  If you are not sure how to best answer the questions, try manipulating the queries by changing the order of joins, the length of the TOP, or how they are ordered.  \n",
                "\n",
                "> <span style=\"background-color: rgba(127, 127, 127, 0.1);\"><i>Note</i>: If some of the queries are not returning quickly, you can try closing and restarting azure data studio after a few minutes.</span>\n",
                "\n",
                "In **questions 5-8**, you will be asked to join tables to find results about titles, tags, and the books users want to read.\n",
                "\n",
                "As you go through the questions, you will see 'Minimum Desired Output'.  This will provide you with the bare minimum columns needed to answer the questions.  When you write the queries, add as many additional columns as you need to best find your answers."
            ],
            "metadata": {
                "azdata_cell_guid": "db9534a9-c8a7-4c09-8180-bcba0690bb02"
            },
            "attachments": {}
        },
        {
            "cell_type": "markdown",
            "source": [
                "## **QUESTION 1:**  Exploring a LEFT JOIN using the **books** and **to\\_read** tables\n",
                "\n",
                "The code block below has been commented out. To answer this question, you will need to uncomment it by removing the **/\\*** (line 1) and **\\*/** (line 16).\n",
                "\n",
                "**Part A:** Look at Query 1, which table is the 'Left' table and which is the 'Right'?\n",
                "\n",
                "> Your Answer: left <span style=\"background-color: rgb(255, 255, 254); color: rgb(33, 33, 33); font-family: Menlo, Monaco, &quot;Courier New&quot;, monospace; font-size: 12px; white-space: pre;\">BooksDB.dbo.to_read and right is</span><span style=\"background-color: rgb(255, 255, 254); color: rgb(33, 33, 33); font-family: Menlo, Monaco, &quot;Courier New&quot;, monospace; font-size: 12px; white-space: pre;\">b.best_book_id</span>\n",
                "\n",
                "**Part B:** Using table 2, answer the following questions: \n",
                "\n",
                "- When we added a  '**WHERE tr.user\\_id IS NOT NULL'** clause (line 14), how did the table change?  Why?\n",
                "\n",
                "> Your Answer: in is not null it took only where data is not null"
            ],
            "metadata": {
                "azdata_cell_guid": "660be568-9a70-40ff-a2fa-a78e31e87b6f"
            },
            "attachments": {}
        },
        {
            "cell_type": "code",
            "source": [
                "\n",
                "-- Query 1: LEFT JOIN \n",
                "SELECT TOP 50 b.title, b.average_rating, b.books_count,tr.user_id, tr.book_id\n",
                "FROM BooksDB.dbo.books AS b\n",
                "LEFT JOIN BooksDB.dbo.to_read AS tr\n",
                "ON b.best_book_id = tr.book_id\n",
                "ORDER BY b.average_rating;\n",
                "\n",
                "-- -- Query 2: LEFT JOIN USING 'IS NOT NULL'\n",
                "SELECT TOP 50 b.title, b.average_rating, b.books_count,tr.user_id, tr.book_id\n",
                "FROM BooksDB.dbo.books AS b\n",
                "LEFT JOIN BooksDB.dbo.to_read AS tr\n",
                "ON b.best_book_id = tr.book_id\n",
                "WHERE tr.user_id IS NOT NULL\n",
                "ORDER BY b.average_rating;\n",
                "-- */"
            ],
            "metadata": {
                "azdata_cell_guid": "25dcd34c-5e5d-4393-9da0-a4c0effb6455",
                "tags": [],
                "language": "sql"
            },
            "outputs": [
                {
                    "output_type": "display_data",
                    "data": {
                        "text/html": "(50 rows affected)"
                    },
                    "metadata": {}
                },
                {
                    "output_type": "display_data",
                    "data": {
                        "text/html": "(50 rows affected)"
                    },
                    "metadata": {}
                },
                {
                    "output_type": "display_data",
                    "data": {
                        "text/html": "Total execution time: 00:00:07.533"
                    },
                    "metadata": {}
                },
                {
                    "output_type": "execute_result",
                    "metadata": {},
                    "execution_count": 54,
                    "data": {
                        "application/vnd.dataresource+json": {
                            "schema": {
                                "fields": [
                                    {
                                        "name": "title"
                                    },
                                    {
                                        "name": "average_rating"
                                    },
                                    {
                                        "name": "books_count"
                                    },
                                    {
                                        "name": "user_id"
                                    },
                                    {
                                        "name": "book_id"
                                    }
                                ]
                            },
                            "data": [
                                {
                                    "title": "One Night at the Call Center",
                                    "average_rating": "2.47",
                                    "books_count": "25",
                                    "user_id": "NULL",
                                    "book_id": "NULL"
                                },
                                {
                                    "title": "The Almost Moon",
                                    "average_rating": "2.67",
                                    "books_count": "63",
                                    "user_id": "NULL",
                                    "book_id": "NULL"
                                },
                                {
                                    "title": "The Finkler Question",
                                    "average_rating": "2.76",
                                    "books_count": "45",
                                    "user_id": "NULL",
                                    "book_id": "NULL"
                                },
                                {
                                    "title": "Four Blondes",
                                    "average_rating": "2.8",
                                    "books_count": "57",
                                    "user_id": "449",
                                    "book_id": "6613"
                                },
                                {
                                    "title": "Four Blondes",
                                    "average_rating": "2.8",
                                    "books_count": "57",
                                    "user_id": "1378",
                                    "book_id": "6613"
                                },
                                {
                                    "title": "Four Blondes",
                                    "average_rating": "2.8",
                                    "books_count": "57",
                                    "user_id": "6465",
                                    "book_id": "6613"
                                },
                                {
                                    "title": "Four Blondes",
                                    "average_rating": "2.8",
                                    "books_count": "57",
                                    "user_id": "6700",
                                    "book_id": "6613"
                                },
                                {
                                    "title": "Four Blondes",
                                    "average_rating": "2.8",
                                    "books_count": "57",
                                    "user_id": "7830",
                                    "book_id": "6613"
                                },
                                {
                                    "title": "Four Blondes",
                                    "average_rating": "2.8",
                                    "books_count": "57",
                                    "user_id": "10085",
                                    "book_id": "6613"
                                },
                                {
                                    "title": "Four Blondes",
                                    "average_rating": "2.8",
                                    "books_count": "57",
                                    "user_id": "16298",
                                    "book_id": "6613"
                                },
                                {
                                    "title": "Four Blondes",
                                    "average_rating": "2.8",
                                    "books_count": "57",
                                    "user_id": "16845",
                                    "book_id": "6613"
                                },
                                {
                                    "title": "Four Blondes",
                                    "average_rating": "2.8",
                                    "books_count": "57",
                                    "user_id": "17470",
                                    "book_id": "6613"
                                },
                                {
                                    "title": "Four Blondes",
                                    "average_rating": "2.8",
                                    "books_count": "57",
                                    "user_id": "19763",
                                    "book_id": "6613"
                                },
                                {
                                    "title": "Four Blondes",
                                    "average_rating": "2.8",
                                    "books_count": "57",
                                    "user_id": "21938",
                                    "book_id": "6613"
                                },
                                {
                                    "title": "Four Blondes",
                                    "average_rating": "2.8",
                                    "books_count": "57",
                                    "user_id": "22289",
                                    "book_id": "6613"
                                },
                                {
                                    "title": "Four Blondes",
                                    "average_rating": "2.8",
                                    "books_count": "57",
                                    "user_id": "23758",
                                    "book_id": "6613"
                                },
                                {
                                    "title": "Four Blondes",
                                    "average_rating": "2.8",
                                    "books_count": "57",
                                    "user_id": "27874",
                                    "book_id": "6613"
                                },
                                {
                                    "title": "Four Blondes",
                                    "average_rating": "2.8",
                                    "books_count": "57",
                                    "user_id": "28690",
                                    "book_id": "6613"
                                },
                                {
                                    "title": "Four Blondes",
                                    "average_rating": "2.8",
                                    "books_count": "57",
                                    "user_id": "29023",
                                    "book_id": "6613"
                                },
                                {
                                    "title": "Four Blondes",
                                    "average_rating": "2.8",
                                    "books_count": "57",
                                    "user_id": "29315",
                                    "book_id": "6613"
                                },
                                {
                                    "title": "Four Blondes",
                                    "average_rating": "2.8",
                                    "books_count": "57",
                                    "user_id": "30245",
                                    "book_id": "6613"
                                },
                                {
                                    "title": "Four Blondes",
                                    "average_rating": "2.8",
                                    "books_count": "57",
                                    "user_id": "36128",
                                    "book_id": "6613"
                                },
                                {
                                    "title": "Four Blondes",
                                    "average_rating": "2.8",
                                    "books_count": "57",
                                    "user_id": "36554",
                                    "book_id": "6613"
                                },
                                {
                                    "title": "Four Blondes",
                                    "average_rating": "2.8",
                                    "books_count": "57",
                                    "user_id": "38159",
                                    "book_id": "6613"
                                },
                                {
                                    "title": "Four Blondes",
                                    "average_rating": "2.8",
                                    "books_count": "57",
                                    "user_id": "38800",
                                    "book_id": "6613"
                                },
                                {
                                    "title": "Four Blondes",
                                    "average_rating": "2.8",
                                    "books_count": "57",
                                    "user_id": "40361",
                                    "book_id": "6613"
                                },
                                {
                                    "title": "Four Blondes",
                                    "average_rating": "2.8",
                                    "books_count": "57",
                                    "user_id": "40529",
                                    "book_id": "6613"
                                },
                                {
                                    "title": "Four Blondes",
                                    "average_rating": "2.8",
                                    "books_count": "57",
                                    "user_id": "41485",
                                    "book_id": "6613"
                                },
                                {
                                    "title": "Four Blondes",
                                    "average_rating": "2.8",
                                    "books_count": "57",
                                    "user_id": "42706",
                                    "book_id": "6613"
                                },
                                {
                                    "title": "Four Blondes",
                                    "average_rating": "2.8",
                                    "books_count": "57",
                                    "user_id": "45206",
                                    "book_id": "6613"
                                },
                                {
                                    "title": "Four Blondes",
                                    "average_rating": "2.8",
                                    "books_count": "57",
                                    "user_id": "45689",
                                    "book_id": "6613"
                                },
                                {
                                    "title": "Four Blondes",
                                    "average_rating": "2.8",
                                    "books_count": "57",
                                    "user_id": "49499",
                                    "book_id": "6613"
                                },
                                {
                                    "title": "Four Blondes",
                                    "average_rating": "2.8",
                                    "books_count": "57",
                                    "user_id": "51105",
                                    "book_id": "6613"
                                },
                                {
                                    "title": "Four Blondes",
                                    "average_rating": "2.8",
                                    "books_count": "57",
                                    "user_id": "51671",
                                    "book_id": "6613"
                                },
                                {
                                    "title": "Four Blondes",
                                    "average_rating": "2.8",
                                    "books_count": "57",
                                    "user_id": "52109",
                                    "book_id": "6613"
                                },
                                {
                                    "title": "Lost",
                                    "average_rating": "2.8",
                                    "books_count": "18",
                                    "user_id": "NULL",
                                    "book_id": "NULL"
                                },
                                {
                                    "title": "Tell-All",
                                    "average_rating": "2.84",
                                    "books_count": "37",
                                    "user_id": "NULL",
                                    "book_id": "NULL"
                                },
                                {
                                    "title": "Revenge Wears Prada: The Devil Returns (The Devil Wears Prada, #2)",
                                    "average_rating": "2.84",
                                    "books_count": "59",
                                    "user_id": "NULL",
                                    "book_id": "NULL"
                                },
                                {
                                    "title": "Among the Ten Thousand Things",
                                    "average_rating": "2.84",
                                    "books_count": "19",
                                    "user_id": "NULL",
                                    "book_id": "NULL"
                                },
                                {
                                    "title": "The Emperor's Children",
                                    "average_rating": "2.93",
                                    "books_count": "45",
                                    "user_id": "7860",
                                    "book_id": "3648"
                                },
                                {
                                    "title": "The Emperor's Children",
                                    "average_rating": "2.93",
                                    "books_count": "45",
                                    "user_id": "11320",
                                    "book_id": "3648"
                                },
                                {
                                    "title": "The Emperor's Children",
                                    "average_rating": "2.93",
                                    "books_count": "45",
                                    "user_id": "12686",
                                    "book_id": "3648"
                                },
                                {
                                    "title": "The Emperor's Children",
                                    "average_rating": "2.93",
                                    "books_count": "45",
                                    "user_id": "12729",
                                    "book_id": "3648"
                                },
                                {
                                    "title": "The Emperor's Children",
                                    "average_rating": "2.93",
                                    "books_count": "45",
                                    "user_id": "12891",
                                    "book_id": "3648"
                                },
                                {
                                    "title": "The Emperor's Children",
                                    "average_rating": "2.93",
                                    "books_count": "45",
                                    "user_id": "16933",
                                    "book_id": "3648"
                                },
                                {
                                    "title": "The Emperor's Children",
                                    "average_rating": "2.93",
                                    "books_count": "45",
                                    "user_id": "17093",
                                    "book_id": "3648"
                                },
                                {
                                    "title": "The Emperor's Children",
                                    "average_rating": "2.93",
                                    "books_count": "45",
                                    "user_id": "24036",
                                    "book_id": "3648"
                                },
                                {
                                    "title": "The Emperor's Children",
                                    "average_rating": "2.93",
                                    "books_count": "45",
                                    "user_id": "35122",
                                    "book_id": "3648"
                                },
                                {
                                    "title": "The Emperor's Children",
                                    "average_rating": "2.93",
                                    "books_count": "45",
                                    "user_id": "36022",
                                    "book_id": "3648"
                                },
                                {
                                    "title": "The Emperor's Children",
                                    "average_rating": "2.93",
                                    "books_count": "45",
                                    "user_id": "36952",
                                    "book_id": "3648"
                                }
                            ]
                        },
                        "text/html": [
                            "<table>",
                            "<tr><th>title</th><th>average_rating</th><th>books_count</th><th>user_id</th><th>book_id</th></tr>",
                            "<tr><td>One Night at the Call Center</td><td>2.47</td><td>25</td><td>NULL</td><td>NULL</td></tr>",
                            "<tr><td>The Almost Moon</td><td>2.67</td><td>63</td><td>NULL</td><td>NULL</td></tr>",
                            "<tr><td>The Finkler Question</td><td>2.76</td><td>45</td><td>NULL</td><td>NULL</td></tr>",
                            "<tr><td>Four Blondes</td><td>2.8</td><td>57</td><td>449</td><td>6613</td></tr>",
                            "<tr><td>Four Blondes</td><td>2.8</td><td>57</td><td>1378</td><td>6613</td></tr>",
                            "<tr><td>Four Blondes</td><td>2.8</td><td>57</td><td>6465</td><td>6613</td></tr>",
                            "<tr><td>Four Blondes</td><td>2.8</td><td>57</td><td>6700</td><td>6613</td></tr>",
                            "<tr><td>Four Blondes</td><td>2.8</td><td>57</td><td>7830</td><td>6613</td></tr>",
                            "<tr><td>Four Blondes</td><td>2.8</td><td>57</td><td>10085</td><td>6613</td></tr>",
                            "<tr><td>Four Blondes</td><td>2.8</td><td>57</td><td>16298</td><td>6613</td></tr>",
                            "<tr><td>Four Blondes</td><td>2.8</td><td>57</td><td>16845</td><td>6613</td></tr>",
                            "<tr><td>Four Blondes</td><td>2.8</td><td>57</td><td>17470</td><td>6613</td></tr>",
                            "<tr><td>Four Blondes</td><td>2.8</td><td>57</td><td>19763</td><td>6613</td></tr>",
                            "<tr><td>Four Blondes</td><td>2.8</td><td>57</td><td>21938</td><td>6613</td></tr>",
                            "<tr><td>Four Blondes</td><td>2.8</td><td>57</td><td>22289</td><td>6613</td></tr>",
                            "<tr><td>Four Blondes</td><td>2.8</td><td>57</td><td>23758</td><td>6613</td></tr>",
                            "<tr><td>Four Blondes</td><td>2.8</td><td>57</td><td>27874</td><td>6613</td></tr>",
                            "<tr><td>Four Blondes</td><td>2.8</td><td>57</td><td>28690</td><td>6613</td></tr>",
                            "<tr><td>Four Blondes</td><td>2.8</td><td>57</td><td>29023</td><td>6613</td></tr>",
                            "<tr><td>Four Blondes</td><td>2.8</td><td>57</td><td>29315</td><td>6613</td></tr>",
                            "<tr><td>Four Blondes</td><td>2.8</td><td>57</td><td>30245</td><td>6613</td></tr>",
                            "<tr><td>Four Blondes</td><td>2.8</td><td>57</td><td>36128</td><td>6613</td></tr>",
                            "<tr><td>Four Blondes</td><td>2.8</td><td>57</td><td>36554</td><td>6613</td></tr>",
                            "<tr><td>Four Blondes</td><td>2.8</td><td>57</td><td>38159</td><td>6613</td></tr>",
                            "<tr><td>Four Blondes</td><td>2.8</td><td>57</td><td>38800</td><td>6613</td></tr>",
                            "<tr><td>Four Blondes</td><td>2.8</td><td>57</td><td>40361</td><td>6613</td></tr>",
                            "<tr><td>Four Blondes</td><td>2.8</td><td>57</td><td>40529</td><td>6613</td></tr>",
                            "<tr><td>Four Blondes</td><td>2.8</td><td>57</td><td>41485</td><td>6613</td></tr>",
                            "<tr><td>Four Blondes</td><td>2.8</td><td>57</td><td>42706</td><td>6613</td></tr>",
                            "<tr><td>Four Blondes</td><td>2.8</td><td>57</td><td>45206</td><td>6613</td></tr>",
                            "<tr><td>Four Blondes</td><td>2.8</td><td>57</td><td>45689</td><td>6613</td></tr>",
                            "<tr><td>Four Blondes</td><td>2.8</td><td>57</td><td>49499</td><td>6613</td></tr>",
                            "<tr><td>Four Blondes</td><td>2.8</td><td>57</td><td>51105</td><td>6613</td></tr>",
                            "<tr><td>Four Blondes</td><td>2.8</td><td>57</td><td>51671</td><td>6613</td></tr>",
                            "<tr><td>Four Blondes</td><td>2.8</td><td>57</td><td>52109</td><td>6613</td></tr>",
                            "<tr><td>Lost</td><td>2.8</td><td>18</td><td>NULL</td><td>NULL</td></tr>",
                            "<tr><td>Tell-All</td><td>2.84</td><td>37</td><td>NULL</td><td>NULL</td></tr>",
                            "<tr><td>Revenge Wears Prada: The Devil Returns (The Devil Wears Prada, #2)</td><td>2.84</td><td>59</td><td>NULL</td><td>NULL</td></tr>",
                            "<tr><td>Among the Ten Thousand Things</td><td>2.84</td><td>19</td><td>NULL</td><td>NULL</td></tr>",
                            "<tr><td>The Emperor's Children</td><td>2.93</td><td>45</td><td>7860</td><td>3648</td></tr>",
                            "<tr><td>The Emperor's Children</td><td>2.93</td><td>45</td><td>11320</td><td>3648</td></tr>",
                            "<tr><td>The Emperor's Children</td><td>2.93</td><td>45</td><td>12686</td><td>3648</td></tr>",
                            "<tr><td>The Emperor's Children</td><td>2.93</td><td>45</td><td>12729</td><td>3648</td></tr>",
                            "<tr><td>The Emperor's Children</td><td>2.93</td><td>45</td><td>12891</td><td>3648</td></tr>",
                            "<tr><td>The Emperor's Children</td><td>2.93</td><td>45</td><td>16933</td><td>3648</td></tr>",
                            "<tr><td>The Emperor's Children</td><td>2.93</td><td>45</td><td>17093</td><td>3648</td></tr>",
                            "<tr><td>The Emperor's Children</td><td>2.93</td><td>45</td><td>24036</td><td>3648</td></tr>",
                            "<tr><td>The Emperor's Children</td><td>2.93</td><td>45</td><td>35122</td><td>3648</td></tr>",
                            "<tr><td>The Emperor's Children</td><td>2.93</td><td>45</td><td>36022</td><td>3648</td></tr>",
                            "<tr><td>The Emperor's Children</td><td>2.93</td><td>45</td><td>36952</td><td>3648</td></tr>",
                            "</table>"
                        ]
                    }
                },
                {
                    "output_type": "execute_result",
                    "metadata": {},
                    "execution_count": 54,
                    "data": {
                        "application/vnd.dataresource+json": {
                            "schema": {
                                "fields": [
                                    {
                                        "name": "title"
                                    },
                                    {
                                        "name": "average_rating"
                                    },
                                    {
                                        "name": "books_count"
                                    },
                                    {
                                        "name": "user_id"
                                    },
                                    {
                                        "name": "book_id"
                                    }
                                ]
                            },
                            "data": [
                                {
                                    "title": "Four Blondes",
                                    "average_rating": "2.8",
                                    "books_count": "57",
                                    "user_id": "449",
                                    "book_id": "6613"
                                },
                                {
                                    "title": "Four Blondes",
                                    "average_rating": "2.8",
                                    "books_count": "57",
                                    "user_id": "1378",
                                    "book_id": "6613"
                                },
                                {
                                    "title": "Four Blondes",
                                    "average_rating": "2.8",
                                    "books_count": "57",
                                    "user_id": "6465",
                                    "book_id": "6613"
                                },
                                {
                                    "title": "Four Blondes",
                                    "average_rating": "2.8",
                                    "books_count": "57",
                                    "user_id": "6700",
                                    "book_id": "6613"
                                },
                                {
                                    "title": "Four Blondes",
                                    "average_rating": "2.8",
                                    "books_count": "57",
                                    "user_id": "7830",
                                    "book_id": "6613"
                                },
                                {
                                    "title": "Four Blondes",
                                    "average_rating": "2.8",
                                    "books_count": "57",
                                    "user_id": "10085",
                                    "book_id": "6613"
                                },
                                {
                                    "title": "Four Blondes",
                                    "average_rating": "2.8",
                                    "books_count": "57",
                                    "user_id": "16298",
                                    "book_id": "6613"
                                },
                                {
                                    "title": "Four Blondes",
                                    "average_rating": "2.8",
                                    "books_count": "57",
                                    "user_id": "16845",
                                    "book_id": "6613"
                                },
                                {
                                    "title": "Four Blondes",
                                    "average_rating": "2.8",
                                    "books_count": "57",
                                    "user_id": "17470",
                                    "book_id": "6613"
                                },
                                {
                                    "title": "Four Blondes",
                                    "average_rating": "2.8",
                                    "books_count": "57",
                                    "user_id": "19763",
                                    "book_id": "6613"
                                },
                                {
                                    "title": "Four Blondes",
                                    "average_rating": "2.8",
                                    "books_count": "57",
                                    "user_id": "21938",
                                    "book_id": "6613"
                                },
                                {
                                    "title": "Four Blondes",
                                    "average_rating": "2.8",
                                    "books_count": "57",
                                    "user_id": "22289",
                                    "book_id": "6613"
                                },
                                {
                                    "title": "Four Blondes",
                                    "average_rating": "2.8",
                                    "books_count": "57",
                                    "user_id": "23758",
                                    "book_id": "6613"
                                },
                                {
                                    "title": "Four Blondes",
                                    "average_rating": "2.8",
                                    "books_count": "57",
                                    "user_id": "27874",
                                    "book_id": "6613"
                                },
                                {
                                    "title": "Four Blondes",
                                    "average_rating": "2.8",
                                    "books_count": "57",
                                    "user_id": "28690",
                                    "book_id": "6613"
                                },
                                {
                                    "title": "Four Blondes",
                                    "average_rating": "2.8",
                                    "books_count": "57",
                                    "user_id": "29023",
                                    "book_id": "6613"
                                },
                                {
                                    "title": "Four Blondes",
                                    "average_rating": "2.8",
                                    "books_count": "57",
                                    "user_id": "29315",
                                    "book_id": "6613"
                                },
                                {
                                    "title": "Four Blondes",
                                    "average_rating": "2.8",
                                    "books_count": "57",
                                    "user_id": "30245",
                                    "book_id": "6613"
                                },
                                {
                                    "title": "Four Blondes",
                                    "average_rating": "2.8",
                                    "books_count": "57",
                                    "user_id": "36128",
                                    "book_id": "6613"
                                },
                                {
                                    "title": "Four Blondes",
                                    "average_rating": "2.8",
                                    "books_count": "57",
                                    "user_id": "36554",
                                    "book_id": "6613"
                                },
                                {
                                    "title": "Four Blondes",
                                    "average_rating": "2.8",
                                    "books_count": "57",
                                    "user_id": "38159",
                                    "book_id": "6613"
                                },
                                {
                                    "title": "Four Blondes",
                                    "average_rating": "2.8",
                                    "books_count": "57",
                                    "user_id": "38800",
                                    "book_id": "6613"
                                },
                                {
                                    "title": "Four Blondes",
                                    "average_rating": "2.8",
                                    "books_count": "57",
                                    "user_id": "40361",
                                    "book_id": "6613"
                                },
                                {
                                    "title": "Four Blondes",
                                    "average_rating": "2.8",
                                    "books_count": "57",
                                    "user_id": "40529",
                                    "book_id": "6613"
                                },
                                {
                                    "title": "Four Blondes",
                                    "average_rating": "2.8",
                                    "books_count": "57",
                                    "user_id": "41485",
                                    "book_id": "6613"
                                },
                                {
                                    "title": "Four Blondes",
                                    "average_rating": "2.8",
                                    "books_count": "57",
                                    "user_id": "42706",
                                    "book_id": "6613"
                                },
                                {
                                    "title": "Four Blondes",
                                    "average_rating": "2.8",
                                    "books_count": "57",
                                    "user_id": "45206",
                                    "book_id": "6613"
                                },
                                {
                                    "title": "Four Blondes",
                                    "average_rating": "2.8",
                                    "books_count": "57",
                                    "user_id": "45689",
                                    "book_id": "6613"
                                },
                                {
                                    "title": "Four Blondes",
                                    "average_rating": "2.8",
                                    "books_count": "57",
                                    "user_id": "49499",
                                    "book_id": "6613"
                                },
                                {
                                    "title": "Four Blondes",
                                    "average_rating": "2.8",
                                    "books_count": "57",
                                    "user_id": "51105",
                                    "book_id": "6613"
                                },
                                {
                                    "title": "Four Blondes",
                                    "average_rating": "2.8",
                                    "books_count": "57",
                                    "user_id": "51671",
                                    "book_id": "6613"
                                },
                                {
                                    "title": "Four Blondes",
                                    "average_rating": "2.8",
                                    "books_count": "57",
                                    "user_id": "52109",
                                    "book_id": "6613"
                                },
                                {
                                    "title": "The Emperor's Children",
                                    "average_rating": "2.93",
                                    "books_count": "45",
                                    "user_id": "7860",
                                    "book_id": "3648"
                                },
                                {
                                    "title": "The Emperor's Children",
                                    "average_rating": "2.93",
                                    "books_count": "45",
                                    "user_id": "11320",
                                    "book_id": "3648"
                                },
                                {
                                    "title": "The Emperor's Children",
                                    "average_rating": "2.93",
                                    "books_count": "45",
                                    "user_id": "12686",
                                    "book_id": "3648"
                                },
                                {
                                    "title": "The Emperor's Children",
                                    "average_rating": "2.93",
                                    "books_count": "45",
                                    "user_id": "12729",
                                    "book_id": "3648"
                                },
                                {
                                    "title": "The Emperor's Children",
                                    "average_rating": "2.93",
                                    "books_count": "45",
                                    "user_id": "12891",
                                    "book_id": "3648"
                                },
                                {
                                    "title": "The Emperor's Children",
                                    "average_rating": "2.93",
                                    "books_count": "45",
                                    "user_id": "16933",
                                    "book_id": "3648"
                                },
                                {
                                    "title": "The Emperor's Children",
                                    "average_rating": "2.93",
                                    "books_count": "45",
                                    "user_id": "17093",
                                    "book_id": "3648"
                                },
                                {
                                    "title": "The Emperor's Children",
                                    "average_rating": "2.93",
                                    "books_count": "45",
                                    "user_id": "24036",
                                    "book_id": "3648"
                                },
                                {
                                    "title": "The Emperor's Children",
                                    "average_rating": "2.93",
                                    "books_count": "45",
                                    "user_id": "35122",
                                    "book_id": "3648"
                                },
                                {
                                    "title": "The Emperor's Children",
                                    "average_rating": "2.93",
                                    "books_count": "45",
                                    "user_id": "36022",
                                    "book_id": "3648"
                                },
                                {
                                    "title": "The Emperor's Children",
                                    "average_rating": "2.93",
                                    "books_count": "45",
                                    "user_id": "36952",
                                    "book_id": "3648"
                                },
                                {
                                    "title": "The Emperor's Children",
                                    "average_rating": "2.93",
                                    "books_count": "45",
                                    "user_id": "38430",
                                    "book_id": "3648"
                                },
                                {
                                    "title": "The Emperor's Children",
                                    "average_rating": "2.93",
                                    "books_count": "45",
                                    "user_id": "39414",
                                    "book_id": "3648"
                                },
                                {
                                    "title": "The Emperor's Children",
                                    "average_rating": "2.93",
                                    "books_count": "45",
                                    "user_id": "45261",
                                    "book_id": "3648"
                                },
                                {
                                    "title": "The Emperor's Children",
                                    "average_rating": "2.93",
                                    "books_count": "45",
                                    "user_id": "45497",
                                    "book_id": "3648"
                                },
                                {
                                    "title": "The Emperor's Children",
                                    "average_rating": "2.93",
                                    "books_count": "45",
                                    "user_id": "45747",
                                    "book_id": "3648"
                                },
                                {
                                    "title": "The Emperor's Children",
                                    "average_rating": "2.93",
                                    "books_count": "45",
                                    "user_id": "48502",
                                    "book_id": "3648"
                                },
                                {
                                    "title": "The Emperor's Children",
                                    "average_rating": "2.93",
                                    "books_count": "45",
                                    "user_id": "49233",
                                    "book_id": "3648"
                                }
                            ]
                        },
                        "text/html": [
                            "<table>",
                            "<tr><th>title</th><th>average_rating</th><th>books_count</th><th>user_id</th><th>book_id</th></tr>",
                            "<tr><td>Four Blondes</td><td>2.8</td><td>57</td><td>449</td><td>6613</td></tr>",
                            "<tr><td>Four Blondes</td><td>2.8</td><td>57</td><td>1378</td><td>6613</td></tr>",
                            "<tr><td>Four Blondes</td><td>2.8</td><td>57</td><td>6465</td><td>6613</td></tr>",
                            "<tr><td>Four Blondes</td><td>2.8</td><td>57</td><td>6700</td><td>6613</td></tr>",
                            "<tr><td>Four Blondes</td><td>2.8</td><td>57</td><td>7830</td><td>6613</td></tr>",
                            "<tr><td>Four Blondes</td><td>2.8</td><td>57</td><td>10085</td><td>6613</td></tr>",
                            "<tr><td>Four Blondes</td><td>2.8</td><td>57</td><td>16298</td><td>6613</td></tr>",
                            "<tr><td>Four Blondes</td><td>2.8</td><td>57</td><td>16845</td><td>6613</td></tr>",
                            "<tr><td>Four Blondes</td><td>2.8</td><td>57</td><td>17470</td><td>6613</td></tr>",
                            "<tr><td>Four Blondes</td><td>2.8</td><td>57</td><td>19763</td><td>6613</td></tr>",
                            "<tr><td>Four Blondes</td><td>2.8</td><td>57</td><td>21938</td><td>6613</td></tr>",
                            "<tr><td>Four Blondes</td><td>2.8</td><td>57</td><td>22289</td><td>6613</td></tr>",
                            "<tr><td>Four Blondes</td><td>2.8</td><td>57</td><td>23758</td><td>6613</td></tr>",
                            "<tr><td>Four Blondes</td><td>2.8</td><td>57</td><td>27874</td><td>6613</td></tr>",
                            "<tr><td>Four Blondes</td><td>2.8</td><td>57</td><td>28690</td><td>6613</td></tr>",
                            "<tr><td>Four Blondes</td><td>2.8</td><td>57</td><td>29023</td><td>6613</td></tr>",
                            "<tr><td>Four Blondes</td><td>2.8</td><td>57</td><td>29315</td><td>6613</td></tr>",
                            "<tr><td>Four Blondes</td><td>2.8</td><td>57</td><td>30245</td><td>6613</td></tr>",
                            "<tr><td>Four Blondes</td><td>2.8</td><td>57</td><td>36128</td><td>6613</td></tr>",
                            "<tr><td>Four Blondes</td><td>2.8</td><td>57</td><td>36554</td><td>6613</td></tr>",
                            "<tr><td>Four Blondes</td><td>2.8</td><td>57</td><td>38159</td><td>6613</td></tr>",
                            "<tr><td>Four Blondes</td><td>2.8</td><td>57</td><td>38800</td><td>6613</td></tr>",
                            "<tr><td>Four Blondes</td><td>2.8</td><td>57</td><td>40361</td><td>6613</td></tr>",
                            "<tr><td>Four Blondes</td><td>2.8</td><td>57</td><td>40529</td><td>6613</td></tr>",
                            "<tr><td>Four Blondes</td><td>2.8</td><td>57</td><td>41485</td><td>6613</td></tr>",
                            "<tr><td>Four Blondes</td><td>2.8</td><td>57</td><td>42706</td><td>6613</td></tr>",
                            "<tr><td>Four Blondes</td><td>2.8</td><td>57</td><td>45206</td><td>6613</td></tr>",
                            "<tr><td>Four Blondes</td><td>2.8</td><td>57</td><td>45689</td><td>6613</td></tr>",
                            "<tr><td>Four Blondes</td><td>2.8</td><td>57</td><td>49499</td><td>6613</td></tr>",
                            "<tr><td>Four Blondes</td><td>2.8</td><td>57</td><td>51105</td><td>6613</td></tr>",
                            "<tr><td>Four Blondes</td><td>2.8</td><td>57</td><td>51671</td><td>6613</td></tr>",
                            "<tr><td>Four Blondes</td><td>2.8</td><td>57</td><td>52109</td><td>6613</td></tr>",
                            "<tr><td>The Emperor's Children</td><td>2.93</td><td>45</td><td>7860</td><td>3648</td></tr>",
                            "<tr><td>The Emperor's Children</td><td>2.93</td><td>45</td><td>11320</td><td>3648</td></tr>",
                            "<tr><td>The Emperor's Children</td><td>2.93</td><td>45</td><td>12686</td><td>3648</td></tr>",
                            "<tr><td>The Emperor's Children</td><td>2.93</td><td>45</td><td>12729</td><td>3648</td></tr>",
                            "<tr><td>The Emperor's Children</td><td>2.93</td><td>45</td><td>12891</td><td>3648</td></tr>",
                            "<tr><td>The Emperor's Children</td><td>2.93</td><td>45</td><td>16933</td><td>3648</td></tr>",
                            "<tr><td>The Emperor's Children</td><td>2.93</td><td>45</td><td>17093</td><td>3648</td></tr>",
                            "<tr><td>The Emperor's Children</td><td>2.93</td><td>45</td><td>24036</td><td>3648</td></tr>",
                            "<tr><td>The Emperor's Children</td><td>2.93</td><td>45</td><td>35122</td><td>3648</td></tr>",
                            "<tr><td>The Emperor's Children</td><td>2.93</td><td>45</td><td>36022</td><td>3648</td></tr>",
                            "<tr><td>The Emperor's Children</td><td>2.93</td><td>45</td><td>36952</td><td>3648</td></tr>",
                            "<tr><td>The Emperor's Children</td><td>2.93</td><td>45</td><td>38430</td><td>3648</td></tr>",
                            "<tr><td>The Emperor's Children</td><td>2.93</td><td>45</td><td>39414</td><td>3648</td></tr>",
                            "<tr><td>The Emperor's Children</td><td>2.93</td><td>45</td><td>45261</td><td>3648</td></tr>",
                            "<tr><td>The Emperor's Children</td><td>2.93</td><td>45</td><td>45497</td><td>3648</td></tr>",
                            "<tr><td>The Emperor's Children</td><td>2.93</td><td>45</td><td>45747</td><td>3648</td></tr>",
                            "<tr><td>The Emperor's Children</td><td>2.93</td><td>45</td><td>48502</td><td>3648</td></tr>",
                            "<tr><td>The Emperor's Children</td><td>2.93</td><td>45</td><td>49233</td><td>3648</td></tr>",
                            "</table>"
                        ]
                    }
                }
            ],
            "execution_count": 54
        },
        {
            "cell_type": "code",
            "source": [
                "SELECT top 100*\n",
                "from BooksDB.dbo.books"
            ],
            "metadata": {
                "language": "sql",
                "azdata_cell_guid": "6919257f-bf73-489a-acab-f9a3463d10b0"
            },
            "outputs": [
                {
                    "output_type": "display_data",
                    "data": {
                        "text/html": "(100 rows affected)"
                    },
                    "metadata": {}
                },
                {
                    "output_type": "display_data",
                    "data": {
                        "text/html": "Total execution time: 00:00:00.129"
                    },
                    "metadata": {}
                },
                {
                    "output_type": "execute_result",
                    "metadata": {},
                    "execution_count": 55,
                    "data": {
                        "application/vnd.dataresource+json": {
                            "schema": {
                                "fields": [
                                    {
                                        "name": "id"
                                    },
                                    {
                                        "name": "book_id"
                                    },
                                    {
                                        "name": "best_book_id"
                                    },
                                    {
                                        "name": "work_id"
                                    },
                                    {
                                        "name": "books_count"
                                    },
                                    {
                                        "name": "isbn"
                                    },
                                    {
                                        "name": "isbn13"
                                    },
                                    {
                                        "name": "authors"
                                    },
                                    {
                                        "name": "original_publication_year"
                                    },
                                    {
                                        "name": "original_title"
                                    },
                                    {
                                        "name": "title"
                                    },
                                    {
                                        "name": "language_code"
                                    },
                                    {
                                        "name": "average_rating"
                                    },
                                    {
                                        "name": "ratings_count"
                                    },
                                    {
                                        "name": "work_ratings_count"
                                    },
                                    {
                                        "name": "work_text_reviews_count"
                                    },
                                    {
                                        "name": "ratings_1"
                                    },
                                    {
                                        "name": "ratings_2"
                                    },
                                    {
                                        "name": "ratings_3"
                                    },
                                    {
                                        "name": "ratings_4"
                                    },
                                    {
                                        "name": "ratings_5"
                                    },
                                    {
                                        "name": "image_url"
                                    },
                                    {
                                        "name": "small_image_url"
                                    }
                                ]
                            },
                            "data": [
                                {
                                    "id": "1",
                                    "book_id": "2767052",
                                    "best_book_id": "2767052",
                                    "work_id": "2792775",
                                    "books_count": "272",
                                    "isbn": "439023483",
                                    "isbn13": "9780439023480",
                                    "authors": "Suzanne Collins",
                                    "original_publication_year": "2008",
                                    "original_title": "The Hunger Games",
                                    "title": "The Hunger Games (The Hunger Games, #1)",
                                    "language_code": "eng",
                                    "average_rating": "4.34",
                                    "ratings_count": "4780653",
                                    "work_ratings_count": "4942365",
                                    "work_text_reviews_count": "155254",
                                    "ratings_1": "66715",
                                    "ratings_2": "127936",
                                    "ratings_3": "560092",
                                    "ratings_4": "1481305",
                                    "ratings_5": "2706317",
                                    "image_url": "https://images.gr-assets.com/books/1447303603m/2767052.jpg",
                                    "small_image_url": "https://images.gr-assets.com/books/1447303603s/2767052.jpg"
                                },
                                {
                                    "id": "2",
                                    "book_id": "3",
                                    "best_book_id": "3",
                                    "work_id": "4640799",
                                    "books_count": "491",
                                    "isbn": "439554934",
                                    "isbn13": "9780439554930",
                                    "authors": "J.K. Rowling, Mary GrandPré",
                                    "original_publication_year": "1997",
                                    "original_title": "Harry Potter and the Philosopher's Stone",
                                    "title": "Harry Potter and the Sorcerer's Stone (Harry Potter, #1)",
                                    "language_code": "eng",
                                    "average_rating": "4.44",
                                    "ratings_count": "4602479",
                                    "work_ratings_count": "4800065",
                                    "work_text_reviews_count": "75867",
                                    "ratings_1": "75504",
                                    "ratings_2": "101676",
                                    "ratings_3": "455024",
                                    "ratings_4": "1156318",
                                    "ratings_5": "3011543",
                                    "image_url": "https://images.gr-assets.com/books/1474154022m/3.jpg",
                                    "small_image_url": "https://images.gr-assets.com/books/1474154022s/3.jpg"
                                },
                                {
                                    "id": "3",
                                    "book_id": "41865",
                                    "best_book_id": "41865",
                                    "work_id": "3212258",
                                    "books_count": "226",
                                    "isbn": "316015849",
                                    "isbn13": "9780316015840",
                                    "authors": "Stephenie Meyer",
                                    "original_publication_year": "2005",
                                    "original_title": "Twilight",
                                    "title": "Twilight (Twilight, #1)",
                                    "language_code": "en-US",
                                    "average_rating": "3.57",
                                    "ratings_count": "3866839",
                                    "work_ratings_count": "3916824",
                                    "work_text_reviews_count": "95009",
                                    "ratings_1": "456191",
                                    "ratings_2": "436802",
                                    "ratings_3": "793319",
                                    "ratings_4": "875073",
                                    "ratings_5": "1355439",
                                    "image_url": "https://images.gr-assets.com/books/1361039443m/41865.jpg",
                                    "small_image_url": "https://images.gr-assets.com/books/1361039443s/41865.jpg"
                                },
                                {
                                    "id": "4",
                                    "book_id": "2657",
                                    "best_book_id": "2657",
                                    "work_id": "3275794",
                                    "books_count": "487",
                                    "isbn": "61120081",
                                    "isbn13": "9780061120080",
                                    "authors": "Harper Lee",
                                    "original_publication_year": "1960",
                                    "original_title": "To Kill a Mockingbird",
                                    "title": "To Kill a Mockingbird",
                                    "language_code": "eng",
                                    "average_rating": "4.25",
                                    "ratings_count": "3198671",
                                    "work_ratings_count": "3340896",
                                    "work_text_reviews_count": "72586",
                                    "ratings_1": "60427",
                                    "ratings_2": "117415",
                                    "ratings_3": "446835",
                                    "ratings_4": "1001952",
                                    "ratings_5": "1714267",
                                    "image_url": "https://images.gr-assets.com/books/1361975680m/2657.jpg",
                                    "small_image_url": "https://images.gr-assets.com/books/1361975680s/2657.jpg"
                                },
                                {
                                    "id": "5",
                                    "book_id": "4671",
                                    "best_book_id": "4671",
                                    "work_id": "245494",
                                    "books_count": "1356",
                                    "isbn": "743273567",
                                    "isbn13": "9780743273560",
                                    "authors": "F. Scott Fitzgerald",
                                    "original_publication_year": "1925",
                                    "original_title": "The Great Gatsby",
                                    "title": "The Great Gatsby",
                                    "language_code": "eng",
                                    "average_rating": "3.89",
                                    "ratings_count": "2683664",
                                    "work_ratings_count": "2773745",
                                    "work_text_reviews_count": "51992",
                                    "ratings_1": "86236",
                                    "ratings_2": "197621",
                                    "ratings_3": "606158",
                                    "ratings_4": "936012",
                                    "ratings_5": "947718",
                                    "image_url": "https://images.gr-assets.com/books/1490528560m/4671.jpg",
                                    "small_image_url": "https://images.gr-assets.com/books/1490528560s/4671.jpg"
                                },
                                {
                                    "id": "6",
                                    "book_id": "11870085",
                                    "best_book_id": "11870085",
                                    "work_id": "16827462",
                                    "books_count": "226",
                                    "isbn": "525478817",
                                    "isbn13": "9780525478810",
                                    "authors": "John Green",
                                    "original_publication_year": "2012",
                                    "original_title": "The Fault in Our Stars",
                                    "title": "The Fault in Our Stars",
                                    "language_code": "eng",
                                    "average_rating": "4.26",
                                    "ratings_count": "2346404",
                                    "work_ratings_count": "2478609",
                                    "work_text_reviews_count": "140739",
                                    "ratings_1": "47994",
                                    "ratings_2": "92723",
                                    "ratings_3": "327550",
                                    "ratings_4": "698471",
                                    "ratings_5": "1311871",
                                    "image_url": "https://images.gr-assets.com/books/1360206420m/11870085.jpg",
                                    "small_image_url": "https://images.gr-assets.com/books/1360206420s/11870085.jpg"
                                },
                                {
                                    "id": "7",
                                    "book_id": "5907",
                                    "best_book_id": "5907",
                                    "work_id": "1540236",
                                    "books_count": "969",
                                    "isbn": "618260307",
                                    "isbn13": "9780618260300",
                                    "authors": "J.R.R. Tolkien",
                                    "original_publication_year": "1937",
                                    "original_title": "The Hobbit or There and Back Again",
                                    "title": "The Hobbit",
                                    "language_code": "en-US",
                                    "average_rating": "4.25",
                                    "ratings_count": "2071616",
                                    "work_ratings_count": "2196809",
                                    "work_text_reviews_count": "37653",
                                    "ratings_1": "46023",
                                    "ratings_2": "76784",
                                    "ratings_3": "288649",
                                    "ratings_4": "665635",
                                    "ratings_5": "1119718",
                                    "image_url": "https://images.gr-assets.com/books/1372847500m/5907.jpg",
                                    "small_image_url": "https://images.gr-assets.com/books/1372847500s/5907.jpg"
                                },
                                {
                                    "id": "8",
                                    "book_id": "5107",
                                    "best_book_id": "5107",
                                    "work_id": "3036731",
                                    "books_count": "360",
                                    "isbn": "316769177",
                                    "isbn13": "9780316769170",
                                    "authors": "J.D. Salinger",
                                    "original_publication_year": "1951",
                                    "original_title": "The Catcher in the Rye",
                                    "title": "The Catcher in the Rye",
                                    "language_code": "eng",
                                    "average_rating": "3.79",
                                    "ratings_count": "2044241",
                                    "work_ratings_count": "2120637",
                                    "work_text_reviews_count": "44920",
                                    "ratings_1": "109383",
                                    "ratings_2": "185520",
                                    "ratings_3": "455042",
                                    "ratings_4": "661516",
                                    "ratings_5": "709176",
                                    "image_url": "https://images.gr-assets.com/books/1398034300m/5107.jpg",
                                    "small_image_url": "https://images.gr-assets.com/books/1398034300s/5107.jpg"
                                },
                                {
                                    "id": "9",
                                    "book_id": "960",
                                    "best_book_id": "960",
                                    "work_id": "3338963",
                                    "books_count": "311",
                                    "isbn": "1416524797",
                                    "isbn13": "9781416524790",
                                    "authors": "Dan Brown",
                                    "original_publication_year": "2000",
                                    "original_title": "Angels & Demons ",
                                    "title": "Angels & Demons  (Robert Langdon, #1)",
                                    "language_code": "en-CA",
                                    "average_rating": "3.85",
                                    "ratings_count": "2001311",
                                    "work_ratings_count": "2078754",
                                    "work_text_reviews_count": "25112",
                                    "ratings_1": "77841",
                                    "ratings_2": "145740",
                                    "ratings_3": "458429",
                                    "ratings_4": "716569",
                                    "ratings_5": "680175",
                                    "image_url": "https://images.gr-assets.com/books/1303390735m/960.jpg",
                                    "small_image_url": "https://images.gr-assets.com/books/1303390735s/960.jpg"
                                },
                                {
                                    "id": "10",
                                    "book_id": "1885",
                                    "best_book_id": "1885",
                                    "work_id": "3060926",
                                    "books_count": "3455",
                                    "isbn": "679783261",
                                    "isbn13": "9780679783270",
                                    "authors": "Jane Austen",
                                    "original_publication_year": "1813",
                                    "original_title": "Pride and Prejudice",
                                    "title": "Pride and Prejudice",
                                    "language_code": "eng",
                                    "average_rating": "4.24",
                                    "ratings_count": "2035490",
                                    "work_ratings_count": "2191465",
                                    "work_text_reviews_count": "49152",
                                    "ratings_1": "54700",
                                    "ratings_2": "86485",
                                    "ratings_3": "284852",
                                    "ratings_4": "609755",
                                    "ratings_5": "1155673",
                                    "image_url": "https://images.gr-assets.com/books/1320399351m/1885.jpg",
                                    "small_image_url": "https://images.gr-assets.com/books/1320399351s/1885.jpg"
                                },
                                {
                                    "id": "11",
                                    "book_id": "77203",
                                    "best_book_id": "77203",
                                    "work_id": "3295919",
                                    "books_count": "283",
                                    "isbn": "1594480001",
                                    "isbn13": "9781594480000",
                                    "authors": "Khaled Hosseini",
                                    "original_publication_year": "2003",
                                    "original_title": "The Kite Runner ",
                                    "title": "The Kite Runner",
                                    "language_code": "eng",
                                    "average_rating": "4.26",
                                    "ratings_count": "1813044",
                                    "work_ratings_count": "1878095",
                                    "work_text_reviews_count": "59730",
                                    "ratings_1": "34288",
                                    "ratings_2": "59980",
                                    "ratings_3": "226062",
                                    "ratings_4": "628174",
                                    "ratings_5": "929591",
                                    "image_url": "https://images.gr-assets.com/books/1484565687m/77203.jpg",
                                    "small_image_url": "https://images.gr-assets.com/books/1484565687s/77203.jpg"
                                },
                                {
                                    "id": "12",
                                    "book_id": "13335037",
                                    "best_book_id": "13335037",
                                    "work_id": "13155899",
                                    "books_count": "210",
                                    "isbn": "62024035",
                                    "isbn13": "9780062024040",
                                    "authors": "Veronica Roth",
                                    "original_publication_year": "2011",
                                    "original_title": "Divergent",
                                    "title": "Divergent (Divergent, #1)",
                                    "language_code": "eng",
                                    "average_rating": "4.24",
                                    "ratings_count": "1903563",
                                    "work_ratings_count": "2216814",
                                    "work_text_reviews_count": "101023",
                                    "ratings_1": "36315",
                                    "ratings_2": "82870",
                                    "ratings_3": "310297",
                                    "ratings_4": "673028",
                                    "ratings_5": "1114304",
                                    "image_url": "https://images.gr-assets.com/books/1328559506m/13335037.jpg",
                                    "small_image_url": "https://images.gr-assets.com/books/1328559506s/13335037.jpg"
                                },
                                {
                                    "id": "13",
                                    "book_id": "5470",
                                    "best_book_id": "5470",
                                    "work_id": "153313",
                                    "books_count": "995",
                                    "isbn": "451524934",
                                    "isbn13": "9780451524940",
                                    "authors": "George Orwell, Erich Fromm, Celâl Üster",
                                    "original_publication_year": "1949",
                                    "original_title": "Nineteen Eighty-Four",
                                    "title": "1984",
                                    "language_code": "eng",
                                    "average_rating": "4.14",
                                    "ratings_count": "1956832",
                                    "work_ratings_count": "2053394",
                                    "work_text_reviews_count": "45518",
                                    "ratings_1": "41845",
                                    "ratings_2": "86425",
                                    "ratings_3": "324874",
                                    "ratings_4": "692021",
                                    "ratings_5": "908229",
                                    "image_url": "https://images.gr-assets.com/books/1348990566m/5470.jpg",
                                    "small_image_url": "https://images.gr-assets.com/books/1348990566s/5470.jpg"
                                },
                                {
                                    "id": "14",
                                    "book_id": "7613",
                                    "best_book_id": "7613",
                                    "work_id": "2207778",
                                    "books_count": "896",
                                    "isbn": "452284244",
                                    "isbn13": "9780452284240",
                                    "authors": "George Orwell",
                                    "original_publication_year": "1945",
                                    "original_title": "Animal Farm: A Fairy Story",
                                    "title": "Animal Farm",
                                    "language_code": "eng",
                                    "average_rating": "3.87",
                                    "ratings_count": "1881700",
                                    "work_ratings_count": "1982987",
                                    "work_text_reviews_count": "35472",
                                    "ratings_1": "66854",
                                    "ratings_2": "135147",
                                    "ratings_3": "433432",
                                    "ratings_4": "698642",
                                    "ratings_5": "648912",
                                    "image_url": "https://images.gr-assets.com/books/1424037542m/7613.jpg",
                                    "small_image_url": "https://images.gr-assets.com/books/1424037542s/7613.jpg"
                                },
                                {
                                    "id": "15",
                                    "book_id": "48855",
                                    "best_book_id": "48855",
                                    "work_id": "3532896",
                                    "books_count": "710",
                                    "isbn": "553296981",
                                    "isbn13": "9780553296980",
                                    "authors": "Anne Frank, Eleanor Roosevelt, B.M. Mooyaart-Doubleday",
                                    "original_publication_year": "1947",
                                    "original_title": "Het Achterhuis: Dagboekbrieven 14 juni 1942 - 1 augustus 1944",
                                    "title": "The Diary of a Young Girl",
                                    "language_code": "eng",
                                    "average_rating": "4.1",
                                    "ratings_count": "1972666",
                                    "work_ratings_count": "2024493",
                                    "work_text_reviews_count": "20825",
                                    "ratings_1": "45225",
                                    "ratings_2": "91270",
                                    "ratings_3": "355756",
                                    "ratings_4": "656870",
                                    "ratings_5": "875372",
                                    "image_url": "https://images.gr-assets.com/books/1358276407m/48855.jpg",
                                    "small_image_url": "https://images.gr-assets.com/books/1358276407s/48855.jpg"
                                },
                                {
                                    "id": "16",
                                    "book_id": "2429135",
                                    "best_book_id": "2429135",
                                    "work_id": "1708725",
                                    "books_count": "274",
                                    "isbn": "307269752",
                                    "isbn13": "9780307269750",
                                    "authors": "Stieg Larsson, Reg Keeland",
                                    "original_publication_year": "2005",
                                    "original_title": "Män som hatar kvinnor",
                                    "title": "The Girl with the Dragon Tattoo (Millennium, #1)",
                                    "language_code": "eng",
                                    "average_rating": "4.11",
                                    "ratings_count": "1808403",
                                    "work_ratings_count": "1929834",
                                    "work_text_reviews_count": "62543",
                                    "ratings_1": "54835",
                                    "ratings_2": "86051",
                                    "ratings_3": "285413",
                                    "ratings_4": "667485",
                                    "ratings_5": "836050",
                                    "image_url": "https://images.gr-assets.com/books/1327868566m/2429135.jpg",
                                    "small_image_url": "https://images.gr-assets.com/books/1327868566s/2429135.jpg"
                                },
                                {
                                    "id": "17",
                                    "book_id": "6148028",
                                    "best_book_id": "6148028",
                                    "work_id": "6171458",
                                    "books_count": "201",
                                    "isbn": "439023491",
                                    "isbn13": "9780439023500",
                                    "authors": "Suzanne Collins",
                                    "original_publication_year": "2009",
                                    "original_title": "Catching Fire",
                                    "title": "Catching Fire (The Hunger Games, #2)",
                                    "language_code": "eng",
                                    "average_rating": "4.3",
                                    "ratings_count": "1831039",
                                    "work_ratings_count": "1988079",
                                    "work_text_reviews_count": "88538",
                                    "ratings_1": "10492",
                                    "ratings_2": "48030",
                                    "ratings_3": "262010",
                                    "ratings_4": "687238",
                                    "ratings_5": "980309",
                                    "image_url": "https://images.gr-assets.com/books/1358273780m/6148028.jpg",
                                    "small_image_url": "https://images.gr-assets.com/books/1358273780s/6148028.jpg"
                                },
                                {
                                    "id": "18",
                                    "book_id": "5",
                                    "best_book_id": "5",
                                    "work_id": "2402163",
                                    "books_count": "376",
                                    "isbn": "043965548X",
                                    "isbn13": "9780439655480",
                                    "authors": "J.K. Rowling, Mary GrandPré, Rufus Beck",
                                    "original_publication_year": "1999",
                                    "original_title": "Harry Potter and the Prisoner of Azkaban",
                                    "title": "Harry Potter and the Prisoner of Azkaban (Harry Potter, #3)",
                                    "language_code": "eng",
                                    "average_rating": "4.53",
                                    "ratings_count": "1832823",
                                    "work_ratings_count": "1969375",
                                    "work_text_reviews_count": "36099",
                                    "ratings_1": "6716",
                                    "ratings_2": "20413",
                                    "ratings_3": "166129",
                                    "ratings_4": "509447",
                                    "ratings_5": "1266670",
                                    "image_url": "https://images.gr-assets.com/books/1499277281m/5.jpg",
                                    "small_image_url": "https://images.gr-assets.com/books/1499277281s/5.jpg"
                                },
                                {
                                    "id": "19",
                                    "book_id": "34",
                                    "best_book_id": "34",
                                    "work_id": "3204327",
                                    "books_count": "566",
                                    "isbn": "618346252",
                                    "isbn13": "9780618346260",
                                    "authors": "J.R.R. Tolkien",
                                    "original_publication_year": "1954",
                                    "original_title": "The Fellowship of the Ring",
                                    "title": "The Fellowship of the Ring (The Lord of the Rings, #1)",
                                    "language_code": "eng",
                                    "average_rating": "4.34",
                                    "ratings_count": "1766803",
                                    "work_ratings_count": "1832541",
                                    "work_text_reviews_count": "15333",
                                    "ratings_1": "38031",
                                    "ratings_2": "55862",
                                    "ratings_3": "202332",
                                    "ratings_4": "493922",
                                    "ratings_5": "1042394",
                                    "image_url": "https://images.gr-assets.com/books/1298411339m/34.jpg",
                                    "small_image_url": "https://images.gr-assets.com/books/1298411339s/34.jpg"
                                },
                                {
                                    "id": "20",
                                    "book_id": "7260188",
                                    "best_book_id": "7260188",
                                    "work_id": "8812783",
                                    "books_count": "239",
                                    "isbn": "439023513",
                                    "isbn13": "9780439023510",
                                    "authors": "Suzanne Collins",
                                    "original_publication_year": "2010",
                                    "original_title": "Mockingjay",
                                    "title": "Mockingjay (The Hunger Games, #3)",
                                    "language_code": "eng",
                                    "average_rating": "4.03",
                                    "ratings_count": "1719760",
                                    "work_ratings_count": "1870748",
                                    "work_text_reviews_count": "96274",
                                    "ratings_1": "30144",
                                    "ratings_2": "110498",
                                    "ratings_3": "373060",
                                    "ratings_4": "618271",
                                    "ratings_5": "738775",
                                    "image_url": "https://images.gr-assets.com/books/1358275419m/7260188.jpg",
                                    "small_image_url": "https://images.gr-assets.com/books/1358275419s/7260188.jpg"
                                },
                                {
                                    "id": "21",
                                    "book_id": "2",
                                    "best_book_id": "2",
                                    "work_id": "2809203",
                                    "books_count": "307",
                                    "isbn": "439358078",
                                    "isbn13": "9780439358070",
                                    "authors": "J.K. Rowling, Mary GrandPré",
                                    "original_publication_year": "2003",
                                    "original_title": "Harry Potter and the Order of the Phoenix",
                                    "title": "Harry Potter and the Order of the Phoenix (Harry Potter, #5)",
                                    "language_code": "eng",
                                    "average_rating": "4.46",
                                    "ratings_count": "1735368",
                                    "work_ratings_count": "1840548",
                                    "work_text_reviews_count": "28685",
                                    "ratings_1": "9528",
                                    "ratings_2": "31577",
                                    "ratings_3": "180210",
                                    "ratings_4": "494427",
                                    "ratings_5": "1124806",
                                    "image_url": "https://images.gr-assets.com/books/1387141547m/2.jpg",
                                    "small_image_url": "https://images.gr-assets.com/books/1387141547s/2.jpg"
                                },
                                {
                                    "id": "22",
                                    "book_id": "12232938",
                                    "best_book_id": "12232938",
                                    "work_id": "1145090",
                                    "books_count": "183",
                                    "isbn": "316166685",
                                    "isbn13": "9780316166680",
                                    "authors": "Alice Sebold",
                                    "original_publication_year": "2002",
                                    "original_title": "The Lovely Bones",
                                    "title": "The Lovely Bones",
                                    "language_code": "eng",
                                    "average_rating": "3.77",
                                    "ratings_count": "1605173",
                                    "work_ratings_count": "1661562",
                                    "work_text_reviews_count": "36642",
                                    "ratings_1": "62777",
                                    "ratings_2": "131188",
                                    "ratings_3": "404699",
                                    "ratings_4": "583575",
                                    "ratings_5": "479323",
                                    "image_url": "https://images.gr-assets.com/books/1457810586m/12232938.jpg",
                                    "small_image_url": "https://images.gr-assets.com/books/1457810586s/12232938.jpg"
                                },
                                {
                                    "id": "23",
                                    "book_id": "15881",
                                    "best_book_id": "15881",
                                    "work_id": "6231171",
                                    "books_count": "398",
                                    "isbn": "439064864",
                                    "isbn13": "9780439064870",
                                    "authors": "J.K. Rowling, Mary GrandPré",
                                    "original_publication_year": "1998",
                                    "original_title": "Harry Potter and the Chamber of Secrets",
                                    "title": "Harry Potter and the Chamber of Secrets (Harry Potter, #2)",
                                    "language_code": "eng",
                                    "average_rating": "4.37",
                                    "ratings_count": "1779331",
                                    "work_ratings_count": "1906199",
                                    "work_text_reviews_count": "34172",
                                    "ratings_1": "8253",
                                    "ratings_2": "42251",
                                    "ratings_3": "242345",
                                    "ratings_4": "548266",
                                    "ratings_5": "1065084",
                                    "image_url": "https://images.gr-assets.com/books/1474169725m/15881.jpg",
                                    "small_image_url": "https://images.gr-assets.com/books/1474169725s/15881.jpg"
                                },
                                {
                                    "id": "24",
                                    "book_id": "6",
                                    "best_book_id": "6",
                                    "work_id": "3046572",
                                    "books_count": "332",
                                    "isbn": "439139600",
                                    "isbn13": "9780439139600",
                                    "authors": "J.K. Rowling, Mary GrandPré",
                                    "original_publication_year": "2000",
                                    "original_title": "Harry Potter and the Goblet of Fire",
                                    "title": "Harry Potter and the Goblet of Fire (Harry Potter, #4)",
                                    "language_code": "eng",
                                    "average_rating": "4.53",
                                    "ratings_count": "1753043",
                                    "work_ratings_count": "1868642",
                                    "work_text_reviews_count": "31084",
                                    "ratings_1": "6676",
                                    "ratings_2": "20210",
                                    "ratings_3": "151785",
                                    "ratings_4": "494926",
                                    "ratings_5": "1195045",
                                    "image_url": "https://images.gr-assets.com/books/1361482611m/6.jpg",
                                    "small_image_url": "https://images.gr-assets.com/books/1361482611s/6.jpg"
                                },
                                {
                                    "id": "25",
                                    "book_id": "136251",
                                    "best_book_id": "136251",
                                    "work_id": "2963218",
                                    "books_count": "263",
                                    "isbn": "545010225",
                                    "isbn13": "9780545010220",
                                    "authors": "J.K. Rowling, Mary GrandPré",
                                    "original_publication_year": "2007",
                                    "original_title": "Harry Potter and the Deathly Hallows",
                                    "title": "Harry Potter and the Deathly Hallows (Harry Potter, #7)",
                                    "language_code": "eng",
                                    "average_rating": "4.61",
                                    "ratings_count": "1746574",
                                    "work_ratings_count": "1847395",
                                    "work_text_reviews_count": "51942",
                                    "ratings_1": "9363",
                                    "ratings_2": "22245",
                                    "ratings_3": "113646",
                                    "ratings_4": "383914",
                                    "ratings_5": "1318227",
                                    "image_url": "https://images.gr-assets.com/books/1474171184m/136251.jpg",
                                    "small_image_url": "https://images.gr-assets.com/books/1474171184s/136251.jpg"
                                },
                                {
                                    "id": "26",
                                    "book_id": "968",
                                    "best_book_id": "968",
                                    "work_id": "2982101",
                                    "books_count": "350",
                                    "isbn": "307277674",
                                    "isbn13": "9780307277670",
                                    "authors": "Dan Brown",
                                    "original_publication_year": "2003",
                                    "original_title": "The Da Vinci Code",
                                    "title": "The Da Vinci Code (Robert Langdon, #2)",
                                    "language_code": "eng",
                                    "average_rating": "3.79",
                                    "ratings_count": "1447148",
                                    "work_ratings_count": "1557292",
                                    "work_text_reviews_count": "41560",
                                    "ratings_1": "71345",
                                    "ratings_2": "126493",
                                    "ratings_3": "340790",
                                    "ratings_4": "539277",
                                    "ratings_5": "479387",
                                    "image_url": "https://images.gr-assets.com/books/1303252999m/968.jpg",
                                    "small_image_url": "https://images.gr-assets.com/books/1303252999s/968.jpg"
                                },
                                {
                                    "id": "27",
                                    "book_id": "1",
                                    "best_book_id": "1",
                                    "work_id": "41335427",
                                    "books_count": "275",
                                    "isbn": "439785960",
                                    "isbn13": "9780439785970",
                                    "authors": "J.K. Rowling, Mary GrandPré",
                                    "original_publication_year": "2005",
                                    "original_title": "Harry Potter and the Half-Blood Prince",
                                    "title": "Harry Potter and the Half-Blood Prince (Harry Potter, #6)",
                                    "language_code": "eng",
                                    "average_rating": "4.54",
                                    "ratings_count": "1678823",
                                    "work_ratings_count": "1785676",
                                    "work_text_reviews_count": "27520",
                                    "ratings_1": "7308",
                                    "ratings_2": "21516",
                                    "ratings_3": "136333",
                                    "ratings_4": "459028",
                                    "ratings_5": "1161491",
                                    "image_url": "https://images.gr-assets.com/books/1361039191m/1.jpg",
                                    "small_image_url": "https://images.gr-assets.com/books/1361039191s/1.jpg"
                                },
                                {
                                    "id": "28",
                                    "book_id": "7624",
                                    "best_book_id": "7624",
                                    "work_id": "2766512",
                                    "books_count": "458",
                                    "isbn": "140283331",
                                    "isbn13": "9780140283330",
                                    "authors": "William Golding",
                                    "original_publication_year": "1954",
                                    "original_title": "Lord of the Flies ",
                                    "title": "Lord of the Flies",
                                    "language_code": "eng",
                                    "average_rating": "3.64",
                                    "ratings_count": "1605019",
                                    "work_ratings_count": "1671484",
                                    "work_text_reviews_count": "26886",
                                    "ratings_1": "92779",
                                    "ratings_2": "160295",
                                    "ratings_3": "425648",
                                    "ratings_4": "564916",
                                    "ratings_5": "427846",
                                    "image_url": "https://images.gr-assets.com/books/1327869409m/7624.jpg",
                                    "small_image_url": "https://images.gr-assets.com/books/1327869409s/7624.jpg"
                                },
                                {
                                    "id": "29",
                                    "book_id": "18135",
                                    "best_book_id": "18135",
                                    "work_id": "3349450",
                                    "books_count": "1937",
                                    "isbn": "743477111",
                                    "isbn13": "9780743477120",
                                    "authors": "William Shakespeare, Robert           Jackson",
                                    "original_publication_year": "1595",
                                    "original_title": "An Excellent conceited Tragedie of Romeo and Juliet",
                                    "title": "Romeo and Juliet",
                                    "language_code": "eng",
                                    "average_rating": "3.73",
                                    "ratings_count": "1628519",
                                    "work_ratings_count": "1672889",
                                    "work_text_reviews_count": "14778",
                                    "ratings_1": "57980",
                                    "ratings_2": "153179",
                                    "ratings_3": "452673",
                                    "ratings_4": "519822",
                                    "ratings_5": "489235",
                                    "image_url": "https://images.gr-assets.com/books/1327872146m/18135.jpg",
                                    "small_image_url": "https://images.gr-assets.com/books/1327872146s/18135.jpg"
                                },
                                {
                                    "id": "30",
                                    "book_id": "8442457",
                                    "best_book_id": "19288043",
                                    "work_id": "13306276",
                                    "books_count": "196",
                                    "isbn": "297859382",
                                    "isbn13": "9780297859380",
                                    "authors": "Gillian Flynn",
                                    "original_publication_year": "2012",
                                    "original_title": "Gone Girl",
                                    "title": "Gone Girl",
                                    "language_code": "eng",
                                    "average_rating": "4.03",
                                    "ratings_count": "512475",
                                    "work_ratings_count": "1626519",
                                    "work_text_reviews_count": "121614",
                                    "ratings_1": "38874",
                                    "ratings_2": "80807",
                                    "ratings_3": "280331",
                                    "ratings_4": "616031",
                                    "ratings_5": "610476",
                                    "image_url": "https://images.gr-assets.com/books/1339602131m/8442457.jpg",
                                    "small_image_url": "https://images.gr-assets.com/books/1339602131s/8442457.jpg"
                                },
                                {
                                    "id": "31",
                                    "book_id": "4667024",
                                    "best_book_id": "4667024",
                                    "work_id": "4717423",
                                    "books_count": "183",
                                    "isbn": "399155341",
                                    "isbn13": "9780399155340",
                                    "authors": "Kathryn Stockett",
                                    "original_publication_year": "2009",
                                    "original_title": "The Help",
                                    "title": "The Help",
                                    "language_code": "eng",
                                    "average_rating": "4.45",
                                    "ratings_count": "1531753",
                                    "work_ratings_count": "1603545",
                                    "work_text_reviews_count": "78204",
                                    "ratings_1": "10235",
                                    "ratings_2": "25117",
                                    "ratings_3": "134887",
                                    "ratings_4": "490754",
                                    "ratings_5": "942552",
                                    "image_url": "https://images.gr-assets.com/books/1346100365m/4667024.jpg",
                                    "small_image_url": "https://images.gr-assets.com/books/1346100365s/4667024.jpg"
                                },
                                {
                                    "id": "32",
                                    "book_id": "890",
                                    "best_book_id": "890",
                                    "work_id": "40283",
                                    "books_count": "373",
                                    "isbn": "142000671",
                                    "isbn13": "9780142000670",
                                    "authors": "John Steinbeck",
                                    "original_publication_year": "1937",
                                    "original_title": "Of Mice and Men ",
                                    "title": "Of Mice and Men",
                                    "language_code": "eng",
                                    "average_rating": "3.84",
                                    "ratings_count": "1467496",
                                    "work_ratings_count": "1518741",
                                    "work_text_reviews_count": "24642",
                                    "ratings_1": "46630",
                                    "ratings_2": "110856",
                                    "ratings_3": "355169",
                                    "ratings_4": "532291",
                                    "ratings_5": "473795",
                                    "image_url": "https://images.gr-assets.com/books/1437235233m/890.jpg",
                                    "small_image_url": "https://images.gr-assets.com/books/1437235233s/890.jpg"
                                },
                                {
                                    "id": "33",
                                    "book_id": "930",
                                    "best_book_id": "929",
                                    "work_id": "1558965",
                                    "books_count": "220",
                                    "isbn": "739326228",
                                    "isbn13": "9780739326220",
                                    "authors": "Arthur Golden",
                                    "original_publication_year": "1997",
                                    "original_title": "Memoirs of a Geisha",
                                    "title": "Memoirs of a Geisha",
                                    "language_code": "eng",
                                    "average_rating": "4.08",
                                    "ratings_count": "1300209",
                                    "work_ratings_count": "1418172",
                                    "work_text_reviews_count": "25605",
                                    "ratings_1": "23500",
                                    "ratings_2": "59033",
                                    "ratings_3": "258700",
                                    "ratings_4": "517157",
                                    "ratings_5": "559782",
                                    "image_url": "https://s.gr-assets.com/assets/nophoto/book/111x148-bcc042a9c91a29c1d680899eff700a03.png",
                                    "small_image_url": "https://s.gr-assets.com/assets/nophoto/book/50x75-a91bf249278a81aabab721ef782c4a74.png"
                                },
                                {
                                    "id": "34",
                                    "book_id": "10818853",
                                    "best_book_id": "10818853",
                                    "work_id": "15732562",
                                    "books_count": "169",
                                    "isbn": "1612130291",
                                    "isbn13": "9781612130290",
                                    "authors": "E.L. James",
                                    "original_publication_year": "2011",
                                    "original_title": "Fifty Shades of Grey",
                                    "title": "Fifty Shades of Grey (Fifty Shades, #1)",
                                    "language_code": "eng",
                                    "average_rating": "3.67",
                                    "ratings_count": "1338493",
                                    "work_ratings_count": "1436818",
                                    "work_text_reviews_count": "75437",
                                    "ratings_1": "165455",
                                    "ratings_2": "152293",
                                    "ratings_3": "252185",
                                    "ratings_4": "294976",
                                    "ratings_5": "571909",
                                    "image_url": "https://images.gr-assets.com/books/1385207843m/10818853.jpg",
                                    "small_image_url": "https://images.gr-assets.com/books/1385207843s/10818853.jpg"
                                },
                                {
                                    "id": "35",
                                    "book_id": "865",
                                    "best_book_id": "865",
                                    "work_id": "4835472",
                                    "books_count": "458",
                                    "isbn": "61122416",
                                    "isbn13": "9780061122420",
                                    "authors": "Paulo Coelho, Alan R. Clarke",
                                    "original_publication_year": "1988",
                                    "original_title": "O Alquimista",
                                    "title": "The Alchemist",
                                    "language_code": "eng",
                                    "average_rating": "3.82",
                                    "ratings_count": "1299566",
                                    "work_ratings_count": "1403995",
                                    "work_text_reviews_count": "55781",
                                    "ratings_1": "74846",
                                    "ratings_2": "123614",
                                    "ratings_3": "289143",
                                    "ratings_4": "412180",
                                    "ratings_5": "504212",
                                    "image_url": "https://images.gr-assets.com/books/1483412266m/865.jpg",
                                    "small_image_url": "https://images.gr-assets.com/books/1483412266s/865.jpg"
                                },
                                {
                                    "id": "36",
                                    "book_id": "3636",
                                    "best_book_id": "3636",
                                    "work_id": "2543234",
                                    "books_count": "192",
                                    "isbn": "385732554",
                                    "isbn13": "9780385732550",
                                    "authors": "Lois Lowry",
                                    "original_publication_year": "1993",
                                    "original_title": "The Giver",
                                    "title": "The Giver (The Giver, #1)",
                                    "language_code": "eng",
                                    "average_rating": "4.12",
                                    "ratings_count": "1296825",
                                    "work_ratings_count": "1345445",
                                    "work_text_reviews_count": "54084",
                                    "ratings_1": "26497",
                                    "ratings_2": "59652",
                                    "ratings_3": "225326",
                                    "ratings_4": "448691",
                                    "ratings_5": "585279",
                                    "image_url": "https://images.gr-assets.com/books/1342493368m/3636.jpg",
                                    "small_image_url": "https://images.gr-assets.com/books/1342493368s/3636.jpg"
                                },
                                {
                                    "id": "37",
                                    "book_id": "100915",
                                    "best_book_id": "100915",
                                    "work_id": "4790821",
                                    "books_count": "474",
                                    "isbn": "60764899",
                                    "isbn13": "9780060764890",
                                    "authors": "C.S. Lewis",
                                    "original_publication_year": "1950",
                                    "original_title": "The Lion, the Witch and the Wardrobe",
                                    "title": "The Lion, the Witch, and the Wardrobe (Chronicles of Narnia, #1)",
                                    "language_code": "eng",
                                    "average_rating": "4.19",
                                    "ratings_count": "1531800",
                                    "work_ratings_count": "1584884",
                                    "work_text_reviews_count": "15186",
                                    "ratings_1": "19309",
                                    "ratings_2": "55542",
                                    "ratings_3": "262038",
                                    "ratings_4": "513366",
                                    "ratings_5": "734629",
                                    "image_url": "https://images.gr-assets.com/books/1353029077m/100915.jpg",
                                    "small_image_url": "https://images.gr-assets.com/books/1353029077s/100915.jpg"
                                },
                                {
                                    "id": "38",
                                    "book_id": "14050",
                                    "best_book_id": "18619684",
                                    "work_id": "2153746",
                                    "books_count": "167",
                                    "isbn": "965818675",
                                    "isbn13": "9780965818670",
                                    "authors": "Audrey Niffenegger",
                                    "original_publication_year": "2003",
                                    "original_title": "The Time Traveler's Wife",
                                    "title": "The Time Traveler's Wife",
                                    "language_code": "eng",
                                    "average_rating": "3.95",
                                    "ratings_count": "746287",
                                    "work_ratings_count": "1308667",
                                    "work_text_reviews_count": "43382",
                                    "ratings_1": "44339",
                                    "ratings_2": "85429",
                                    "ratings_3": "257805",
                                    "ratings_4": "427210",
                                    "ratings_5": "493884",
                                    "image_url": "https://images.gr-assets.com/books/1437728815m/14050.jpg",
                                    "small_image_url": "https://images.gr-assets.com/books/1437728815s/14050.jpg"
                                },
                                {
                                    "id": "39",
                                    "book_id": "13496",
                                    "best_book_id": "13496",
                                    "work_id": "1466917",
                                    "books_count": "101",
                                    "isbn": "553588486",
                                    "isbn13": "9780553588480",
                                    "authors": "George R.R. Martin",
                                    "original_publication_year": "1996",
                                    "original_title": "A Game of Thrones",
                                    "title": "A Game of Thrones (A Song of Ice and Fire, #1)",
                                    "language_code": "eng",
                                    "average_rating": "4.45",
                                    "ratings_count": "1319204",
                                    "work_ratings_count": "1442220",
                                    "work_text_reviews_count": "46205",
                                    "ratings_1": "19988",
                                    "ratings_2": "28983",
                                    "ratings_3": "114092",
                                    "ratings_4": "404583",
                                    "ratings_5": "874574",
                                    "image_url": "https://images.gr-assets.com/books/1436732693m/13496.jpg",
                                    "small_image_url": "https://images.gr-assets.com/books/1436732693s/13496.jpg"
                                },
                                {
                                    "id": "40",
                                    "book_id": "19501",
                                    "best_book_id": "19501",
                                    "work_id": "3352398",
                                    "books_count": "185",
                                    "isbn": "143038419",
                                    "isbn13": "9780143038410",
                                    "authors": "Elizabeth Gilbert",
                                    "original_publication_year": "2006",
                                    "original_title": "Eat, pray, love: one woman's search for everything across Italy, India and Indonesia",
                                    "title": "Eat, Pray, Love",
                                    "language_code": "eng",
                                    "average_rating": "3.51",
                                    "ratings_count": "1181647",
                                    "work_ratings_count": "1206597",
                                    "work_text_reviews_count": "49714",
                                    "ratings_1": "100373",
                                    "ratings_2": "149549",
                                    "ratings_3": "310212",
                                    "ratings_4": "332191",
                                    "ratings_5": "314272",
                                    "image_url": "https://images.gr-assets.com/books/1503066414m/19501.jpg",
                                    "small_image_url": "https://images.gr-assets.com/books/1503066414s/19501.jpg"
                                },
                                {
                                    "id": "41",
                                    "book_id": "28187",
                                    "best_book_id": "28187",
                                    "work_id": "3346751",
                                    "books_count": "159",
                                    "isbn": "786838655",
                                    "isbn13": "9780786838650",
                                    "authors": "Rick Riordan",
                                    "original_publication_year": "2005",
                                    "original_title": "The Lightning Thief",
                                    "title": "The Lightning Thief (Percy Jackson and the Olympians, #1)",
                                    "language_code": "eng",
                                    "average_rating": "4.23",
                                    "ratings_count": "1366265",
                                    "work_ratings_count": "1411114",
                                    "work_text_reviews_count": "46006",
                                    "ratings_1": "18303",
                                    "ratings_2": "48294",
                                    "ratings_3": "219638",
                                    "ratings_4": "435514",
                                    "ratings_5": "689365",
                                    "image_url": "https://images.gr-assets.com/books/1400602609m/28187.jpg",
                                    "small_image_url": "https://images.gr-assets.com/books/1400602609s/28187.jpg"
                                },
                                {
                                    "id": "42",
                                    "book_id": "1934",
                                    "best_book_id": "1934",
                                    "work_id": "3244642",
                                    "books_count": "1707",
                                    "isbn": "451529308",
                                    "isbn13": "9780451529300",
                                    "authors": "Louisa May Alcott",
                                    "original_publication_year": "1868",
                                    "original_title": "Little Women",
                                    "title": "Little Women (Little Women, #1)",
                                    "language_code": "en-US",
                                    "average_rating": "4.04",
                                    "ratings_count": "1257121",
                                    "work_ratings_count": "1314293",
                                    "work_text_reviews_count": "17090",
                                    "ratings_1": "31645",
                                    "ratings_2": "70011",
                                    "ratings_3": "250794",
                                    "ratings_4": "426280",
                                    "ratings_5": "535563",
                                    "image_url": "https://s.gr-assets.com/assets/nophoto/book/111x148-bcc042a9c91a29c1d680899eff700a03.png",
                                    "small_image_url": "https://s.gr-assets.com/assets/nophoto/book/50x75-a91bf249278a81aabab721ef782c4a74.png"
                                },
                                {
                                    "id": "43",
                                    "book_id": "10210",
                                    "best_book_id": "10210",
                                    "work_id": "2977639",
                                    "books_count": "2568",
                                    "isbn": "142437204",
                                    "isbn13": "9780142437210",
                                    "authors": "Charlotte Brontë, Michael Mason",
                                    "original_publication_year": "1847",
                                    "original_title": "Jane Eyre",
                                    "title": "Jane Eyre",
                                    "language_code": "eng",
                                    "average_rating": "4.1",
                                    "ratings_count": "1198557",
                                    "work_ratings_count": "1286135",
                                    "work_text_reviews_count": "31212",
                                    "ratings_1": "35132",
                                    "ratings_2": "64274",
                                    "ratings_3": "212294",
                                    "ratings_4": "400214",
                                    "ratings_5": "574221",
                                    "image_url": "https://images.gr-assets.com/books/1327867269m/10210.jpg",
                                    "small_image_url": "https://images.gr-assets.com/books/1327867269s/10210.jpg"
                                },
                                {
                                    "id": "44",
                                    "book_id": "15931",
                                    "best_book_id": "15931",
                                    "work_id": "1498135",
                                    "books_count": "190",
                                    "isbn": "553816713",
                                    "isbn13": "9780553816720",
                                    "authors": "Nicholas Sparks",
                                    "original_publication_year": "1996",
                                    "original_title": "The Notebook",
                                    "title": "The Notebook (The Notebook, #1)",
                                    "language_code": "eng",
                                    "average_rating": "4.06",
                                    "ratings_count": "1053403",
                                    "work_ratings_count": "1076749",
                                    "work_text_reviews_count": "17279",
                                    "ratings_1": "41395",
                                    "ratings_2": "63432",
                                    "ratings_3": "176469",
                                    "ratings_4": "298259",
                                    "ratings_5": "497194",
                                    "image_url": "https://images.gr-assets.com/books/1385738917m/15931.jpg",
                                    "small_image_url": "https://images.gr-assets.com/books/1385738917s/15931.jpg"
                                },
                                {
                                    "id": "45",
                                    "book_id": "4214",
                                    "best_book_id": "4214",
                                    "work_id": "1392700",
                                    "books_count": "264",
                                    "isbn": "770430074",
                                    "isbn13": "9780770430080",
                                    "authors": "Yann Martel",
                                    "original_publication_year": "2001",
                                    "original_title": "Life of Pi",
                                    "title": "Life of Pi",
                                    "language_code": "NULL",
                                    "average_rating": "3.88",
                                    "ratings_count": "1003228",
                                    "work_ratings_count": "1077431",
                                    "work_text_reviews_count": "42962",
                                    "ratings_1": "39768",
                                    "ratings_2": "74331",
                                    "ratings_3": "218702",
                                    "ratings_4": "384164",
                                    "ratings_5": "360466",
                                    "image_url": "https://images.gr-assets.com/books/1320562005m/4214.jpg",
                                    "small_image_url": "https://images.gr-assets.com/books/1320562005s/4214.jpg"
                                },
                                {
                                    "id": "46",
                                    "book_id": "43641",
                                    "best_book_id": "43641",
                                    "work_id": "3441236",
                                    "books_count": "128",
                                    "isbn": "1565125606",
                                    "isbn13": "9781565125600",
                                    "authors": "Sara Gruen",
                                    "original_publication_year": "2006",
                                    "original_title": "Water for Elephants",
                                    "title": "Water for Elephants",
                                    "language_code": "eng",
                                    "average_rating": "4.07",
                                    "ratings_count": "1068146",
                                    "work_ratings_count": "1108839",
                                    "work_text_reviews_count": "55732",
                                    "ratings_1": "16705",
                                    "ratings_2": "49832",
                                    "ratings_3": "200154",
                                    "ratings_4": "417328",
                                    "ratings_5": "424820",
                                    "image_url": "https://images.gr-assets.com/books/1494428973m/43641.jpg",
                                    "small_image_url": "https://images.gr-assets.com/books/1494428973s/43641.jpg"
                                },
                                {
                                    "id": "47",
                                    "book_id": "19063",
                                    "best_book_id": "19063",
                                    "work_id": "878368",
                                    "books_count": "251",
                                    "isbn": "375831002",
                                    "isbn13": "9780375831000",
                                    "authors": "Markus Zusak",
                                    "original_publication_year": "2005",
                                    "original_title": "The Book Thief",
                                    "title": "The Book Thief",
                                    "language_code": "eng",
                                    "average_rating": "4.36",
                                    "ratings_count": "1159741",
                                    "work_ratings_count": "1287798",
                                    "work_text_reviews_count": "93611",
                                    "ratings_1": "17892",
                                    "ratings_2": "35360",
                                    "ratings_3": "135272",
                                    "ratings_4": "377218",
                                    "ratings_5": "722056",
                                    "image_url": "https://images.gr-assets.com/books/1390053681m/19063.jpg",
                                    "small_image_url": "https://images.gr-assets.com/books/1390053681s/19063.jpg"
                                },
                                {
                                    "id": "48",
                                    "book_id": "4381",
                                    "best_book_id": "4381",
                                    "work_id": "1272463",
                                    "books_count": "507",
                                    "isbn": "307347974",
                                    "isbn13": "9780307347980",
                                    "authors": "Ray Bradbury",
                                    "original_publication_year": "1953",
                                    "original_title": "Fahrenheit 451",
                                    "title": "Fahrenheit 451",
                                    "language_code": "spa",
                                    "average_rating": "3.97",
                                    "ratings_count": "570498",
                                    "work_ratings_count": "1176240",
                                    "work_text_reviews_count": "30694",
                                    "ratings_1": "28366",
                                    "ratings_2": "64289",
                                    "ratings_3": "238242",
                                    "ratings_4": "426292",
                                    "ratings_5": "419051",
                                    "image_url": "https://images.gr-assets.com/books/1351643740m/4381.jpg",
                                    "small_image_url": "https://images.gr-assets.com/books/1351643740s/4381.jpg"
                                },
                                {
                                    "id": "49",
                                    "book_id": "49041",
                                    "best_book_id": "49041",
                                    "work_id": "3203964",
                                    "books_count": "194",
                                    "isbn": "316160199",
                                    "isbn13": "9780316160190",
                                    "authors": "Stephenie Meyer",
                                    "original_publication_year": "2006",
                                    "original_title": "New Moon (Twilight, #2)",
                                    "title": "New Moon (Twilight, #2)",
                                    "language_code": "eng",
                                    "average_rating": "3.52",
                                    "ratings_count": "1149630",
                                    "work_ratings_count": "1199000",
                                    "work_text_reviews_count": "44020",
                                    "ratings_1": "102837",
                                    "ratings_2": "160660",
                                    "ratings_3": "294207",
                                    "ratings_4": "290612",
                                    "ratings_5": "350684",
                                    "image_url": "https://images.gr-assets.com/books/1361039440m/49041.jpg",
                                    "small_image_url": "https://images.gr-assets.com/books/1361039440s/49041.jpg"
                                },
                                {
                                    "id": "50",
                                    "book_id": "30119",
                                    "best_book_id": "30119",
                                    "work_id": "30518",
                                    "books_count": "45",
                                    "isbn": "60513039",
                                    "isbn13": "9780060513030",
                                    "authors": "Shel Silverstein",
                                    "original_publication_year": "1974",
                                    "original_title": "Where the Sidewalk Ends: The Poems and Drawings of Shel Silverstein",
                                    "title": "Where the Sidewalk Ends",
                                    "language_code": "eng",
                                    "average_rating": "4.29",
                                    "ratings_count": "1016888",
                                    "work_ratings_count": "1023781",
                                    "work_text_reviews_count": "9234",
                                    "ratings_1": "16590",
                                    "ratings_2": "30792",
                                    "ratings_3": "139024",
                                    "ratings_4": "293222",
                                    "ratings_5": "544153",
                                    "image_url": "https://images.gr-assets.com/books/1168052448m/30119.jpg",
                                    "small_image_url": "https://images.gr-assets.com/books/1168052448s/30119.jpg"
                                },
                                {
                                    "id": "51",
                                    "book_id": "256683",
                                    "best_book_id": "256683",
                                    "work_id": "2267189",
                                    "books_count": "178",
                                    "isbn": "1416914285",
                                    "isbn13": "9781416914280",
                                    "authors": "Cassandra Clare",
                                    "original_publication_year": "2007",
                                    "original_title": "City of Bones",
                                    "title": "City of Bones (The Mortal Instruments, #1)",
                                    "language_code": "eng",
                                    "average_rating": "4.12",
                                    "ratings_count": "1154031",
                                    "work_ratings_count": "1241799",
                                    "work_text_reviews_count": "51589",
                                    "ratings_1": "34122",
                                    "ratings_2": "65349",
                                    "ratings_3": "203466",
                                    "ratings_4": "356048",
                                    "ratings_5": "582814",
                                    "image_url": "https://images.gr-assets.com/books/1432730315m/256683.jpg",
                                    "small_image_url": "https://images.gr-assets.com/books/1432730315s/256683.jpg"
                                },
                                {
                                    "id": "52",
                                    "book_id": "428263",
                                    "best_book_id": "428263",
                                    "work_id": "2675454",
                                    "books_count": "185",
                                    "isbn": "316160202",
                                    "isbn13": "9780316160210",
                                    "authors": "Stephenie Meyer",
                                    "original_publication_year": "2007",
                                    "original_title": "Eclipse",
                                    "title": "Eclipse (Twilight, #3)",
                                    "language_code": "en-US",
                                    "average_rating": "3.69",
                                    "ratings_count": "1134511",
                                    "work_ratings_count": "1176642",
                                    "work_text_reviews_count": "35216",
                                    "ratings_1": "83094",
                                    "ratings_2": "124293",
                                    "ratings_3": "260763",
                                    "ratings_4": "309358",
                                    "ratings_5": "399134",
                                    "image_url": "https://images.gr-assets.com/books/1361038355m/428263.jpg",
                                    "small_image_url": "https://images.gr-assets.com/books/1361038355s/428263.jpg"
                                },
                                {
                                    "id": "53",
                                    "book_id": "113436",
                                    "best_book_id": "113436",
                                    "work_id": "3178011",
                                    "books_count": "217",
                                    "isbn": "375826696",
                                    "isbn13": "9780375826700",
                                    "authors": "Christopher Paolini",
                                    "original_publication_year": "2002",
                                    "original_title": "Eragon",
                                    "title": "Eragon (The Inheritance Cycle, #1)",
                                    "language_code": "en-US",
                                    "average_rating": "3.86",
                                    "ratings_count": "1104021",
                                    "work_ratings_count": "1125231",
                                    "work_text_reviews_count": "18280",
                                    "ratings_1": "50563",
                                    "ratings_2": "88536",
                                    "ratings_3": "240157",
                                    "ratings_4": "337943",
                                    "ratings_5": "408032",
                                    "image_url": "https://images.gr-assets.com/books/1366212852m/113436.jpg",
                                    "small_image_url": "https://images.gr-assets.com/books/1366212852s/113436.jpg"
                                },
                                {
                                    "id": "54",
                                    "book_id": "11",
                                    "best_book_id": "386162",
                                    "work_id": "3078186",
                                    "books_count": "257",
                                    "isbn": "345391802",
                                    "isbn13": "9780345391800",
                                    "authors": "Douglas Adams",
                                    "original_publication_year": "1979",
                                    "original_title": "The Hitchhiker's Guide to the Galaxy",
                                    "title": "The Hitchhiker's Guide to the Galaxy (Hitchhiker's Guide to the Galaxy, #1)",
                                    "language_code": "en-US",
                                    "average_rating": "4.2",
                                    "ratings_count": "936782",
                                    "work_ratings_count": "1006479",
                                    "work_text_reviews_count": "20345",
                                    "ratings_1": "21764",
                                    "ratings_2": "41962",
                                    "ratings_3": "145173",
                                    "ratings_4": "299579",
                                    "ratings_5": "498001",
                                    "image_url": "https://images.gr-assets.com/books/1327656754m/11.jpg",
                                    "small_image_url": "https://images.gr-assets.com/books/1327656754s/11.jpg"
                                },
                                {
                                    "id": "55",
                                    "book_id": "5129",
                                    "best_book_id": "5129",
                                    "work_id": "3204877",
                                    "books_count": "515",
                                    "isbn": "60929871",
                                    "isbn13": "9780060929880",
                                    "authors": "Aldous Huxley",
                                    "original_publication_year": "1932",
                                    "original_title": "Brave New World",
                                    "title": "Brave New World",
                                    "language_code": "eng",
                                    "average_rating": "3.97",
                                    "ratings_count": "1022601",
                                    "work_ratings_count": "1079135",
                                    "work_text_reviews_count": "20095",
                                    "ratings_1": "26367",
                                    "ratings_2": "60328",
                                    "ratings_3": "219895",
                                    "ratings_4": "389379",
                                    "ratings_5": "383166",
                                    "image_url": "https://images.gr-assets.com/books/1487389574m/5129.jpg",
                                    "small_image_url": "https://images.gr-assets.com/books/1487389574s/5129.jpg"
                                },
                                {
                                    "id": "56",
                                    "book_id": "1162543",
                                    "best_book_id": "1162543",
                                    "work_id": "2960529",
                                    "books_count": "183",
                                    "isbn": "031606792X",
                                    "isbn13": "9780316067930",
                                    "authors": "Stephenie Meyer",
                                    "original_publication_year": "2008",
                                    "original_title": "Breaking Dawn",
                                    "title": "Breaking Dawn (Twilight, #4)",
                                    "language_code": "en-US",
                                    "average_rating": "3.7",
                                    "ratings_count": "1070245",
                                    "work_ratings_count": "1107709",
                                    "work_text_reviews_count": "44550",
                                    "ratings_1": "100994",
                                    "ratings_2": "114893",
                                    "ratings_3": "213402",
                                    "ratings_4": "267706",
                                    "ratings_5": "410714",
                                    "image_url": "https://images.gr-assets.com/books/1361039438m/1162543.jpg",
                                    "small_image_url": "https://images.gr-assets.com/books/1361039438s/1162543.jpg"
                                },
                                {
                                    "id": "57",
                                    "book_id": "37435",
                                    "best_book_id": "37435",
                                    "work_id": "3275013",
                                    "books_count": "125",
                                    "isbn": "142001740",
                                    "isbn13": "9780142001740",
                                    "authors": "Sue Monk Kidd",
                                    "original_publication_year": "2001",
                                    "original_title": "The Secret Life of Bees",
                                    "title": "The Secret Life of Bees",
                                    "language_code": "en-US",
                                    "average_rating": "4.01",
                                    "ratings_count": "916189",
                                    "work_ratings_count": "937393",
                                    "work_text_reviews_count": "26522",
                                    "ratings_1": "17500",
                                    "ratings_2": "45455",
                                    "ratings_3": "185631",
                                    "ratings_4": "347540",
                                    "ratings_5": "341267",
                                    "image_url": "https://images.gr-assets.com/books/1473454532m/37435.jpg",
                                    "small_image_url": "https://images.gr-assets.com/books/1473454532s/37435.jpg"
                                },
                                {
                                    "id": "58",
                                    "book_id": "2956",
                                    "best_book_id": "2956",
                                    "work_id": "1835605",
                                    "books_count": "2277",
                                    "isbn": "142437174",
                                    "isbn13": "9780142437180",
                                    "authors": "Mark Twain, John Seelye, Guy Cardwell",
                                    "original_publication_year": "1884",
                                    "original_title": "The Adventures of Huckleberry Finn",
                                    "title": "The Adventures of Huckleberry Finn",
                                    "language_code": "eng",
                                    "average_rating": "3.8",
                                    "ratings_count": "953758",
                                    "work_ratings_count": "1001491",
                                    "work_text_reviews_count": "12448",
                                    "ratings_1": "28467",
                                    "ratings_2": "76630",
                                    "ratings_3": "255722",
                                    "ratings_4": "344356",
                                    "ratings_5": "296316",
                                    "image_url": "https://images.gr-assets.com/books/1405973850m/2956.jpg",
                                    "small_image_url": "https://images.gr-assets.com/books/1405973850s/2956.jpg"
                                },
                                {
                                    "id": "59",
                                    "book_id": "24178",
                                    "best_book_id": "24178",
                                    "work_id": "987048",
                                    "books_count": "180",
                                    "isbn": "64410935",
                                    "isbn13": "9780064410940",
                                    "authors": "E.B. White, Garth Williams, Rosemary Wells",
                                    "original_publication_year": "1952",
                                    "original_title": "Charlotte's Web",
                                    "title": "Charlotte's Web",
                                    "language_code": "eng",
                                    "average_rating": "4.15",
                                    "ratings_count": "1064521",
                                    "work_ratings_count": "1084842",
                                    "work_text_reviews_count": "13044",
                                    "ratings_1": "18450",
                                    "ratings_2": "41124",
                                    "ratings_3": "191415",
                                    "ratings_4": "346090",
                                    "ratings_5": "487763",
                                    "image_url": "https://images.gr-assets.com/books/1439632243m/24178.jpg",
                                    "small_image_url": "https://images.gr-assets.com/books/1439632243s/24178.jpg"
                                },
                                {
                                    "id": "60",
                                    "book_id": "1618",
                                    "best_book_id": "1618",
                                    "work_id": "4259809",
                                    "books_count": "183",
                                    "isbn": "1400032717",
                                    "isbn13": "9781400032720",
                                    "authors": "Mark Haddon",
                                    "original_publication_year": "2003",
                                    "original_title": "The Curious Incident of the Dog in the Night-Time",
                                    "title": "The Curious Incident of the Dog in the Night-Time",
                                    "language_code": "eng",
                                    "average_rating": "3.85",
                                    "ratings_count": "867553",
                                    "work_ratings_count": "915790",
                                    "work_text_reviews_count": "35796",
                                    "ratings_1": "21049",
                                    "ratings_2": "58117",
                                    "ratings_3": "218218",
                                    "ratings_4": "355925",
                                    "ratings_5": "262481",
                                    "image_url": "https://images.gr-assets.com/books/1479863624m/1618.jpg",
                                    "small_image_url": "https://images.gr-assets.com/books/1479863624s/1618.jpg"
                                },
                                {
                                    "id": "61",
                                    "book_id": "22557272",
                                    "best_book_id": "22557272",
                                    "work_id": "41107568",
                                    "books_count": "14",
                                    "isbn": "1594633665",
                                    "isbn13": "9781594633670",
                                    "authors": "Paula Hawkins",
                                    "original_publication_year": "2015",
                                    "original_title": "The Girl on the Train",
                                    "title": "The Girl on the Train",
                                    "language_code": "eng",
                                    "average_rating": "3.88",
                                    "ratings_count": "1008778",
                                    "work_ratings_count": "1226485",
                                    "work_text_reviews_count": "93600",
                                    "ratings_1": "27773",
                                    "ratings_2": "73897",
                                    "ratings_3": "273817",
                                    "ratings_4": "488447",
                                    "ratings_5": "362551",
                                    "image_url": "https://images.gr-assets.com/books/1490903702m/22557272.jpg",
                                    "small_image_url": "https://images.gr-assets.com/books/1490903702s/22557272.jpg"
                                },
                                {
                                    "id": "62",
                                    "book_id": "119322",
                                    "best_book_id": "119322",
                                    "work_id": "1536771",
                                    "books_count": "287",
                                    "isbn": "679879242",
                                    "isbn13": "9780679879240",
                                    "authors": "Philip Pullman",
                                    "original_publication_year": "1995",
                                    "original_title": "Northern Lights",
                                    "title": "The Golden Compass (His Dark Materials, #1)",
                                    "language_code": "eng",
                                    "average_rating": "3.94",
                                    "ratings_count": "953970",
                                    "work_ratings_count": "994914",
                                    "work_text_reviews_count": "14915",
                                    "ratings_1": "38382",
                                    "ratings_2": "64591",
                                    "ratings_3": "198764",
                                    "ratings_4": "313147",
                                    "ratings_5": "380030",
                                    "image_url": "https://images.gr-assets.com/books/1451271747m/119322.jpg",
                                    "small_image_url": "https://images.gr-assets.com/books/1451271747s/119322.jpg"
                                },
                                {
                                    "id": "324",
                                    "book_id": "16068905",
                                    "best_book_id": "16068905",
                                    "work_id": "21861351",
                                    "books_count": "80",
                                    "isbn": "NULL",
                                    "isbn13": "NULL",
                                    "authors": "Rainbow Rowell",
                                    "original_publication_year": "2013",
                                    "original_title": "NULL",
                                    "title": "Fangirl",
                                    "language_code": "eng",
                                    "average_rating": "4.12",
                                    "ratings_count": "340379",
                                    "work_ratings_count": "371730",
                                    "work_text_reviews_count": "39353",
                                    "ratings_1": "8626",
                                    "ratings_2": "16973",
                                    "ratings_3": "60097",
                                    "ratings_4": "121431",
                                    "ratings_5": "164603",
                                    "image_url": "https://images.gr-assets.com/books/1499565420m/16068905.jpg",
                                    "small_image_url": "https://images.gr-assets.com/books/1499565420s/16068905.jpg"
                                },
                                {
                                    "id": "63",
                                    "book_id": "6185",
                                    "best_book_id": "6185",
                                    "work_id": "1565818",
                                    "books_count": "2498",
                                    "isbn": "393978893",
                                    "isbn13": "9780393978900",
                                    "authors": "Emily Brontë, Richard J. Dunn",
                                    "original_publication_year": "1847",
                                    "original_title": "Wuthering Heights",
                                    "title": "Wuthering Heights",
                                    "language_code": "eng",
                                    "average_rating": "3.82",
                                    "ratings_count": "899195",
                                    "work_ratings_count": "1001135",
                                    "work_text_reviews_count": "26157",
                                    "ratings_1": "46469",
                                    "ratings_2": "84084",
                                    "ratings_3": "215320",
                                    "ratings_4": "309180",
                                    "ratings_5": "346082",
                                    "image_url": "https://s.gr-assets.com/assets/nophoto/book/111x148-bcc042a9c91a29c1d680899eff700a03.png",
                                    "small_image_url": "https://s.gr-assets.com/assets/nophoto/book/50x75-a91bf249278a81aabab721ef782c4a74.png"
                                },
                                {
                                    "id": "64",
                                    "book_id": "10917",
                                    "best_book_id": "10917",
                                    "work_id": "1639903",
                                    "books_count": "125",
                                    "isbn": "743454537",
                                    "isbn13": "9780743454540",
                                    "authors": "Jodi Picoult",
                                    "original_publication_year": "2004",
                                    "original_title": "My Sister's Keeper",
                                    "title": "My Sister's Keeper",
                                    "language_code": "eng",
                                    "average_rating": "4.06",
                                    "ratings_count": "863879",
                                    "work_ratings_count": "887880",
                                    "work_text_reviews_count": "30719",
                                    "ratings_1": "17547",
                                    "ratings_2": "42763",
                                    "ratings_3": "162573",
                                    "ratings_4": "314003",
                                    "ratings_5": "350994",
                                    "image_url": "https://images.gr-assets.com/books/1369504683m/10917.jpg",
                                    "small_image_url": "https://images.gr-assets.com/books/1369504683s/10917.jpg"
                                },
                                {
                                    "id": "65",
                                    "book_id": "4981",
                                    "best_book_id": "4981",
                                    "work_id": "1683562",
                                    "books_count": "241",
                                    "isbn": "385333846",
                                    "isbn13": "9780385333850",
                                    "authors": "Kurt Vonnegut Jr.",
                                    "original_publication_year": "1969",
                                    "original_title": "Slaughterhouse-Five, or The Children's Crusade: A Duty-Dance with Death ",
                                    "title": "Slaughterhouse-Five",
                                    "language_code": "eng",
                                    "average_rating": "4.06",
                                    "ratings_count": "846488",
                                    "work_ratings_count": "891762",
                                    "work_text_reviews_count": "19646",
                                    "ratings_1": "24964",
                                    "ratings_2": "45518",
                                    "ratings_3": "152442",
                                    "ratings_4": "300948",
                                    "ratings_5": "367890",
                                    "image_url": "https://images.gr-assets.com/books/1440319389m/4981.jpg",
                                    "small_image_url": "https://images.gr-assets.com/books/1440319389s/4981.jpg"
                                },
                                {
                                    "id": "66",
                                    "book_id": "18405",
                                    "best_book_id": "18405",
                                    "work_id": "3358283",
                                    "books_count": "409",
                                    "isbn": "446675539",
                                    "isbn13": "9780446675540",
                                    "authors": "Margaret Mitchell",
                                    "original_publication_year": "1936",
                                    "original_title": "Gone with the Wind",
                                    "title": "Gone with the Wind",
                                    "language_code": "eng",
                                    "average_rating": "4.28",
                                    "ratings_count": "873981",
                                    "work_ratings_count": "897303",
                                    "work_text_reviews_count": "16050",
                                    "ratings_1": "19996",
                                    "ratings_2": "33136",
                                    "ratings_3": "116160",
                                    "ratings_4": "234290",
                                    "ratings_5": "493721",
                                    "image_url": "https://images.gr-assets.com/books/1328025229m/18405.jpg",
                                    "small_image_url": "https://images.gr-assets.com/books/1328025229s/18405.jpg"
                                },
                                {
                                    "id": "67",
                                    "book_id": "128029",
                                    "best_book_id": "128029",
                                    "work_id": "3271379",
                                    "books_count": "197",
                                    "isbn": "1594489505",
                                    "isbn13": "9781594489500",
                                    "authors": "Khaled Hosseini",
                                    "original_publication_year": "2007",
                                    "original_title": "A Thousand Splendid Suns",
                                    "title": "A Thousand Splendid Suns",
                                    "language_code": "eng",
                                    "average_rating": "4.34",
                                    "ratings_count": "818742",
                                    "work_ratings_count": "866065",
                                    "work_text_reviews_count": "43645",
                                    "ratings_1": "6509",
                                    "ratings_2": "18015",
                                    "ratings_3": "99030",
                                    "ratings_4": "295817",
                                    "ratings_5": "446694",
                                    "image_url": "https://images.gr-assets.com/books/1345958969m/128029.jpg",
                                    "small_image_url": "https://images.gr-assets.com/books/1345958969s/128029.jpg"
                                },
                                {
                                    "id": "68",
                                    "book_id": "22628",
                                    "best_book_id": "22628",
                                    "work_id": "2236198",
                                    "books_count": "128",
                                    "isbn": "671027344",
                                    "isbn13": "9780671027350",
                                    "authors": "Stephen Chbosky",
                                    "original_publication_year": "1999",
                                    "original_title": "The Perks of Being a Wallflower",
                                    "title": "The Perks of Being a Wallflower",
                                    "language_code": "eng",
                                    "average_rating": "4.21",
                                    "ratings_count": "888806",
                                    "work_ratings_count": "954905",
                                    "work_text_reviews_count": "47116",
                                    "ratings_1": "14286",
                                    "ratings_2": "38658",
                                    "ratings_3": "143440",
                                    "ratings_4": "297501",
                                    "ratings_5": "461020",
                                    "image_url": "https://images.gr-assets.com/books/1167352178m/22628.jpg",
                                    "small_image_url": "https://images.gr-assets.com/books/1167352178s/22628.jpg"
                                },
                                {
                                    "id": "69",
                                    "book_id": "11735983",
                                    "best_book_id": "11735983",
                                    "work_id": "15524542",
                                    "books_count": "164",
                                    "isbn": "7442912",
                                    "isbn13": "9780007442910",
                                    "authors": "Veronica Roth",
                                    "original_publication_year": "2012",
                                    "original_title": "Insurgent",
                                    "title": "Insurgent (Divergent, #2)",
                                    "language_code": "eng",
                                    "average_rating": "4.07",
                                    "ratings_count": "836362",
                                    "work_ratings_count": "947338",
                                    "work_text_reviews_count": "55873",
                                    "ratings_1": "10641",
                                    "ratings_2": "44620",
                                    "ratings_3": "182131",
                                    "ratings_4": "339977",
                                    "ratings_5": "369969",
                                    "image_url": "https://images.gr-assets.com/books/1325667729m/11735983.jpg",
                                    "small_image_url": "https://images.gr-assets.com/books/1325667729s/11735983.jpg"
                                },
                                {
                                    "id": "70",
                                    "book_id": "375802",
                                    "best_book_id": "375802",
                                    "work_id": "2422333",
                                    "books_count": "224",
                                    "isbn": "812550706",
                                    "isbn13": "9780812550700",
                                    "authors": "Orson Scott Card",
                                    "original_publication_year": "1985",
                                    "original_title": "Ender's Game",
                                    "title": "Ender's Game (Ender's Saga, #1)",
                                    "language_code": "eng",
                                    "average_rating": "4.3",
                                    "ratings_count": "813439",
                                    "work_ratings_count": "873417",
                                    "work_text_reviews_count": "38054",
                                    "ratings_1": "15330",
                                    "ratings_2": "27612",
                                    "ratings_3": "103439",
                                    "ratings_4": "264207",
                                    "ratings_5": "462829",
                                    "image_url": "https://images.gr-assets.com/books/1408303130m/375802.jpg",
                                    "small_image_url": "https://images.gr-assets.com/books/1408303130s/375802.jpg"
                                },
                                {
                                    "id": "71",
                                    "book_id": "18490",
                                    "best_book_id": "18490",
                                    "work_id": "4836639",
                                    "books_count": "2618",
                                    "isbn": "141439475",
                                    "isbn13": "9780141439470",
                                    "authors": "Mary Wollstonecraft Shelley, Percy Bysshe Shelley, Maurice Hindle",
                                    "original_publication_year": "1818",
                                    "original_title": "Frankenstein; or, The Modern Prometheus",
                                    "title": "Frankenstein",
                                    "language_code": "eng",
                                    "average_rating": "3.75",
                                    "ratings_count": "808589",
                                    "work_ratings_count": "883563",
                                    "work_text_reviews_count": "19993",
                                    "ratings_1": "29366",
                                    "ratings_2": "74142",
                                    "ratings_3": "231022",
                                    "ratings_4": "300495",
                                    "ratings_5": "248538",
                                    "image_url": "https://images.gr-assets.com/books/1381512375m/18490.jpg",
                                    "small_image_url": "https://images.gr-assets.com/books/1381512375s/18490.jpg"
                                },
                                {
                                    "id": "72",
                                    "book_id": "11588",
                                    "best_book_id": "11588",
                                    "work_id": "849585",
                                    "books_count": "289",
                                    "isbn": "450040186",
                                    "isbn13": "9780450040180",
                                    "authors": "Stephen King",
                                    "original_publication_year": "1977",
                                    "original_title": "The Shining",
                                    "title": "The Shining (The Shining #1)",
                                    "language_code": "eng",
                                    "average_rating": "4.17",
                                    "ratings_count": "791850",
                                    "work_ratings_count": "830881",
                                    "work_text_reviews_count": "14936",
                                    "ratings_1": "18487",
                                    "ratings_2": "28981",
                                    "ratings_3": "123862",
                                    "ratings_4": "277393",
                                    "ratings_5": "382158",
                                    "image_url": "https://images.gr-assets.com/books/1353277730m/11588.jpg",
                                    "small_image_url": "https://images.gr-assets.com/books/1353277730s/11588.jpg"
                                },
                                {
                                    "id": "73",
                                    "book_id": "1656001",
                                    "best_book_id": "1656001",
                                    "work_id": "3328799",
                                    "books_count": "161",
                                    "isbn": "316068047",
                                    "isbn13": "9780316068050",
                                    "authors": "Stephenie Meyer",
                                    "original_publication_year": "2008",
                                    "original_title": "The Host",
                                    "title": "The Host (The Host, #1)",
                                    "language_code": "en-US",
                                    "average_rating": "3.84",
                                    "ratings_count": "749780",
                                    "work_ratings_count": "777560",
                                    "work_text_reviews_count": "39778",
                                    "ratings_1": "44215",
                                    "ratings_2": "62501",
                                    "ratings_3": "154906",
                                    "ratings_4": "227180",
                                    "ratings_5": "288758",
                                    "image_url": "https://images.gr-assets.com/books/1318009171m/1656001.jpg",
                                    "small_image_url": "https://images.gr-assets.com/books/1318009171s/1656001.jpg"
                                },
                                {
                                    "id": "74",
                                    "book_id": "99561",
                                    "best_book_id": "99561",
                                    "work_id": "919292",
                                    "books_count": "187",
                                    "isbn": "142402516",
                                    "isbn13": "9780142402510",
                                    "authors": "John Green",
                                    "original_publication_year": "2005",
                                    "original_title": "Looking for Alaska",
                                    "title": "Looking for Alaska",
                                    "language_code": "eng",
                                    "average_rating": "4.09",
                                    "ratings_count": "783470",
                                    "work_ratings_count": "831285",
                                    "work_text_reviews_count": "47128",
                                    "ratings_1": "16940",
                                    "ratings_2": "44232",
                                    "ratings_3": "147324",
                                    "ratings_4": "262932",
                                    "ratings_5": "359857",
                                    "image_url": "https://images.gr-assets.com/books/1394798630m/99561.jpg",
                                    "small_image_url": "https://images.gr-assets.com/books/1394798630s/99561.jpg"
                                },
                                {
                                    "id": "75",
                                    "book_id": "227443",
                                    "best_book_id": "227443",
                                    "work_id": "3185154",
                                    "books_count": "193",
                                    "isbn": "014028009X",
                                    "isbn13": "9780140280100",
                                    "authors": "Helen Fielding",
                                    "original_publication_year": "1996",
                                    "original_title": "NULL",
                                    "title": "Bridget Jones's Diary (Bridget Jones, #1)",
                                    "language_code": "eng",
                                    "average_rating": "3.75",
                                    "ratings_count": "736498",
                                    "work_ratings_count": "754498",
                                    "work_text_reviews_count": "8157",
                                    "ratings_1": "28973",
                                    "ratings_2": "59309",
                                    "ratings_3": "198555",
                                    "ratings_4": "254836",
                                    "ratings_5": "212825",
                                    "image_url": "https://images.gr-assets.com/books/1292060045m/227443.jpg",
                                    "small_image_url": "https://images.gr-assets.com/books/1292060045s/227443.jpg"
                                },
                                {
                                    "id": "76",
                                    "book_id": "14935",
                                    "best_book_id": "14935",
                                    "work_id": "2809709",
                                    "books_count": "1969",
                                    "isbn": "141439661",
                                    "isbn13": "9780141439660",
                                    "authors": "Jane Austen, Tony Tanner, Ros Ballaster",
                                    "original_publication_year": "1811",
                                    "original_title": "Sense and Sensibility",
                                    "title": "Sense and Sensibility",
                                    "language_code": "eng",
                                    "average_rating": "4.06",
                                    "ratings_count": "738894",
                                    "work_ratings_count": "779382",
                                    "work_text_reviews_count": "11526",
                                    "ratings_1": "18430",
                                    "ratings_2": "34699",
                                    "ratings_3": "141987",
                                    "ratings_4": "272512",
                                    "ratings_5": "311754",
                                    "image_url": "https://images.gr-assets.com/books/1397245675m/14935.jpg",
                                    "small_image_url": "https://images.gr-assets.com/books/1397245675s/14935.jpg"
                                },
                                {
                                    "id": "77",
                                    "book_id": "38709",
                                    "best_book_id": "38709",
                                    "work_id": "1679789",
                                    "books_count": "138",
                                    "isbn": "439244196",
                                    "isbn13": "9780439244190",
                                    "authors": "Louis Sachar, Louis Sachar",
                                    "original_publication_year": "1998",
                                    "original_title": "Holes",
                                    "title": "Holes (Holes, #1)",
                                    "language_code": "eng",
                                    "average_rating": "3.93",
                                    "ratings_count": "747445",
                                    "work_ratings_count": "764637",
                                    "work_text_reviews_count": "15832",
                                    "ratings_1": "15495",
                                    "ratings_2": "43786",
                                    "ratings_3": "176946",
                                    "ratings_4": "269153",
                                    "ratings_5": "259257",
                                    "image_url": "https://images.gr-assets.com/books/1327781893m/38709.jpg",
                                    "small_image_url": "https://images.gr-assets.com/books/1327781893s/38709.jpg"
                                },
                                {
                                    "id": "5616",
                                    "book_id": "23966",
                                    "best_book_id": "23966",
                                    "work_id": "1087344",
                                    "books_count": "51",
                                    "isbn": "393318680",
                                    "isbn13": "9780393318680",
                                    "authors": "Irvine Welsh",
                                    "original_publication_year": "1998",
                                    "original_title": "Filth",
                                    "title": "Filth",
                                    "language_code": "eng",
                                    "average_rating": "3.76",
                                    "ratings_count": "16162",
                                    "work_ratings_count": "17671",
                                    "work_text_reviews_count": "693",
                                    "ratings_1": "463",
                                    "ratings_2": "1351",
                                    "ratings_3": "4679",
                                    "ratings_4": "6637",
                                    "ratings_5": "4541",
                                    "image_url": "https://images.gr-assets.com/books/1452500604m/23966.jpg",
                                    "small_image_url": "https://images.gr-assets.com/books/1452500604s/23966.jpg"
                                },
                                {
                                    "id": "78",
                                    "book_id": "5139",
                                    "best_book_id": "5139",
                                    "work_id": "38765",
                                    "books_count": "129",
                                    "isbn": "307275558",
                                    "isbn13": "9780307275550",
                                    "authors": "Lauren Weisberger",
                                    "original_publication_year": "2003",
                                    "original_title": "The Devil Wears Prada",
                                    "title": "The Devil Wears Prada (The Devil Wears Prada, #1)",
                                    "language_code": "eng",
                                    "average_rating": "3.7",
                                    "ratings_count": "665930",
                                    "work_ratings_count": "679845",
                                    "work_text_reviews_count": "8024",
                                    "ratings_1": "24231",
                                    "ratings_2": "58323",
                                    "ratings_3": "192366",
                                    "ratings_4": "226675",
                                    "ratings_5": "178250",
                                    "image_url": "https://s.gr-assets.com/assets/nophoto/book/111x148-bcc042a9c91a29c1d680899eff700a03.png",
                                    "small_image_url": "https://s.gr-assets.com/assets/nophoto/book/50x75-a91bf249278a81aabab721ef782c4a74.png"
                                },
                                {
                                    "id": "79",
                                    "book_id": "1381",
                                    "best_book_id": "1381",
                                    "work_id": "3356006",
                                    "books_count": "1703",
                                    "isbn": "143039954",
                                    "isbn13": "9780143039950",
                                    "authors": "Homer, Robert Fagles, E.V. Rieu, Frédéric Mugler, Bernard Knox",
                                    "original_publication_year": "-720",
                                    "original_title": "Ὀδύσσεια",
                                    "title": "The Odyssey",
                                    "language_code": "eng",
                                    "average_rating": "3.73",
                                    "ratings_count": "670326",
                                    "work_ratings_count": "710757",
                                    "work_text_reviews_count": "8101",
                                    "ratings_1": "29703",
                                    "ratings_2": "65629",
                                    "ratings_3": "183082",
                                    "ratings_4": "224120",
                                    "ratings_5": "208223",
                                    "image_url": "https://images.gr-assets.com/books/1390173285m/1381.jpg",
                                    "small_image_url": "https://images.gr-assets.com/books/1390173285s/1381.jpg"
                                },
                                {
                                    "id": "80",
                                    "book_id": "157993",
                                    "best_book_id": "157993",
                                    "work_id": "2180358",
                                    "books_count": "1708",
                                    "isbn": "156012197",
                                    "isbn13": "9780156012200",
                                    "authors": "Antoine de Saint-Exupéry, Richard Howard, Dom Marcos Barbosa, Melina Karakosta",
                                    "original_publication_year": "1946",
                                    "original_title": "Le Petit Prince",
                                    "title": "The Little Prince",
                                    "language_code": "eng",
                                    "average_rating": "4.28",
                                    "ratings_count": "738757",
                                    "work_ratings_count": "859286",
                                    "work_text_reviews_count": "24537",
                                    "ratings_1": "15039",
                                    "ratings_2": "32866",
                                    "ratings_3": "114714",
                                    "ratings_4": "228440",
                                    "ratings_5": "468227",
                                    "image_url": "https://images.gr-assets.com/books/1367545443m/157993.jpg",
                                    "small_image_url": "https://images.gr-assets.com/books/1367545443s/157993.jpg"
                                },
                                {
                                    "id": "81",
                                    "book_id": "7445",
                                    "best_book_id": "7445",
                                    "work_id": "2944133",
                                    "books_count": "92",
                                    "isbn": "074324754X",
                                    "isbn13": "9780743247540",
                                    "authors": "Jeannette Walls",
                                    "original_publication_year": "2005",
                                    "original_title": "The Glass Castle",
                                    "title": "The Glass Castle",
                                    "language_code": "eng",
                                    "average_rating": "4.24",
                                    "ratings_count": "621099",
                                    "work_ratings_count": "637866",
                                    "work_text_reviews_count": "40777",
                                    "ratings_1": "7901",
                                    "ratings_2": "18922",
                                    "ratings_3": "85191",
                                    "ratings_4": "227750",
                                    "ratings_5": "298102",
                                    "image_url": "https://images.gr-assets.com/books/1400930557m/7445.jpg",
                                    "small_image_url": "https://images.gr-assets.com/books/1400930557s/7445.jpg"
                                },
                                {
                                    "id": "82",
                                    "book_id": "1845",
                                    "best_book_id": "1845",
                                    "work_id": "3284484",
                                    "books_count": "108",
                                    "isbn": "385486804",
                                    "isbn13": "9780385486800",
                                    "authors": "Jon Krakauer",
                                    "original_publication_year": "1996",
                                    "original_title": "Into the Wild",
                                    "title": "Into the Wild",
                                    "language_code": "eng",
                                    "average_rating": "3.94",
                                    "ratings_count": "647684",
                                    "work_ratings_count": "665377",
                                    "work_text_reviews_count": "17299",
                                    "ratings_1": "19229",
                                    "ratings_2": "35567",
                                    "ratings_3": "135199",
                                    "ratings_4": "248287",
                                    "ratings_5": "227095",
                                    "image_url": "https://images.gr-assets.com/books/1403173986m/1845.jpg",
                                    "small_image_url": "https://images.gr-assets.com/books/1403173986s/1845.jpg"
                                },
                                {
                                    "id": "83",
                                    "book_id": "1953",
                                    "best_book_id": "1953",
                                    "work_id": "2956372",
                                    "books_count": "525",
                                    "isbn": "141439602",
                                    "isbn13": "9780141439600",
                                    "authors": "Charles Dickens, Richard Maxwell, Hablot Knight Browne",
                                    "original_publication_year": "1859",
                                    "original_title": "A Tale of Two Cities",
                                    "title": "A Tale of Two Cities",
                                    "language_code": "eng",
                                    "average_rating": "3.81",
                                    "ratings_count": "637412",
                                    "work_ratings_count": "677713",
                                    "work_text_reviews_count": "13093",
                                    "ratings_1": "28904",
                                    "ratings_2": "55555",
                                    "ratings_3": "153305",
                                    "ratings_4": "216378",
                                    "ratings_5": "223571",
                                    "image_url": "https://images.gr-assets.com/books/1344922523m/1953.jpg",
                                    "small_image_url": "https://images.gr-assets.com/books/1344922523s/1953.jpg"
                                },
                                {
                                    "id": "84",
                                    "book_id": "7677",
                                    "best_book_id": "6424171",
                                    "work_id": "3376836",
                                    "books_count": "176",
                                    "isbn": "030734813X",
                                    "isbn13": "9780307348140",
                                    "authors": "Michael Crichton",
                                    "original_publication_year": "1990",
                                    "original_title": "Jurassic Park",
                                    "title": "Jurassic Park (Jurassic Park, #1)",
                                    "language_code": "spa",
                                    "average_rating": "3.96",
                                    "ratings_count": "447833",
                                    "work_ratings_count": "650483",
                                    "work_text_reviews_count": "8143",
                                    "ratings_1": "15736",
                                    "ratings_2": "34222",
                                    "ratings_3": "138327",
                                    "ratings_4": "231583",
                                    "ratings_5": "230615",
                                    "image_url": "https://s.gr-assets.com/assets/nophoto/book/111x148-bcc042a9c91a29c1d680899eff700a03.png",
                                    "small_image_url": "https://s.gr-assets.com/assets/nophoto/book/50x75-a91bf249278a81aabab721ef782c4a74.png"
                                },
                                {
                                    "id": "85",
                                    "book_id": "370493",
                                    "best_book_id": "370493",
                                    "work_id": "30530",
                                    "books_count": "81",
                                    "isbn": "60256656",
                                    "isbn13": "9780060256650",
                                    "authors": "Shel Silverstein",
                                    "original_publication_year": "1964",
                                    "original_title": "The Giving Tree",
                                    "title": "The Giving Tree",
                                    "language_code": "eng",
                                    "average_rating": "4.38",
                                    "ratings_count": "702332",
                                    "work_ratings_count": "708287",
                                    "work_text_reviews_count": "14368",
                                    "ratings_1": "15345",
                                    "ratings_2": "20408",
                                    "ratings_3": "76071",
                                    "ratings_4": "167542",
                                    "ratings_5": "428921",
                                    "image_url": "https://images.gr-assets.com/books/1174210942m/370493.jpg",
                                    "small_image_url": "https://images.gr-assets.com/books/1174210942s/370493.jpg"
                                },
                                {
                                    "id": "86",
                                    "book_id": "32542",
                                    "best_book_id": "32542",
                                    "work_id": "1804929",
                                    "books_count": "158",
                                    "isbn": "385338600",
                                    "isbn13": "9780385338610",
                                    "authors": "John Grisham",
                                    "original_publication_year": "1989",
                                    "original_title": "A Time to Kill",
                                    "title": "A Time to Kill",
                                    "language_code": "eng",
                                    "average_rating": "4.03",
                                    "ratings_count": "597775",
                                    "work_ratings_count": "608824",
                                    "work_text_reviews_count": "4239",
                                    "ratings_1": "12106",
                                    "ratings_2": "25938",
                                    "ratings_3": "122675",
                                    "ratings_4": "218617",
                                    "ratings_5": "229488",
                                    "image_url": "https://s.gr-assets.com/assets/nophoto/book/111x148-bcc042a9c91a29c1d680899eff700a03.png",
                                    "small_image_url": "https://s.gr-assets.com/assets/nophoto/book/50x75-a91bf249278a81aabab721ef782c4a74.png"
                                },
                                {
                                    "id": "87",
                                    "book_id": "1617",
                                    "best_book_id": "1617",
                                    "work_id": "265616",
                                    "books_count": "109",
                                    "isbn": "374500010",
                                    "isbn13": "9780374500020",
                                    "authors": "Elie Wiesel, Marion Wiesel",
                                    "original_publication_year": "1958",
                                    "original_title": "Un di Velt Hot Geshvign",
                                    "title": "Night (The Night Trilogy #1)",
                                    "language_code": "eng",
                                    "average_rating": "4.3",
                                    "ratings_count": "691231",
                                    "work_ratings_count": "707879",
                                    "work_text_reviews_count": "22001",
                                    "ratings_1": "7761",
                                    "ratings_2": "18539",
                                    "ratings_3": "90575",
                                    "ratings_4": "230227",
                                    "ratings_5": "360777",
                                    "image_url": "https://images.gr-assets.com/books/1473495285m/1617.jpg",
                                    "small_image_url": "https://images.gr-assets.com/books/1473495285s/1617.jpg"
                                },
                                {
                                    "id": "88",
                                    "book_id": "6442769",
                                    "best_book_id": "6442769",
                                    "work_id": "3364505",
                                    "books_count": "178",
                                    "isbn": "014241493X",
                                    "isbn13": "9780142414930",
                                    "authors": "John Green",
                                    "original_publication_year": "2008",
                                    "original_title": "Paper Towns",
                                    "title": "Paper Towns",
                                    "language_code": "en-US",
                                    "average_rating": "3.88",
                                    "ratings_count": "461311",
                                    "work_ratings_count": "655271",
                                    "work_text_reviews_count": "42717",
                                    "ratings_1": "14105",
                                    "ratings_2": "47183",
                                    "ratings_3": "154479",
                                    "ratings_4": "223895",
                                    "ratings_5": "215609",
                                    "image_url": "https://images.gr-assets.com/books/1349013610m/6442769.jpg",
                                    "small_image_url": "https://images.gr-assets.com/books/1349013610s/6442769.jpg"
                                },
                                {
                                    "id": "89",
                                    "book_id": "21787",
                                    "best_book_id": "21787",
                                    "work_id": "992628",
                                    "books_count": "129",
                                    "isbn": "345418263",
                                    "isbn13": "9780345418260",
                                    "authors": "William Goldman",
                                    "original_publication_year": "1973",
                                    "original_title": "The Princess Bride",
                                    "title": "The Princess Bride ",
                                    "language_code": "en-US",
                                    "average_rating": "4.25",
                                    "ratings_count": "628637",
                                    "work_ratings_count": "658042",
                                    "work_text_reviews_count": "15630",
                                    "ratings_1": "12883",
                                    "ratings_2": "21641",
                                    "ratings_3": "89236",
                                    "ratings_4": "196047",
                                    "ratings_5": "338235",
                                    "image_url": "https://images.gr-assets.com/books/1327903636m/21787.jpg",
                                    "small_image_url": "https://images.gr-assets.com/books/1327903636s/21787.jpg"
                                },
                                {
                                    "id": "90",
                                    "book_id": "231804",
                                    "best_book_id": "231804",
                                    "work_id": "1426690",
                                    "books_count": "156",
                                    "isbn": "014038572X",
                                    "isbn13": "9780140385720",
                                    "authors": "S.E. Hinton",
                                    "original_publication_year": "1967",
                                    "original_title": "The Outsiders",
                                    "title": "The Outsiders",
                                    "language_code": "en-US",
                                    "average_rating": "4.06",
                                    "ratings_count": "659248",
                                    "work_ratings_count": "680437",
                                    "work_text_reviews_count": "22662",
                                    "ratings_1": "10178",
                                    "ratings_2": "34346",
                                    "ratings_3": "134244",
                                    "ratings_4": "227250",
                                    "ratings_5": "274419",
                                    "image_url": "https://images.gr-assets.com/books/1442129426m/231804.jpg",
                                    "small_image_url": "https://images.gr-assets.com/books/1442129426s/231804.jpg"
                                },
                                {
                                    "id": "91",
                                    "book_id": "6186357",
                                    "best_book_id": "6186357",
                                    "work_id": "6366642",
                                    "books_count": "147",
                                    "isbn": "385737947",
                                    "isbn13": "9780385737940",
                                    "authors": "James Dashner",
                                    "original_publication_year": "2009",
                                    "original_title": "The Maze Runner",
                                    "title": "The Maze Runner (Maze Runner, #1)",
                                    "language_code": "eng",
                                    "average_rating": "4.02",
                                    "ratings_count": "719925",
                                    "work_ratings_count": "777956",
                                    "work_text_reviews_count": "48942",
                                    "ratings_1": "15291",
                                    "ratings_2": "43370",
                                    "ratings_3": "150488",
                                    "ratings_4": "266698",
                                    "ratings_5": "302109",
                                    "image_url": "https://images.gr-assets.com/books/1375596592m/6186357.jpg",
                                    "small_image_url": "https://images.gr-assets.com/books/1375596592s/6186357.jpg"
                                },
                                {
                                    "id": "92",
                                    "book_id": "1202",
                                    "best_book_id": "1202",
                                    "work_id": "5397",
                                    "books_count": "124",
                                    "isbn": "61234001",
                                    "isbn13": "9780061234000",
                                    "authors": "Steven D. Levitt, Stephen J. Dubner",
                                    "original_publication_year": "2005",
                                    "original_title": "Freakonomics: A Rogue Economist Explores the Hidden Side of Everything",
                                    "title": "Freakonomics: A Rogue Economist Explores the Hidden Side of Everything (Freakonomics, #1)",
                                    "language_code": "en-US",
                                    "average_rating": "3.93",
                                    "ratings_count": "524191",
                                    "work_ratings_count": "549301",
                                    "work_text_reviews_count": "13668",
                                    "ratings_1": "14586",
                                    "ratings_2": "26538",
                                    "ratings_3": "115789",
                                    "ratings_4": "216316",
                                    "ratings_5": "176072",
                                    "image_url": "https://images.gr-assets.com/books/1327909092m/1202.jpg",
                                    "small_image_url": "https://images.gr-assets.com/books/1327909092s/1202.jpg"
                                },
                                {
                                    "id": "93",
                                    "book_id": "2998",
                                    "best_book_id": "2998",
                                    "work_id": "3186437",
                                    "books_count": "1350",
                                    "isbn": "517189607",
                                    "isbn13": "9780517189600",
                                    "authors": "Frances Hodgson Burnett",
                                    "original_publication_year": "1911",
                                    "original_title": "The Secret Garden",
                                    "title": "The Secret Garden",
                                    "language_code": "eng",
                                    "average_rating": "4.12",
                                    "ratings_count": "639357",
                                    "work_ratings_count": "692249",
                                    "work_text_reviews_count": "13054",
                                    "ratings_1": "8005",
                                    "ratings_2": "25207",
                                    "ratings_3": "129646",
                                    "ratings_4": "243821",
                                    "ratings_5": "285570",
                                    "image_url": "https://images.gr-assets.com/books/1327873635m/2998.jpg",
                                    "small_image_url": "https://images.gr-assets.com/books/1327873635s/2998.jpg"
                                },
                                {
                                    "id": "94",
                                    "book_id": "320",
                                    "best_book_id": "320",
                                    "work_id": "3295655",
                                    "books_count": "555",
                                    "isbn": "60531045",
                                    "isbn13": "9780060531040",
                                    "authors": "Gabriel García Márquez, Gregory Rabassa",
                                    "original_publication_year": "1967",
                                    "original_title": "Cien años de soledad",
                                    "title": "One Hundred Years of Solitude",
                                    "language_code": "eng",
                                    "average_rating": "4.04",
                                    "ratings_count": "490565",
                                    "work_ratings_count": "575667",
                                    "work_text_reviews_count": "21671",
                                    "ratings_1": "27340",
                                    "ratings_2": "37646",
                                    "ratings_3": "87675",
                                    "ratings_4": "155809",
                                    "ratings_5": "267197",
                                    "image_url": "https://images.gr-assets.com/books/1327881361m/320.jpg",
                                    "small_image_url": "https://images.gr-assets.com/books/1327881361s/320.jpg"
                                },
                                {
                                    "id": "95",
                                    "book_id": "5297",
                                    "best_book_id": "5297",
                                    "work_id": "1858012",
                                    "books_count": "2303",
                                    "isbn": "375751513",
                                    "isbn13": "9780375751520",
                                    "authors": "Oscar Wilde, Jeffrey Eugenides",
                                    "original_publication_year": "1891",
                                    "original_title": "The Picture of Dorian Gray",
                                    "title": "The Picture of Dorian Gray",
                                    "language_code": "eng",
                                    "average_rating": "4.06",
                                    "ratings_count": "590014",
                                    "work_ratings_count": "674551",
                                    "work_text_reviews_count": "19647",
                                    "ratings_1": "9825",
                                    "ratings_2": "30735",
                                    "ratings_3": "129420",
                                    "ratings_4": "246892",
                                    "ratings_5": "257679",
                                    "image_url": "https://images.gr-assets.com/books/1424596966m/5297.jpg",
                                    "small_image_url": "https://images.gr-assets.com/books/1424596966s/5297.jpg"
                                },
                                {
                                    "id": "96",
                                    "book_id": "13536860",
                                    "best_book_id": "13536860",
                                    "work_id": "18034963",
                                    "books_count": "133",
                                    "isbn": "345803507",
                                    "isbn13": "9780345803500",
                                    "authors": "E.L. James",
                                    "original_publication_year": "2012",
                                    "original_title": "Fifty Shades Freed",
                                    "title": "Fifty Shades Freed (Fifty Shades, #3)",
                                    "language_code": "eng",
                                    "average_rating": "3.88",
                                    "ratings_count": "387290",
                                    "work_ratings_count": "610116",
                                    "work_text_reviews_count": "25287",
                                    "ratings_1": "39079",
                                    "ratings_2": "55691",
                                    "ratings_3": "109963",
                                    "ratings_4": "140304",
                                    "ratings_5": "265079",
                                    "image_url": "https://images.gr-assets.com/books/1336418837m/13536860.jpg",
                                    "small_image_url": "https://images.gr-assets.com/books/1336418837s/13536860.jpg"
                                },
                                {
                                    "id": "97",
                                    "book_id": "17245",
                                    "best_book_id": "17245",
                                    "work_id": "3165724",
                                    "books_count": "2207",
                                    "isbn": "393970124",
                                    "isbn13": "9780393970130",
                                    "authors": "Bram Stoker, Nina Auerbach, David J. Skal",
                                    "original_publication_year": "1897",
                                    "original_title": "Dracula",
                                    "title": "Dracula",
                                    "language_code": "eng",
                                    "average_rating": "3.98",
                                    "ratings_count": "618973",
                                    "work_ratings_count": "689739",
                                    "work_text_reviews_count": "17263",
                                    "ratings_1": "11756",
                                    "ratings_2": "36719",
                                    "ratings_3": "151396",
                                    "ratings_4": "246043",
                                    "ratings_5": "243825",
                                    "image_url": "https://images.gr-assets.com/books/1387151694m/17245.jpg",
                                    "small_image_url": "https://images.gr-assets.com/books/1387151694s/17245.jpg"
                                },
                                {
                                    "id": "98",
                                    "book_id": "5060378",
                                    "best_book_id": "5060378",
                                    "work_id": "6976108",
                                    "books_count": "209",
                                    "isbn": "307269981",
                                    "isbn13": "9780307269980",
                                    "authors": "Stieg Larsson, Reg Keeland",
                                    "original_publication_year": "2006",
                                    "original_title": "Flickan som lekte med elden",
                                    "title": "The Girl Who Played with Fire (Millennium, #2)",
                                    "language_code": "eng",
                                    "average_rating": "4.22",
                                    "ratings_count": "563994",
                                    "work_ratings_count": "649253",
                                    "work_text_reviews_count": "31423",
                                    "ratings_1": "4623",
                                    "ratings_2": "15781",
                                    "ratings_3": "91021",
                                    "ratings_4": "258236",
                                    "ratings_5": "279592",
                                    "image_url": "https://images.gr-assets.com/books/1351778881m/5060378.jpg",
                                    "small_image_url": "https://images.gr-assets.com/books/1351778881s/5060378.jpg"
                                }
                            ]
                        },
                        "text/html": [
                            "<table>",
                            "<tr><th>id</th><th>book_id</th><th>best_book_id</th><th>work_id</th><th>books_count</th><th>isbn</th><th>isbn13</th><th>authors</th><th>original_publication_year</th><th>original_title</th><th>title</th><th>language_code</th><th>average_rating</th><th>ratings_count</th><th>work_ratings_count</th><th>work_text_reviews_count</th><th>ratings_1</th><th>ratings_2</th><th>ratings_3</th><th>ratings_4</th><th>ratings_5</th><th>image_url</th><th>small_image_url</th></tr>",
                            "<tr><td>1</td><td>2767052</td><td>2767052</td><td>2792775</td><td>272</td><td>439023483</td><td>9780439023480</td><td>Suzanne Collins</td><td>2008</td><td>The Hunger Games</td><td>The Hunger Games (The Hunger Games, #1)</td><td>eng</td><td>4.34</td><td>4780653</td><td>4942365</td><td>155254</td><td>66715</td><td>127936</td><td>560092</td><td>1481305</td><td>2706317</td><td>https://images.gr-assets.com/books/1447303603m/2767052.jpg</td><td>https://images.gr-assets.com/books/1447303603s/2767052.jpg</td></tr>",
                            "<tr><td>2</td><td>3</td><td>3</td><td>4640799</td><td>491</td><td>439554934</td><td>9780439554930</td><td>J.K. Rowling, Mary GrandPré</td><td>1997</td><td>Harry Potter and the Philosopher's Stone</td><td>Harry Potter and the Sorcerer's Stone (Harry Potter, #1)</td><td>eng</td><td>4.44</td><td>4602479</td><td>4800065</td><td>75867</td><td>75504</td><td>101676</td><td>455024</td><td>1156318</td><td>3011543</td><td>https://images.gr-assets.com/books/1474154022m/3.jpg</td><td>https://images.gr-assets.com/books/1474154022s/3.jpg</td></tr>",
                            "<tr><td>3</td><td>41865</td><td>41865</td><td>3212258</td><td>226</td><td>316015849</td><td>9780316015840</td><td>Stephenie Meyer</td><td>2005</td><td>Twilight</td><td>Twilight (Twilight, #1)</td><td>en-US</td><td>3.57</td><td>3866839</td><td>3916824</td><td>95009</td><td>456191</td><td>436802</td><td>793319</td><td>875073</td><td>1355439</td><td>https://images.gr-assets.com/books/1361039443m/41865.jpg</td><td>https://images.gr-assets.com/books/1361039443s/41865.jpg</td></tr>",
                            "<tr><td>4</td><td>2657</td><td>2657</td><td>3275794</td><td>487</td><td>61120081</td><td>9780061120080</td><td>Harper Lee</td><td>1960</td><td>To Kill a Mockingbird</td><td>To Kill a Mockingbird</td><td>eng</td><td>4.25</td><td>3198671</td><td>3340896</td><td>72586</td><td>60427</td><td>117415</td><td>446835</td><td>1001952</td><td>1714267</td><td>https://images.gr-assets.com/books/1361975680m/2657.jpg</td><td>https://images.gr-assets.com/books/1361975680s/2657.jpg</td></tr>",
                            "<tr><td>5</td><td>4671</td><td>4671</td><td>245494</td><td>1356</td><td>743273567</td><td>9780743273560</td><td>F. Scott Fitzgerald</td><td>1925</td><td>The Great Gatsby</td><td>The Great Gatsby</td><td>eng</td><td>3.89</td><td>2683664</td><td>2773745</td><td>51992</td><td>86236</td><td>197621</td><td>606158</td><td>936012</td><td>947718</td><td>https://images.gr-assets.com/books/1490528560m/4671.jpg</td><td>https://images.gr-assets.com/books/1490528560s/4671.jpg</td></tr>",
                            "<tr><td>6</td><td>11870085</td><td>11870085</td><td>16827462</td><td>226</td><td>525478817</td><td>9780525478810</td><td>John Green</td><td>2012</td><td>The Fault in Our Stars</td><td>The Fault in Our Stars</td><td>eng</td><td>4.26</td><td>2346404</td><td>2478609</td><td>140739</td><td>47994</td><td>92723</td><td>327550</td><td>698471</td><td>1311871</td><td>https://images.gr-assets.com/books/1360206420m/11870085.jpg</td><td>https://images.gr-assets.com/books/1360206420s/11870085.jpg</td></tr>",
                            "<tr><td>7</td><td>5907</td><td>5907</td><td>1540236</td><td>969</td><td>618260307</td><td>9780618260300</td><td>J.R.R. Tolkien</td><td>1937</td><td>The Hobbit or There and Back Again</td><td>The Hobbit</td><td>en-US</td><td>4.25</td><td>2071616</td><td>2196809</td><td>37653</td><td>46023</td><td>76784</td><td>288649</td><td>665635</td><td>1119718</td><td>https://images.gr-assets.com/books/1372847500m/5907.jpg</td><td>https://images.gr-assets.com/books/1372847500s/5907.jpg</td></tr>",
                            "<tr><td>8</td><td>5107</td><td>5107</td><td>3036731</td><td>360</td><td>316769177</td><td>9780316769170</td><td>J.D. Salinger</td><td>1951</td><td>The Catcher in the Rye</td><td>The Catcher in the Rye</td><td>eng</td><td>3.79</td><td>2044241</td><td>2120637</td><td>44920</td><td>109383</td><td>185520</td><td>455042</td><td>661516</td><td>709176</td><td>https://images.gr-assets.com/books/1398034300m/5107.jpg</td><td>https://images.gr-assets.com/books/1398034300s/5107.jpg</td></tr>",
                            "<tr><td>9</td><td>960</td><td>960</td><td>3338963</td><td>311</td><td>1416524797</td><td>9781416524790</td><td>Dan Brown</td><td>2000</td><td>Angels &amp; Demons </td><td>Angels &amp; Demons  (Robert Langdon, #1)</td><td>en-CA</td><td>3.85</td><td>2001311</td><td>2078754</td><td>25112</td><td>77841</td><td>145740</td><td>458429</td><td>716569</td><td>680175</td><td>https://images.gr-assets.com/books/1303390735m/960.jpg</td><td>https://images.gr-assets.com/books/1303390735s/960.jpg</td></tr>",
                            "<tr><td>10</td><td>1885</td><td>1885</td><td>3060926</td><td>3455</td><td>679783261</td><td>9780679783270</td><td>Jane Austen</td><td>1813</td><td>Pride and Prejudice</td><td>Pride and Prejudice</td><td>eng</td><td>4.24</td><td>2035490</td><td>2191465</td><td>49152</td><td>54700</td><td>86485</td><td>284852</td><td>609755</td><td>1155673</td><td>https://images.gr-assets.com/books/1320399351m/1885.jpg</td><td>https://images.gr-assets.com/books/1320399351s/1885.jpg</td></tr>",
                            "<tr><td>11</td><td>77203</td><td>77203</td><td>3295919</td><td>283</td><td>1594480001</td><td>9781594480000</td><td>Khaled Hosseini</td><td>2003</td><td>The Kite Runner </td><td>The Kite Runner</td><td>eng</td><td>4.26</td><td>1813044</td><td>1878095</td><td>59730</td><td>34288</td><td>59980</td><td>226062</td><td>628174</td><td>929591</td><td>https://images.gr-assets.com/books/1484565687m/77203.jpg</td><td>https://images.gr-assets.com/books/1484565687s/77203.jpg</td></tr>",
                            "<tr><td>12</td><td>13335037</td><td>13335037</td><td>13155899</td><td>210</td><td>62024035</td><td>9780062024040</td><td>Veronica Roth</td><td>2011</td><td>Divergent</td><td>Divergent (Divergent, #1)</td><td>eng</td><td>4.24</td><td>1903563</td><td>2216814</td><td>101023</td><td>36315</td><td>82870</td><td>310297</td><td>673028</td><td>1114304</td><td>https://images.gr-assets.com/books/1328559506m/13335037.jpg</td><td>https://images.gr-assets.com/books/1328559506s/13335037.jpg</td></tr>",
                            "<tr><td>13</td><td>5470</td><td>5470</td><td>153313</td><td>995</td><td>451524934</td><td>9780451524940</td><td>George Orwell, Erich Fromm, Celâl Üster</td><td>1949</td><td>Nineteen Eighty-Four</td><td>1984</td><td>eng</td><td>4.14</td><td>1956832</td><td>2053394</td><td>45518</td><td>41845</td><td>86425</td><td>324874</td><td>692021</td><td>908229</td><td>https://images.gr-assets.com/books/1348990566m/5470.jpg</td><td>https://images.gr-assets.com/books/1348990566s/5470.jpg</td></tr>",
                            "<tr><td>14</td><td>7613</td><td>7613</td><td>2207778</td><td>896</td><td>452284244</td><td>9780452284240</td><td>George Orwell</td><td>1945</td><td>Animal Farm: A Fairy Story</td><td>Animal Farm</td><td>eng</td><td>3.87</td><td>1881700</td><td>1982987</td><td>35472</td><td>66854</td><td>135147</td><td>433432</td><td>698642</td><td>648912</td><td>https://images.gr-assets.com/books/1424037542m/7613.jpg</td><td>https://images.gr-assets.com/books/1424037542s/7613.jpg</td></tr>",
                            "<tr><td>15</td><td>48855</td><td>48855</td><td>3532896</td><td>710</td><td>553296981</td><td>9780553296980</td><td>Anne Frank, Eleanor Roosevelt, B.M. Mooyaart-Doubleday</td><td>1947</td><td>Het Achterhuis: Dagboekbrieven 14 juni 1942 - 1 augustus 1944</td><td>The Diary of a Young Girl</td><td>eng</td><td>4.1</td><td>1972666</td><td>2024493</td><td>20825</td><td>45225</td><td>91270</td><td>355756</td><td>656870</td><td>875372</td><td>https://images.gr-assets.com/books/1358276407m/48855.jpg</td><td>https://images.gr-assets.com/books/1358276407s/48855.jpg</td></tr>",
                            "<tr><td>16</td><td>2429135</td><td>2429135</td><td>1708725</td><td>274</td><td>307269752</td><td>9780307269750</td><td>Stieg Larsson, Reg Keeland</td><td>2005</td><td>Män som hatar kvinnor</td><td>The Girl with the Dragon Tattoo (Millennium, #1)</td><td>eng</td><td>4.11</td><td>1808403</td><td>1929834</td><td>62543</td><td>54835</td><td>86051</td><td>285413</td><td>667485</td><td>836050</td><td>https://images.gr-assets.com/books/1327868566m/2429135.jpg</td><td>https://images.gr-assets.com/books/1327868566s/2429135.jpg</td></tr>",
                            "<tr><td>17</td><td>6148028</td><td>6148028</td><td>6171458</td><td>201</td><td>439023491</td><td>9780439023500</td><td>Suzanne Collins</td><td>2009</td><td>Catching Fire</td><td>Catching Fire (The Hunger Games, #2)</td><td>eng</td><td>4.3</td><td>1831039</td><td>1988079</td><td>88538</td><td>10492</td><td>48030</td><td>262010</td><td>687238</td><td>980309</td><td>https://images.gr-assets.com/books/1358273780m/6148028.jpg</td><td>https://images.gr-assets.com/books/1358273780s/6148028.jpg</td></tr>",
                            "<tr><td>18</td><td>5</td><td>5</td><td>2402163</td><td>376</td><td>043965548X</td><td>9780439655480</td><td>J.K. Rowling, Mary GrandPré, Rufus Beck</td><td>1999</td><td>Harry Potter and the Prisoner of Azkaban</td><td>Harry Potter and the Prisoner of Azkaban (Harry Potter, #3)</td><td>eng</td><td>4.53</td><td>1832823</td><td>1969375</td><td>36099</td><td>6716</td><td>20413</td><td>166129</td><td>509447</td><td>1266670</td><td>https://images.gr-assets.com/books/1499277281m/5.jpg</td><td>https://images.gr-assets.com/books/1499277281s/5.jpg</td></tr>",
                            "<tr><td>19</td><td>34</td><td>34</td><td>3204327</td><td>566</td><td>618346252</td><td>9780618346260</td><td>J.R.R. Tolkien</td><td>1954</td><td>The Fellowship of the Ring</td><td>The Fellowship of the Ring (The Lord of the Rings, #1)</td><td>eng</td><td>4.34</td><td>1766803</td><td>1832541</td><td>15333</td><td>38031</td><td>55862</td><td>202332</td><td>493922</td><td>1042394</td><td>https://images.gr-assets.com/books/1298411339m/34.jpg</td><td>https://images.gr-assets.com/books/1298411339s/34.jpg</td></tr>",
                            "<tr><td>20</td><td>7260188</td><td>7260188</td><td>8812783</td><td>239</td><td>439023513</td><td>9780439023510</td><td>Suzanne Collins</td><td>2010</td><td>Mockingjay</td><td>Mockingjay (The Hunger Games, #3)</td><td>eng</td><td>4.03</td><td>1719760</td><td>1870748</td><td>96274</td><td>30144</td><td>110498</td><td>373060</td><td>618271</td><td>738775</td><td>https://images.gr-assets.com/books/1358275419m/7260188.jpg</td><td>https://images.gr-assets.com/books/1358275419s/7260188.jpg</td></tr>",
                            "<tr><td>21</td><td>2</td><td>2</td><td>2809203</td><td>307</td><td>439358078</td><td>9780439358070</td><td>J.K. Rowling, Mary GrandPré</td><td>2003</td><td>Harry Potter and the Order of the Phoenix</td><td>Harry Potter and the Order of the Phoenix (Harry Potter, #5)</td><td>eng</td><td>4.46</td><td>1735368</td><td>1840548</td><td>28685</td><td>9528</td><td>31577</td><td>180210</td><td>494427</td><td>1124806</td><td>https://images.gr-assets.com/books/1387141547m/2.jpg</td><td>https://images.gr-assets.com/books/1387141547s/2.jpg</td></tr>",
                            "<tr><td>22</td><td>12232938</td><td>12232938</td><td>1145090</td><td>183</td><td>316166685</td><td>9780316166680</td><td>Alice Sebold</td><td>2002</td><td>The Lovely Bones</td><td>The Lovely Bones</td><td>eng</td><td>3.77</td><td>1605173</td><td>1661562</td><td>36642</td><td>62777</td><td>131188</td><td>404699</td><td>583575</td><td>479323</td><td>https://images.gr-assets.com/books/1457810586m/12232938.jpg</td><td>https://images.gr-assets.com/books/1457810586s/12232938.jpg</td></tr>",
                            "<tr><td>23</td><td>15881</td><td>15881</td><td>6231171</td><td>398</td><td>439064864</td><td>9780439064870</td><td>J.K. Rowling, Mary GrandPré</td><td>1998</td><td>Harry Potter and the Chamber of Secrets</td><td>Harry Potter and the Chamber of Secrets (Harry Potter, #2)</td><td>eng</td><td>4.37</td><td>1779331</td><td>1906199</td><td>34172</td><td>8253</td><td>42251</td><td>242345</td><td>548266</td><td>1065084</td><td>https://images.gr-assets.com/books/1474169725m/15881.jpg</td><td>https://images.gr-assets.com/books/1474169725s/15881.jpg</td></tr>",
                            "<tr><td>24</td><td>6</td><td>6</td><td>3046572</td><td>332</td><td>439139600</td><td>9780439139600</td><td>J.K. Rowling, Mary GrandPré</td><td>2000</td><td>Harry Potter and the Goblet of Fire</td><td>Harry Potter and the Goblet of Fire (Harry Potter, #4)</td><td>eng</td><td>4.53</td><td>1753043</td><td>1868642</td><td>31084</td><td>6676</td><td>20210</td><td>151785</td><td>494926</td><td>1195045</td><td>https://images.gr-assets.com/books/1361482611m/6.jpg</td><td>https://images.gr-assets.com/books/1361482611s/6.jpg</td></tr>",
                            "<tr><td>25</td><td>136251</td><td>136251</td><td>2963218</td><td>263</td><td>545010225</td><td>9780545010220</td><td>J.K. Rowling, Mary GrandPré</td><td>2007</td><td>Harry Potter and the Deathly Hallows</td><td>Harry Potter and the Deathly Hallows (Harry Potter, #7)</td><td>eng</td><td>4.61</td><td>1746574</td><td>1847395</td><td>51942</td><td>9363</td><td>22245</td><td>113646</td><td>383914</td><td>1318227</td><td>https://images.gr-assets.com/books/1474171184m/136251.jpg</td><td>https://images.gr-assets.com/books/1474171184s/136251.jpg</td></tr>",
                            "<tr><td>26</td><td>968</td><td>968</td><td>2982101</td><td>350</td><td>307277674</td><td>9780307277670</td><td>Dan Brown</td><td>2003</td><td>The Da Vinci Code</td><td>The Da Vinci Code (Robert Langdon, #2)</td><td>eng</td><td>3.79</td><td>1447148</td><td>1557292</td><td>41560</td><td>71345</td><td>126493</td><td>340790</td><td>539277</td><td>479387</td><td>https://images.gr-assets.com/books/1303252999m/968.jpg</td><td>https://images.gr-assets.com/books/1303252999s/968.jpg</td></tr>",
                            "<tr><td>27</td><td>1</td><td>1</td><td>41335427</td><td>275</td><td>439785960</td><td>9780439785970</td><td>J.K. Rowling, Mary GrandPré</td><td>2005</td><td>Harry Potter and the Half-Blood Prince</td><td>Harry Potter and the Half-Blood Prince (Harry Potter, #6)</td><td>eng</td><td>4.54</td><td>1678823</td><td>1785676</td><td>27520</td><td>7308</td><td>21516</td><td>136333</td><td>459028</td><td>1161491</td><td>https://images.gr-assets.com/books/1361039191m/1.jpg</td><td>https://images.gr-assets.com/books/1361039191s/1.jpg</td></tr>",
                            "<tr><td>28</td><td>7624</td><td>7624</td><td>2766512</td><td>458</td><td>140283331</td><td>9780140283330</td><td>William Golding</td><td>1954</td><td>Lord of the Flies </td><td>Lord of the Flies</td><td>eng</td><td>3.64</td><td>1605019</td><td>1671484</td><td>26886</td><td>92779</td><td>160295</td><td>425648</td><td>564916</td><td>427846</td><td>https://images.gr-assets.com/books/1327869409m/7624.jpg</td><td>https://images.gr-assets.com/books/1327869409s/7624.jpg</td></tr>",
                            "<tr><td>29</td><td>18135</td><td>18135</td><td>3349450</td><td>1937</td><td>743477111</td><td>9780743477120</td><td>William Shakespeare, Robert           Jackson</td><td>1595</td><td>An Excellent conceited Tragedie of Romeo and Juliet</td><td>Romeo and Juliet</td><td>eng</td><td>3.73</td><td>1628519</td><td>1672889</td><td>14778</td><td>57980</td><td>153179</td><td>452673</td><td>519822</td><td>489235</td><td>https://images.gr-assets.com/books/1327872146m/18135.jpg</td><td>https://images.gr-assets.com/books/1327872146s/18135.jpg</td></tr>",
                            "<tr><td>30</td><td>8442457</td><td>19288043</td><td>13306276</td><td>196</td><td>297859382</td><td>9780297859380</td><td>Gillian Flynn</td><td>2012</td><td>Gone Girl</td><td>Gone Girl</td><td>eng</td><td>4.03</td><td>512475</td><td>1626519</td><td>121614</td><td>38874</td><td>80807</td><td>280331</td><td>616031</td><td>610476</td><td>https://images.gr-assets.com/books/1339602131m/8442457.jpg</td><td>https://images.gr-assets.com/books/1339602131s/8442457.jpg</td></tr>",
                            "<tr><td>31</td><td>4667024</td><td>4667024</td><td>4717423</td><td>183</td><td>399155341</td><td>9780399155340</td><td>Kathryn Stockett</td><td>2009</td><td>The Help</td><td>The Help</td><td>eng</td><td>4.45</td><td>1531753</td><td>1603545</td><td>78204</td><td>10235</td><td>25117</td><td>134887</td><td>490754</td><td>942552</td><td>https://images.gr-assets.com/books/1346100365m/4667024.jpg</td><td>https://images.gr-assets.com/books/1346100365s/4667024.jpg</td></tr>",
                            "<tr><td>32</td><td>890</td><td>890</td><td>40283</td><td>373</td><td>142000671</td><td>9780142000670</td><td>John Steinbeck</td><td>1937</td><td>Of Mice and Men </td><td>Of Mice and Men</td><td>eng</td><td>3.84</td><td>1467496</td><td>1518741</td><td>24642</td><td>46630</td><td>110856</td><td>355169</td><td>532291</td><td>473795</td><td>https://images.gr-assets.com/books/1437235233m/890.jpg</td><td>https://images.gr-assets.com/books/1437235233s/890.jpg</td></tr>",
                            "<tr><td>33</td><td>930</td><td>929</td><td>1558965</td><td>220</td><td>739326228</td><td>9780739326220</td><td>Arthur Golden</td><td>1997</td><td>Memoirs of a Geisha</td><td>Memoirs of a Geisha</td><td>eng</td><td>4.08</td><td>1300209</td><td>1418172</td><td>25605</td><td>23500</td><td>59033</td><td>258700</td><td>517157</td><td>559782</td><td>https://s.gr-assets.com/assets/nophoto/book/111x148-bcc042a9c91a29c1d680899eff700a03.png</td><td>https://s.gr-assets.com/assets/nophoto/book/50x75-a91bf249278a81aabab721ef782c4a74.png</td></tr>",
                            "<tr><td>34</td><td>10818853</td><td>10818853</td><td>15732562</td><td>169</td><td>1612130291</td><td>9781612130290</td><td>E.L. James</td><td>2011</td><td>Fifty Shades of Grey</td><td>Fifty Shades of Grey (Fifty Shades, #1)</td><td>eng</td><td>3.67</td><td>1338493</td><td>1436818</td><td>75437</td><td>165455</td><td>152293</td><td>252185</td><td>294976</td><td>571909</td><td>https://images.gr-assets.com/books/1385207843m/10818853.jpg</td><td>https://images.gr-assets.com/books/1385207843s/10818853.jpg</td></tr>",
                            "<tr><td>35</td><td>865</td><td>865</td><td>4835472</td><td>458</td><td>61122416</td><td>9780061122420</td><td>Paulo Coelho, Alan R. Clarke</td><td>1988</td><td>O Alquimista</td><td>The Alchemist</td><td>eng</td><td>3.82</td><td>1299566</td><td>1403995</td><td>55781</td><td>74846</td><td>123614</td><td>289143</td><td>412180</td><td>504212</td><td>https://images.gr-assets.com/books/1483412266m/865.jpg</td><td>https://images.gr-assets.com/books/1483412266s/865.jpg</td></tr>",
                            "<tr><td>36</td><td>3636</td><td>3636</td><td>2543234</td><td>192</td><td>385732554</td><td>9780385732550</td><td>Lois Lowry</td><td>1993</td><td>The Giver</td><td>The Giver (The Giver, #1)</td><td>eng</td><td>4.12</td><td>1296825</td><td>1345445</td><td>54084</td><td>26497</td><td>59652</td><td>225326</td><td>448691</td><td>585279</td><td>https://images.gr-assets.com/books/1342493368m/3636.jpg</td><td>https://images.gr-assets.com/books/1342493368s/3636.jpg</td></tr>",
                            "<tr><td>37</td><td>100915</td><td>100915</td><td>4790821</td><td>474</td><td>60764899</td><td>9780060764890</td><td>C.S. Lewis</td><td>1950</td><td>The Lion, the Witch and the Wardrobe</td><td>The Lion, the Witch, and the Wardrobe (Chronicles of Narnia, #1)</td><td>eng</td><td>4.19</td><td>1531800</td><td>1584884</td><td>15186</td><td>19309</td><td>55542</td><td>262038</td><td>513366</td><td>734629</td><td>https://images.gr-assets.com/books/1353029077m/100915.jpg</td><td>https://images.gr-assets.com/books/1353029077s/100915.jpg</td></tr>",
                            "<tr><td>38</td><td>14050</td><td>18619684</td><td>2153746</td><td>167</td><td>965818675</td><td>9780965818670</td><td>Audrey Niffenegger</td><td>2003</td><td>The Time Traveler's Wife</td><td>The Time Traveler's Wife</td><td>eng</td><td>3.95</td><td>746287</td><td>1308667</td><td>43382</td><td>44339</td><td>85429</td><td>257805</td><td>427210</td><td>493884</td><td>https://images.gr-assets.com/books/1437728815m/14050.jpg</td><td>https://images.gr-assets.com/books/1437728815s/14050.jpg</td></tr>",
                            "<tr><td>39</td><td>13496</td><td>13496</td><td>1466917</td><td>101</td><td>553588486</td><td>9780553588480</td><td>George R.R. Martin</td><td>1996</td><td>A Game of Thrones</td><td>A Game of Thrones (A Song of Ice and Fire, #1)</td><td>eng</td><td>4.45</td><td>1319204</td><td>1442220</td><td>46205</td><td>19988</td><td>28983</td><td>114092</td><td>404583</td><td>874574</td><td>https://images.gr-assets.com/books/1436732693m/13496.jpg</td><td>https://images.gr-assets.com/books/1436732693s/13496.jpg</td></tr>",
                            "<tr><td>40</td><td>19501</td><td>19501</td><td>3352398</td><td>185</td><td>143038419</td><td>9780143038410</td><td>Elizabeth Gilbert</td><td>2006</td><td>Eat, pray, love: one woman's search for everything across Italy, India and Indonesia</td><td>Eat, Pray, Love</td><td>eng</td><td>3.51</td><td>1181647</td><td>1206597</td><td>49714</td><td>100373</td><td>149549</td><td>310212</td><td>332191</td><td>314272</td><td>https://images.gr-assets.com/books/1503066414m/19501.jpg</td><td>https://images.gr-assets.com/books/1503066414s/19501.jpg</td></tr>",
                            "<tr><td>41</td><td>28187</td><td>28187</td><td>3346751</td><td>159</td><td>786838655</td><td>9780786838650</td><td>Rick Riordan</td><td>2005</td><td>The Lightning Thief</td><td>The Lightning Thief (Percy Jackson and the Olympians, #1)</td><td>eng</td><td>4.23</td><td>1366265</td><td>1411114</td><td>46006</td><td>18303</td><td>48294</td><td>219638</td><td>435514</td><td>689365</td><td>https://images.gr-assets.com/books/1400602609m/28187.jpg</td><td>https://images.gr-assets.com/books/1400602609s/28187.jpg</td></tr>",
                            "<tr><td>42</td><td>1934</td><td>1934</td><td>3244642</td><td>1707</td><td>451529308</td><td>9780451529300</td><td>Louisa May Alcott</td><td>1868</td><td>Little Women</td><td>Little Women (Little Women, #1)</td><td>en-US</td><td>4.04</td><td>1257121</td><td>1314293</td><td>17090</td><td>31645</td><td>70011</td><td>250794</td><td>426280</td><td>535563</td><td>https://s.gr-assets.com/assets/nophoto/book/111x148-bcc042a9c91a29c1d680899eff700a03.png</td><td>https://s.gr-assets.com/assets/nophoto/book/50x75-a91bf249278a81aabab721ef782c4a74.png</td></tr>",
                            "<tr><td>43</td><td>10210</td><td>10210</td><td>2977639</td><td>2568</td><td>142437204</td><td>9780142437210</td><td>Charlotte Brontë, Michael Mason</td><td>1847</td><td>Jane Eyre</td><td>Jane Eyre</td><td>eng</td><td>4.1</td><td>1198557</td><td>1286135</td><td>31212</td><td>35132</td><td>64274</td><td>212294</td><td>400214</td><td>574221</td><td>https://images.gr-assets.com/books/1327867269m/10210.jpg</td><td>https://images.gr-assets.com/books/1327867269s/10210.jpg</td></tr>",
                            "<tr><td>44</td><td>15931</td><td>15931</td><td>1498135</td><td>190</td><td>553816713</td><td>9780553816720</td><td>Nicholas Sparks</td><td>1996</td><td>The Notebook</td><td>The Notebook (The Notebook, #1)</td><td>eng</td><td>4.06</td><td>1053403</td><td>1076749</td><td>17279</td><td>41395</td><td>63432</td><td>176469</td><td>298259</td><td>497194</td><td>https://images.gr-assets.com/books/1385738917m/15931.jpg</td><td>https://images.gr-assets.com/books/1385738917s/15931.jpg</td></tr>",
                            "<tr><td>45</td><td>4214</td><td>4214</td><td>1392700</td><td>264</td><td>770430074</td><td>9780770430080</td><td>Yann Martel</td><td>2001</td><td>Life of Pi</td><td>Life of Pi</td><td>NULL</td><td>3.88</td><td>1003228</td><td>1077431</td><td>42962</td><td>39768</td><td>74331</td><td>218702</td><td>384164</td><td>360466</td><td>https://images.gr-assets.com/books/1320562005m/4214.jpg</td><td>https://images.gr-assets.com/books/1320562005s/4214.jpg</td></tr>",
                            "<tr><td>46</td><td>43641</td><td>43641</td><td>3441236</td><td>128</td><td>1565125606</td><td>9781565125600</td><td>Sara Gruen</td><td>2006</td><td>Water for Elephants</td><td>Water for Elephants</td><td>eng</td><td>4.07</td><td>1068146</td><td>1108839</td><td>55732</td><td>16705</td><td>49832</td><td>200154</td><td>417328</td><td>424820</td><td>https://images.gr-assets.com/books/1494428973m/43641.jpg</td><td>https://images.gr-assets.com/books/1494428973s/43641.jpg</td></tr>",
                            "<tr><td>47</td><td>19063</td><td>19063</td><td>878368</td><td>251</td><td>375831002</td><td>9780375831000</td><td>Markus Zusak</td><td>2005</td><td>The Book Thief</td><td>The Book Thief</td><td>eng</td><td>4.36</td><td>1159741</td><td>1287798</td><td>93611</td><td>17892</td><td>35360</td><td>135272</td><td>377218</td><td>722056</td><td>https://images.gr-assets.com/books/1390053681m/19063.jpg</td><td>https://images.gr-assets.com/books/1390053681s/19063.jpg</td></tr>",
                            "<tr><td>48</td><td>4381</td><td>4381</td><td>1272463</td><td>507</td><td>307347974</td><td>9780307347980</td><td>Ray Bradbury</td><td>1953</td><td>Fahrenheit 451</td><td>Fahrenheit 451</td><td>spa</td><td>3.97</td><td>570498</td><td>1176240</td><td>30694</td><td>28366</td><td>64289</td><td>238242</td><td>426292</td><td>419051</td><td>https://images.gr-assets.com/books/1351643740m/4381.jpg</td><td>https://images.gr-assets.com/books/1351643740s/4381.jpg</td></tr>",
                            "<tr><td>49</td><td>49041</td><td>49041</td><td>3203964</td><td>194</td><td>316160199</td><td>9780316160190</td><td>Stephenie Meyer</td><td>2006</td><td>New Moon (Twilight, #2)</td><td>New Moon (Twilight, #2)</td><td>eng</td><td>3.52</td><td>1149630</td><td>1199000</td><td>44020</td><td>102837</td><td>160660</td><td>294207</td><td>290612</td><td>350684</td><td>https://images.gr-assets.com/books/1361039440m/49041.jpg</td><td>https://images.gr-assets.com/books/1361039440s/49041.jpg</td></tr>",
                            "<tr><td>50</td><td>30119</td><td>30119</td><td>30518</td><td>45</td><td>60513039</td><td>9780060513030</td><td>Shel Silverstein</td><td>1974</td><td>Where the Sidewalk Ends: The Poems and Drawings of Shel Silverstein</td><td>Where the Sidewalk Ends</td><td>eng</td><td>4.29</td><td>1016888</td><td>1023781</td><td>9234</td><td>16590</td><td>30792</td><td>139024</td><td>293222</td><td>544153</td><td>https://images.gr-assets.com/books/1168052448m/30119.jpg</td><td>https://images.gr-assets.com/books/1168052448s/30119.jpg</td></tr>",
                            "<tr><td>51</td><td>256683</td><td>256683</td><td>2267189</td><td>178</td><td>1416914285</td><td>9781416914280</td><td>Cassandra Clare</td><td>2007</td><td>City of Bones</td><td>City of Bones (The Mortal Instruments, #1)</td><td>eng</td><td>4.12</td><td>1154031</td><td>1241799</td><td>51589</td><td>34122</td><td>65349</td><td>203466</td><td>356048</td><td>582814</td><td>https://images.gr-assets.com/books/1432730315m/256683.jpg</td><td>https://images.gr-assets.com/books/1432730315s/256683.jpg</td></tr>",
                            "<tr><td>52</td><td>428263</td><td>428263</td><td>2675454</td><td>185</td><td>316160202</td><td>9780316160210</td><td>Stephenie Meyer</td><td>2007</td><td>Eclipse</td><td>Eclipse (Twilight, #3)</td><td>en-US</td><td>3.69</td><td>1134511</td><td>1176642</td><td>35216</td><td>83094</td><td>124293</td><td>260763</td><td>309358</td><td>399134</td><td>https://images.gr-assets.com/books/1361038355m/428263.jpg</td><td>https://images.gr-assets.com/books/1361038355s/428263.jpg</td></tr>",
                            "<tr><td>53</td><td>113436</td><td>113436</td><td>3178011</td><td>217</td><td>375826696</td><td>9780375826700</td><td>Christopher Paolini</td><td>2002</td><td>Eragon</td><td>Eragon (The Inheritance Cycle, #1)</td><td>en-US</td><td>3.86</td><td>1104021</td><td>1125231</td><td>18280</td><td>50563</td><td>88536</td><td>240157</td><td>337943</td><td>408032</td><td>https://images.gr-assets.com/books/1366212852m/113436.jpg</td><td>https://images.gr-assets.com/books/1366212852s/113436.jpg</td></tr>",
                            "<tr><td>54</td><td>11</td><td>386162</td><td>3078186</td><td>257</td><td>345391802</td><td>9780345391800</td><td>Douglas Adams</td><td>1979</td><td>The Hitchhiker's Guide to the Galaxy</td><td>The Hitchhiker's Guide to the Galaxy (Hitchhiker's Guide to the Galaxy, #1)</td><td>en-US</td><td>4.2</td><td>936782</td><td>1006479</td><td>20345</td><td>21764</td><td>41962</td><td>145173</td><td>299579</td><td>498001</td><td>https://images.gr-assets.com/books/1327656754m/11.jpg</td><td>https://images.gr-assets.com/books/1327656754s/11.jpg</td></tr>",
                            "<tr><td>55</td><td>5129</td><td>5129</td><td>3204877</td><td>515</td><td>60929871</td><td>9780060929880</td><td>Aldous Huxley</td><td>1932</td><td>Brave New World</td><td>Brave New World</td><td>eng</td><td>3.97</td><td>1022601</td><td>1079135</td><td>20095</td><td>26367</td><td>60328</td><td>219895</td><td>389379</td><td>383166</td><td>https://images.gr-assets.com/books/1487389574m/5129.jpg</td><td>https://images.gr-assets.com/books/1487389574s/5129.jpg</td></tr>",
                            "<tr><td>56</td><td>1162543</td><td>1162543</td><td>2960529</td><td>183</td><td>031606792X</td><td>9780316067930</td><td>Stephenie Meyer</td><td>2008</td><td>Breaking Dawn</td><td>Breaking Dawn (Twilight, #4)</td><td>en-US</td><td>3.7</td><td>1070245</td><td>1107709</td><td>44550</td><td>100994</td><td>114893</td><td>213402</td><td>267706</td><td>410714</td><td>https://images.gr-assets.com/books/1361039438m/1162543.jpg</td><td>https://images.gr-assets.com/books/1361039438s/1162543.jpg</td></tr>",
                            "<tr><td>57</td><td>37435</td><td>37435</td><td>3275013</td><td>125</td><td>142001740</td><td>9780142001740</td><td>Sue Monk Kidd</td><td>2001</td><td>The Secret Life of Bees</td><td>The Secret Life of Bees</td><td>en-US</td><td>4.01</td><td>916189</td><td>937393</td><td>26522</td><td>17500</td><td>45455</td><td>185631</td><td>347540</td><td>341267</td><td>https://images.gr-assets.com/books/1473454532m/37435.jpg</td><td>https://images.gr-assets.com/books/1473454532s/37435.jpg</td></tr>",
                            "<tr><td>58</td><td>2956</td><td>2956</td><td>1835605</td><td>2277</td><td>142437174</td><td>9780142437180</td><td>Mark Twain, John Seelye, Guy Cardwell</td><td>1884</td><td>The Adventures of Huckleberry Finn</td><td>The Adventures of Huckleberry Finn</td><td>eng</td><td>3.8</td><td>953758</td><td>1001491</td><td>12448</td><td>28467</td><td>76630</td><td>255722</td><td>344356</td><td>296316</td><td>https://images.gr-assets.com/books/1405973850m/2956.jpg</td><td>https://images.gr-assets.com/books/1405973850s/2956.jpg</td></tr>",
                            "<tr><td>59</td><td>24178</td><td>24178</td><td>987048</td><td>180</td><td>64410935</td><td>9780064410940</td><td>E.B. White, Garth Williams, Rosemary Wells</td><td>1952</td><td>Charlotte's Web</td><td>Charlotte's Web</td><td>eng</td><td>4.15</td><td>1064521</td><td>1084842</td><td>13044</td><td>18450</td><td>41124</td><td>191415</td><td>346090</td><td>487763</td><td>https://images.gr-assets.com/books/1439632243m/24178.jpg</td><td>https://images.gr-assets.com/books/1439632243s/24178.jpg</td></tr>",
                            "<tr><td>60</td><td>1618</td><td>1618</td><td>4259809</td><td>183</td><td>1400032717</td><td>9781400032720</td><td>Mark Haddon</td><td>2003</td><td>The Curious Incident of the Dog in the Night-Time</td><td>The Curious Incident of the Dog in the Night-Time</td><td>eng</td><td>3.85</td><td>867553</td><td>915790</td><td>35796</td><td>21049</td><td>58117</td><td>218218</td><td>355925</td><td>262481</td><td>https://images.gr-assets.com/books/1479863624m/1618.jpg</td><td>https://images.gr-assets.com/books/1479863624s/1618.jpg</td></tr>",
                            "<tr><td>61</td><td>22557272</td><td>22557272</td><td>41107568</td><td>14</td><td>1594633665</td><td>9781594633670</td><td>Paula Hawkins</td><td>2015</td><td>The Girl on the Train</td><td>The Girl on the Train</td><td>eng</td><td>3.88</td><td>1008778</td><td>1226485</td><td>93600</td><td>27773</td><td>73897</td><td>273817</td><td>488447</td><td>362551</td><td>https://images.gr-assets.com/books/1490903702m/22557272.jpg</td><td>https://images.gr-assets.com/books/1490903702s/22557272.jpg</td></tr>",
                            "<tr><td>62</td><td>119322</td><td>119322</td><td>1536771</td><td>287</td><td>679879242</td><td>9780679879240</td><td>Philip Pullman</td><td>1995</td><td>Northern Lights</td><td>The Golden Compass (His Dark Materials, #1)</td><td>eng</td><td>3.94</td><td>953970</td><td>994914</td><td>14915</td><td>38382</td><td>64591</td><td>198764</td><td>313147</td><td>380030</td><td>https://images.gr-assets.com/books/1451271747m/119322.jpg</td><td>https://images.gr-assets.com/books/1451271747s/119322.jpg</td></tr>",
                            "<tr><td>324</td><td>16068905</td><td>16068905</td><td>21861351</td><td>80</td><td>NULL</td><td>NULL</td><td>Rainbow Rowell</td><td>2013</td><td>NULL</td><td>Fangirl</td><td>eng</td><td>4.12</td><td>340379</td><td>371730</td><td>39353</td><td>8626</td><td>16973</td><td>60097</td><td>121431</td><td>164603</td><td>https://images.gr-assets.com/books/1499565420m/16068905.jpg</td><td>https://images.gr-assets.com/books/1499565420s/16068905.jpg</td></tr>",
                            "<tr><td>63</td><td>6185</td><td>6185</td><td>1565818</td><td>2498</td><td>393978893</td><td>9780393978900</td><td>Emily Brontë, Richard J. Dunn</td><td>1847</td><td>Wuthering Heights</td><td>Wuthering Heights</td><td>eng</td><td>3.82</td><td>899195</td><td>1001135</td><td>26157</td><td>46469</td><td>84084</td><td>215320</td><td>309180</td><td>346082</td><td>https://s.gr-assets.com/assets/nophoto/book/111x148-bcc042a9c91a29c1d680899eff700a03.png</td><td>https://s.gr-assets.com/assets/nophoto/book/50x75-a91bf249278a81aabab721ef782c4a74.png</td></tr>",
                            "<tr><td>64</td><td>10917</td><td>10917</td><td>1639903</td><td>125</td><td>743454537</td><td>9780743454540</td><td>Jodi Picoult</td><td>2004</td><td>My Sister's Keeper</td><td>My Sister's Keeper</td><td>eng</td><td>4.06</td><td>863879</td><td>887880</td><td>30719</td><td>17547</td><td>42763</td><td>162573</td><td>314003</td><td>350994</td><td>https://images.gr-assets.com/books/1369504683m/10917.jpg</td><td>https://images.gr-assets.com/books/1369504683s/10917.jpg</td></tr>",
                            "<tr><td>65</td><td>4981</td><td>4981</td><td>1683562</td><td>241</td><td>385333846</td><td>9780385333850</td><td>Kurt Vonnegut Jr.</td><td>1969</td><td>Slaughterhouse-Five, or The Children's Crusade: A Duty-Dance with Death </td><td>Slaughterhouse-Five</td><td>eng</td><td>4.06</td><td>846488</td><td>891762</td><td>19646</td><td>24964</td><td>45518</td><td>152442</td><td>300948</td><td>367890</td><td>https://images.gr-assets.com/books/1440319389m/4981.jpg</td><td>https://images.gr-assets.com/books/1440319389s/4981.jpg</td></tr>",
                            "<tr><td>66</td><td>18405</td><td>18405</td><td>3358283</td><td>409</td><td>446675539</td><td>9780446675540</td><td>Margaret Mitchell</td><td>1936</td><td>Gone with the Wind</td><td>Gone with the Wind</td><td>eng</td><td>4.28</td><td>873981</td><td>897303</td><td>16050</td><td>19996</td><td>33136</td><td>116160</td><td>234290</td><td>493721</td><td>https://images.gr-assets.com/books/1328025229m/18405.jpg</td><td>https://images.gr-assets.com/books/1328025229s/18405.jpg</td></tr>",
                            "<tr><td>67</td><td>128029</td><td>128029</td><td>3271379</td><td>197</td><td>1594489505</td><td>9781594489500</td><td>Khaled Hosseini</td><td>2007</td><td>A Thousand Splendid Suns</td><td>A Thousand Splendid Suns</td><td>eng</td><td>4.34</td><td>818742</td><td>866065</td><td>43645</td><td>6509</td><td>18015</td><td>99030</td><td>295817</td><td>446694</td><td>https://images.gr-assets.com/books/1345958969m/128029.jpg</td><td>https://images.gr-assets.com/books/1345958969s/128029.jpg</td></tr>",
                            "<tr><td>68</td><td>22628</td><td>22628</td><td>2236198</td><td>128</td><td>671027344</td><td>9780671027350</td><td>Stephen Chbosky</td><td>1999</td><td>The Perks of Being a Wallflower</td><td>The Perks of Being a Wallflower</td><td>eng</td><td>4.21</td><td>888806</td><td>954905</td><td>47116</td><td>14286</td><td>38658</td><td>143440</td><td>297501</td><td>461020</td><td>https://images.gr-assets.com/books/1167352178m/22628.jpg</td><td>https://images.gr-assets.com/books/1167352178s/22628.jpg</td></tr>",
                            "<tr><td>69</td><td>11735983</td><td>11735983</td><td>15524542</td><td>164</td><td>7442912</td><td>9780007442910</td><td>Veronica Roth</td><td>2012</td><td>Insurgent</td><td>Insurgent (Divergent, #2)</td><td>eng</td><td>4.07</td><td>836362</td><td>947338</td><td>55873</td><td>10641</td><td>44620</td><td>182131</td><td>339977</td><td>369969</td><td>https://images.gr-assets.com/books/1325667729m/11735983.jpg</td><td>https://images.gr-assets.com/books/1325667729s/11735983.jpg</td></tr>",
                            "<tr><td>70</td><td>375802</td><td>375802</td><td>2422333</td><td>224</td><td>812550706</td><td>9780812550700</td><td>Orson Scott Card</td><td>1985</td><td>Ender's Game</td><td>Ender's Game (Ender's Saga, #1)</td><td>eng</td><td>4.3</td><td>813439</td><td>873417</td><td>38054</td><td>15330</td><td>27612</td><td>103439</td><td>264207</td><td>462829</td><td>https://images.gr-assets.com/books/1408303130m/375802.jpg</td><td>https://images.gr-assets.com/books/1408303130s/375802.jpg</td></tr>",
                            "<tr><td>71</td><td>18490</td><td>18490</td><td>4836639</td><td>2618</td><td>141439475</td><td>9780141439470</td><td>Mary Wollstonecraft Shelley, Percy Bysshe Shelley, Maurice Hindle</td><td>1818</td><td>Frankenstein; or, The Modern Prometheus</td><td>Frankenstein</td><td>eng</td><td>3.75</td><td>808589</td><td>883563</td><td>19993</td><td>29366</td><td>74142</td><td>231022</td><td>300495</td><td>248538</td><td>https://images.gr-assets.com/books/1381512375m/18490.jpg</td><td>https://images.gr-assets.com/books/1381512375s/18490.jpg</td></tr>",
                            "<tr><td>72</td><td>11588</td><td>11588</td><td>849585</td><td>289</td><td>450040186</td><td>9780450040180</td><td>Stephen King</td><td>1977</td><td>The Shining</td><td>The Shining (The Shining #1)</td><td>eng</td><td>4.17</td><td>791850</td><td>830881</td><td>14936</td><td>18487</td><td>28981</td><td>123862</td><td>277393</td><td>382158</td><td>https://images.gr-assets.com/books/1353277730m/11588.jpg</td><td>https://images.gr-assets.com/books/1353277730s/11588.jpg</td></tr>",
                            "<tr><td>73</td><td>1656001</td><td>1656001</td><td>3328799</td><td>161</td><td>316068047</td><td>9780316068050</td><td>Stephenie Meyer</td><td>2008</td><td>The Host</td><td>The Host (The Host, #1)</td><td>en-US</td><td>3.84</td><td>749780</td><td>777560</td><td>39778</td><td>44215</td><td>62501</td><td>154906</td><td>227180</td><td>288758</td><td>https://images.gr-assets.com/books/1318009171m/1656001.jpg</td><td>https://images.gr-assets.com/books/1318009171s/1656001.jpg</td></tr>",
                            "<tr><td>74</td><td>99561</td><td>99561</td><td>919292</td><td>187</td><td>142402516</td><td>9780142402510</td><td>John Green</td><td>2005</td><td>Looking for Alaska</td><td>Looking for Alaska</td><td>eng</td><td>4.09</td><td>783470</td><td>831285</td><td>47128</td><td>16940</td><td>44232</td><td>147324</td><td>262932</td><td>359857</td><td>https://images.gr-assets.com/books/1394798630m/99561.jpg</td><td>https://images.gr-assets.com/books/1394798630s/99561.jpg</td></tr>",
                            "<tr><td>75</td><td>227443</td><td>227443</td><td>3185154</td><td>193</td><td>014028009X</td><td>9780140280100</td><td>Helen Fielding</td><td>1996</td><td>NULL</td><td>Bridget Jones's Diary (Bridget Jones, #1)</td><td>eng</td><td>3.75</td><td>736498</td><td>754498</td><td>8157</td><td>28973</td><td>59309</td><td>198555</td><td>254836</td><td>212825</td><td>https://images.gr-assets.com/books/1292060045m/227443.jpg</td><td>https://images.gr-assets.com/books/1292060045s/227443.jpg</td></tr>",
                            "<tr><td>76</td><td>14935</td><td>14935</td><td>2809709</td><td>1969</td><td>141439661</td><td>9780141439660</td><td>Jane Austen, Tony Tanner, Ros Ballaster</td><td>1811</td><td>Sense and Sensibility</td><td>Sense and Sensibility</td><td>eng</td><td>4.06</td><td>738894</td><td>779382</td><td>11526</td><td>18430</td><td>34699</td><td>141987</td><td>272512</td><td>311754</td><td>https://images.gr-assets.com/books/1397245675m/14935.jpg</td><td>https://images.gr-assets.com/books/1397245675s/14935.jpg</td></tr>",
                            "<tr><td>77</td><td>38709</td><td>38709</td><td>1679789</td><td>138</td><td>439244196</td><td>9780439244190</td><td>Louis Sachar, Louis Sachar</td><td>1998</td><td>Holes</td><td>Holes (Holes, #1)</td><td>eng</td><td>3.93</td><td>747445</td><td>764637</td><td>15832</td><td>15495</td><td>43786</td><td>176946</td><td>269153</td><td>259257</td><td>https://images.gr-assets.com/books/1327781893m/38709.jpg</td><td>https://images.gr-assets.com/books/1327781893s/38709.jpg</td></tr>",
                            "<tr><td>5616</td><td>23966</td><td>23966</td><td>1087344</td><td>51</td><td>393318680</td><td>9780393318680</td><td>Irvine Welsh</td><td>1998</td><td>Filth</td><td>Filth</td><td>eng</td><td>3.76</td><td>16162</td><td>17671</td><td>693</td><td>463</td><td>1351</td><td>4679</td><td>6637</td><td>4541</td><td>https://images.gr-assets.com/books/1452500604m/23966.jpg</td><td>https://images.gr-assets.com/books/1452500604s/23966.jpg</td></tr>",
                            "<tr><td>78</td><td>5139</td><td>5139</td><td>38765</td><td>129</td><td>307275558</td><td>9780307275550</td><td>Lauren Weisberger</td><td>2003</td><td>The Devil Wears Prada</td><td>The Devil Wears Prada (The Devil Wears Prada, #1)</td><td>eng</td><td>3.7</td><td>665930</td><td>679845</td><td>8024</td><td>24231</td><td>58323</td><td>192366</td><td>226675</td><td>178250</td><td>https://s.gr-assets.com/assets/nophoto/book/111x148-bcc042a9c91a29c1d680899eff700a03.png</td><td>https://s.gr-assets.com/assets/nophoto/book/50x75-a91bf249278a81aabab721ef782c4a74.png</td></tr>",
                            "<tr><td>79</td><td>1381</td><td>1381</td><td>3356006</td><td>1703</td><td>143039954</td><td>9780143039950</td><td>Homer, Robert Fagles, E.V. Rieu, Frédéric Mugler, Bernard Knox</td><td>-720</td><td>Ὀδύσσεια</td><td>The Odyssey</td><td>eng</td><td>3.73</td><td>670326</td><td>710757</td><td>8101</td><td>29703</td><td>65629</td><td>183082</td><td>224120</td><td>208223</td><td>https://images.gr-assets.com/books/1390173285m/1381.jpg</td><td>https://images.gr-assets.com/books/1390173285s/1381.jpg</td></tr>",
                            "<tr><td>80</td><td>157993</td><td>157993</td><td>2180358</td><td>1708</td><td>156012197</td><td>9780156012200</td><td>Antoine de Saint-Exupéry, Richard Howard, Dom Marcos Barbosa, Melina Karakosta</td><td>1946</td><td>Le Petit Prince</td><td>The Little Prince</td><td>eng</td><td>4.28</td><td>738757</td><td>859286</td><td>24537</td><td>15039</td><td>32866</td><td>114714</td><td>228440</td><td>468227</td><td>https://images.gr-assets.com/books/1367545443m/157993.jpg</td><td>https://images.gr-assets.com/books/1367545443s/157993.jpg</td></tr>",
                            "<tr><td>81</td><td>7445</td><td>7445</td><td>2944133</td><td>92</td><td>074324754X</td><td>9780743247540</td><td>Jeannette Walls</td><td>2005</td><td>The Glass Castle</td><td>The Glass Castle</td><td>eng</td><td>4.24</td><td>621099</td><td>637866</td><td>40777</td><td>7901</td><td>18922</td><td>85191</td><td>227750</td><td>298102</td><td>https://images.gr-assets.com/books/1400930557m/7445.jpg</td><td>https://images.gr-assets.com/books/1400930557s/7445.jpg</td></tr>",
                            "<tr><td>82</td><td>1845</td><td>1845</td><td>3284484</td><td>108</td><td>385486804</td><td>9780385486800</td><td>Jon Krakauer</td><td>1996</td><td>Into the Wild</td><td>Into the Wild</td><td>eng</td><td>3.94</td><td>647684</td><td>665377</td><td>17299</td><td>19229</td><td>35567</td><td>135199</td><td>248287</td><td>227095</td><td>https://images.gr-assets.com/books/1403173986m/1845.jpg</td><td>https://images.gr-assets.com/books/1403173986s/1845.jpg</td></tr>",
                            "<tr><td>83</td><td>1953</td><td>1953</td><td>2956372</td><td>525</td><td>141439602</td><td>9780141439600</td><td>Charles Dickens, Richard Maxwell, Hablot Knight Browne</td><td>1859</td><td>A Tale of Two Cities</td><td>A Tale of Two Cities</td><td>eng</td><td>3.81</td><td>637412</td><td>677713</td><td>13093</td><td>28904</td><td>55555</td><td>153305</td><td>216378</td><td>223571</td><td>https://images.gr-assets.com/books/1344922523m/1953.jpg</td><td>https://images.gr-assets.com/books/1344922523s/1953.jpg</td></tr>",
                            "<tr><td>84</td><td>7677</td><td>6424171</td><td>3376836</td><td>176</td><td>030734813X</td><td>9780307348140</td><td>Michael Crichton</td><td>1990</td><td>Jurassic Park</td><td>Jurassic Park (Jurassic Park, #1)</td><td>spa</td><td>3.96</td><td>447833</td><td>650483</td><td>8143</td><td>15736</td><td>34222</td><td>138327</td><td>231583</td><td>230615</td><td>https://s.gr-assets.com/assets/nophoto/book/111x148-bcc042a9c91a29c1d680899eff700a03.png</td><td>https://s.gr-assets.com/assets/nophoto/book/50x75-a91bf249278a81aabab721ef782c4a74.png</td></tr>",
                            "<tr><td>85</td><td>370493</td><td>370493</td><td>30530</td><td>81</td><td>60256656</td><td>9780060256650</td><td>Shel Silverstein</td><td>1964</td><td>The Giving Tree</td><td>The Giving Tree</td><td>eng</td><td>4.38</td><td>702332</td><td>708287</td><td>14368</td><td>15345</td><td>20408</td><td>76071</td><td>167542</td><td>428921</td><td>https://images.gr-assets.com/books/1174210942m/370493.jpg</td><td>https://images.gr-assets.com/books/1174210942s/370493.jpg</td></tr>",
                            "<tr><td>86</td><td>32542</td><td>32542</td><td>1804929</td><td>158</td><td>385338600</td><td>9780385338610</td><td>John Grisham</td><td>1989</td><td>A Time to Kill</td><td>A Time to Kill</td><td>eng</td><td>4.03</td><td>597775</td><td>608824</td><td>4239</td><td>12106</td><td>25938</td><td>122675</td><td>218617</td><td>229488</td><td>https://s.gr-assets.com/assets/nophoto/book/111x148-bcc042a9c91a29c1d680899eff700a03.png</td><td>https://s.gr-assets.com/assets/nophoto/book/50x75-a91bf249278a81aabab721ef782c4a74.png</td></tr>",
                            "<tr><td>87</td><td>1617</td><td>1617</td><td>265616</td><td>109</td><td>374500010</td><td>9780374500020</td><td>Elie Wiesel, Marion Wiesel</td><td>1958</td><td>Un di Velt Hot Geshvign</td><td>Night (The Night Trilogy #1)</td><td>eng</td><td>4.3</td><td>691231</td><td>707879</td><td>22001</td><td>7761</td><td>18539</td><td>90575</td><td>230227</td><td>360777</td><td>https://images.gr-assets.com/books/1473495285m/1617.jpg</td><td>https://images.gr-assets.com/books/1473495285s/1617.jpg</td></tr>",
                            "<tr><td>88</td><td>6442769</td><td>6442769</td><td>3364505</td><td>178</td><td>014241493X</td><td>9780142414930</td><td>John Green</td><td>2008</td><td>Paper Towns</td><td>Paper Towns</td><td>en-US</td><td>3.88</td><td>461311</td><td>655271</td><td>42717</td><td>14105</td><td>47183</td><td>154479</td><td>223895</td><td>215609</td><td>https://images.gr-assets.com/books/1349013610m/6442769.jpg</td><td>https://images.gr-assets.com/books/1349013610s/6442769.jpg</td></tr>",
                            "<tr><td>89</td><td>21787</td><td>21787</td><td>992628</td><td>129</td><td>345418263</td><td>9780345418260</td><td>William Goldman</td><td>1973</td><td>The Princess Bride</td><td>The Princess Bride </td><td>en-US</td><td>4.25</td><td>628637</td><td>658042</td><td>15630</td><td>12883</td><td>21641</td><td>89236</td><td>196047</td><td>338235</td><td>https://images.gr-assets.com/books/1327903636m/21787.jpg</td><td>https://images.gr-assets.com/books/1327903636s/21787.jpg</td></tr>",
                            "<tr><td>90</td><td>231804</td><td>231804</td><td>1426690</td><td>156</td><td>014038572X</td><td>9780140385720</td><td>S.E. Hinton</td><td>1967</td><td>The Outsiders</td><td>The Outsiders</td><td>en-US</td><td>4.06</td><td>659248</td><td>680437</td><td>22662</td><td>10178</td><td>34346</td><td>134244</td><td>227250</td><td>274419</td><td>https://images.gr-assets.com/books/1442129426m/231804.jpg</td><td>https://images.gr-assets.com/books/1442129426s/231804.jpg</td></tr>",
                            "<tr><td>91</td><td>6186357</td><td>6186357</td><td>6366642</td><td>147</td><td>385737947</td><td>9780385737940</td><td>James Dashner</td><td>2009</td><td>The Maze Runner</td><td>The Maze Runner (Maze Runner, #1)</td><td>eng</td><td>4.02</td><td>719925</td><td>777956</td><td>48942</td><td>15291</td><td>43370</td><td>150488</td><td>266698</td><td>302109</td><td>https://images.gr-assets.com/books/1375596592m/6186357.jpg</td><td>https://images.gr-assets.com/books/1375596592s/6186357.jpg</td></tr>",
                            "<tr><td>92</td><td>1202</td><td>1202</td><td>5397</td><td>124</td><td>61234001</td><td>9780061234000</td><td>Steven D. Levitt, Stephen J. Dubner</td><td>2005</td><td>Freakonomics: A Rogue Economist Explores the Hidden Side of Everything</td><td>Freakonomics: A Rogue Economist Explores the Hidden Side of Everything (Freakonomics, #1)</td><td>en-US</td><td>3.93</td><td>524191</td><td>549301</td><td>13668</td><td>14586</td><td>26538</td><td>115789</td><td>216316</td><td>176072</td><td>https://images.gr-assets.com/books/1327909092m/1202.jpg</td><td>https://images.gr-assets.com/books/1327909092s/1202.jpg</td></tr>",
                            "<tr><td>93</td><td>2998</td><td>2998</td><td>3186437</td><td>1350</td><td>517189607</td><td>9780517189600</td><td>Frances Hodgson Burnett</td><td>1911</td><td>The Secret Garden</td><td>The Secret Garden</td><td>eng</td><td>4.12</td><td>639357</td><td>692249</td><td>13054</td><td>8005</td><td>25207</td><td>129646</td><td>243821</td><td>285570</td><td>https://images.gr-assets.com/books/1327873635m/2998.jpg</td><td>https://images.gr-assets.com/books/1327873635s/2998.jpg</td></tr>",
                            "<tr><td>94</td><td>320</td><td>320</td><td>3295655</td><td>555</td><td>60531045</td><td>9780060531040</td><td>Gabriel García Márquez, Gregory Rabassa</td><td>1967</td><td>Cien años de soledad</td><td>One Hundred Years of Solitude</td><td>eng</td><td>4.04</td><td>490565</td><td>575667</td><td>21671</td><td>27340</td><td>37646</td><td>87675</td><td>155809</td><td>267197</td><td>https://images.gr-assets.com/books/1327881361m/320.jpg</td><td>https://images.gr-assets.com/books/1327881361s/320.jpg</td></tr>",
                            "<tr><td>95</td><td>5297</td><td>5297</td><td>1858012</td><td>2303</td><td>375751513</td><td>9780375751520</td><td>Oscar Wilde, Jeffrey Eugenides</td><td>1891</td><td>The Picture of Dorian Gray</td><td>The Picture of Dorian Gray</td><td>eng</td><td>4.06</td><td>590014</td><td>674551</td><td>19647</td><td>9825</td><td>30735</td><td>129420</td><td>246892</td><td>257679</td><td>https://images.gr-assets.com/books/1424596966m/5297.jpg</td><td>https://images.gr-assets.com/books/1424596966s/5297.jpg</td></tr>",
                            "<tr><td>96</td><td>13536860</td><td>13536860</td><td>18034963</td><td>133</td><td>345803507</td><td>9780345803500</td><td>E.L. James</td><td>2012</td><td>Fifty Shades Freed</td><td>Fifty Shades Freed (Fifty Shades, #3)</td><td>eng</td><td>3.88</td><td>387290</td><td>610116</td><td>25287</td><td>39079</td><td>55691</td><td>109963</td><td>140304</td><td>265079</td><td>https://images.gr-assets.com/books/1336418837m/13536860.jpg</td><td>https://images.gr-assets.com/books/1336418837s/13536860.jpg</td></tr>",
                            "<tr><td>97</td><td>17245</td><td>17245</td><td>3165724</td><td>2207</td><td>393970124</td><td>9780393970130</td><td>Bram Stoker, Nina Auerbach, David J. Skal</td><td>1897</td><td>Dracula</td><td>Dracula</td><td>eng</td><td>3.98</td><td>618973</td><td>689739</td><td>17263</td><td>11756</td><td>36719</td><td>151396</td><td>246043</td><td>243825</td><td>https://images.gr-assets.com/books/1387151694m/17245.jpg</td><td>https://images.gr-assets.com/books/1387151694s/17245.jpg</td></tr>",
                            "<tr><td>98</td><td>5060378</td><td>5060378</td><td>6976108</td><td>209</td><td>307269981</td><td>9780307269980</td><td>Stieg Larsson, Reg Keeland</td><td>2006</td><td>Flickan som lekte med elden</td><td>The Girl Who Played with Fire (Millennium, #2)</td><td>eng</td><td>4.22</td><td>563994</td><td>649253</td><td>31423</td><td>4623</td><td>15781</td><td>91021</td><td>258236</td><td>279592</td><td>https://images.gr-assets.com/books/1351778881m/5060378.jpg</td><td>https://images.gr-assets.com/books/1351778881s/5060378.jpg</td></tr>",
                            "</table>"
                        ]
                    }
                }
            ],
            "execution_count": 55
        },
        {
            "cell_type": "markdown",
            "source": [
                "## **QUESTION 2:** Exploring **RIGHT** joins with the **books** and **to\\_read** tables\n",
                "\n",
                "You will need to uncomment the Query to answer the question.\n",
                "\n",
                "**Part A:** Looking at the query, which table is the 'Left' and which is the 'Right'?\n",
                "\n",
                "> Your Answer: Left table is <span style=\"background-color: rgb(255, 255, 254); color: rgb(33, 33, 33); font-family: Menlo, Monaco, &quot;Courier New&quot;, monospace; font-size: 12px; white-space: pre;\">BooksDB.dbo.to_read and right table is </span> <span style=\"background-color: rgb(255, 255, 254); color: rgb(33, 33, 33); font-family: Menlo, Monaco, &quot;Courier New&quot;, monospace; font-size: 12px; white-space: pre;\">b.best_book_id</span>\n",
                "\n",
                "**Part B:** How do the RIGHT-joined tables differ from the LEFT-joined tables in Question 1?  \n",
                "\n",
                "> Your Answer:In right join, right table data is join with matched left table"
            ],
            "metadata": {
                "azdata_cell_guid": "c1e417d9-89d2-4a7d-ab46-b43c8bddc54f"
            },
            "attachments": {}
        },
        {
            "cell_type": "code",
            "source": [
                "\n",
                "-- Query 1: RIGHT JOIN\n",
                "SELECT TOP 300 b.title, b.average_rating, b.books_count, tr.user_id, tr.book_id\n",
                "FROM BooksDB.dbo.books AS b\n",
                "RIGHT JOIN BooksDB.dbo.to_read AS tr\n",
                "ON b.best_book_id = tr.book_id;\n",
                ""
            ],
            "metadata": {
                "azdata_cell_guid": "8cf020b8-2a76-46a6-acff-97eb1acc7fed",
                "tags": [],
                "language": "sql"
            },
            "outputs": [
                {
                    "output_type": "display_data",
                    "data": {
                        "text/html": "(300 rows affected)"
                    },
                    "metadata": {}
                },
                {
                    "output_type": "display_data",
                    "data": {
                        "text/html": "Total execution time: 00:00:00.289"
                    },
                    "metadata": {}
                },
                {
                    "output_type": "execute_result",
                    "metadata": {},
                    "execution_count": 11,
                    "data": {
                        "application/vnd.dataresource+json": {
                            "schema": {
                                "fields": [
                                    {
                                        "name": "title"
                                    },
                                    {
                                        "name": "average_rating"
                                    },
                                    {
                                        "name": "books_count"
                                    },
                                    {
                                        "name": "user_id"
                                    },
                                    {
                                        "name": "book_id"
                                    }
                                ]
                            },
                            "data": [
                                {
                                    "title": "Children of Dune (Dune Chronicles #3)",
                                    "average_rating": "3.9",
                                    "books_count": "116",
                                    "user_id": "1",
                                    "book_id": "112"
                                },
                                {
                                    "title": "NULL",
                                    "average_rating": "NULL",
                                    "books_count": "NULL",
                                    "user_id": "1",
                                    "book_id": "235"
                                },
                                {
                                    "title": "NULL",
                                    "average_rating": "NULL",
                                    "books_count": "NULL",
                                    "user_id": "1",
                                    "book_id": "533"
                                },
                                {
                                    "title": "NULL",
                                    "average_rating": "NULL",
                                    "books_count": "NULL",
                                    "user_id": "1",
                                    "book_id": "1198"
                                },
                                {
                                    "title": "NULL",
                                    "average_rating": "NULL",
                                    "books_count": "NULL",
                                    "user_id": "1",
                                    "book_id": "1874"
                                },
                                {
                                    "title": "NULL",
                                    "average_rating": "NULL",
                                    "books_count": "NULL",
                                    "user_id": "1",
                                    "book_id": "2058"
                                },
                                {
                                    "title": "NULL",
                                    "average_rating": "NULL",
                                    "books_count": "NULL",
                                    "user_id": "1",
                                    "book_id": "3334"
                                },
                                {
                                    "title": "NULL",
                                    "average_rating": "NULL",
                                    "books_count": "NULL",
                                    "user_id": "2",
                                    "book_id": "4"
                                },
                                {
                                    "title": "NULL",
                                    "average_rating": "NULL",
                                    "books_count": "NULL",
                                    "user_id": "2",
                                    "book_id": "11"
                                },
                                {
                                    "title": "The Ultimate Hitchhiker's Guide to the Galaxy",
                                    "average_rating": "4.37",
                                    "books_count": "32",
                                    "user_id": "2",
                                    "book_id": "13"
                                },
                                {
                                    "title": "NULL",
                                    "average_rating": "NULL",
                                    "books_count": "NULL",
                                    "user_id": "2",
                                    "book_id": "16"
                                },
                                {
                                    "title": "NULL",
                                    "average_rating": "NULL",
                                    "books_count": "NULL",
                                    "user_id": "2",
                                    "book_id": "92"
                                },
                                {
                                    "title": "Dune Messiah (Dune Chronicles #2)",
                                    "average_rating": "3.86",
                                    "books_count": "140",
                                    "user_id": "2",
                                    "book_id": "106"
                                },
                                {
                                    "title": "NULL",
                                    "average_rating": "NULL",
                                    "books_count": "NULL",
                                    "user_id": "2",
                                    "book_id": "113"
                                },
                                {
                                    "title": "NULL",
                                    "average_rating": "NULL",
                                    "books_count": "NULL",
                                    "user_id": "2",
                                    "book_id": "233"
                                },
                                {
                                    "title": "NULL",
                                    "average_rating": "NULL",
                                    "books_count": "NULL",
                                    "user_id": "2",
                                    "book_id": "247"
                                },
                                {
                                    "title": "NULL",
                                    "average_rating": "NULL",
                                    "books_count": "NULL",
                                    "user_id": "2",
                                    "book_id": "380"
                                },
                                {
                                    "title": "NULL",
                                    "average_rating": "NULL",
                                    "books_count": "NULL",
                                    "user_id": "2",
                                    "book_id": "408"
                                },
                                {
                                    "title": "NULL",
                                    "average_rating": "NULL",
                                    "books_count": "NULL",
                                    "user_id": "2",
                                    "book_id": "439"
                                },
                                {
                                    "title": "NULL",
                                    "average_rating": "NULL",
                                    "books_count": "NULL",
                                    "user_id": "2",
                                    "book_id": "479"
                                },
                                {
                                    "title": "NULL",
                                    "average_rating": "NULL",
                                    "books_count": "NULL",
                                    "user_id": "2",
                                    "book_id": "516"
                                },
                                {
                                    "title": "NULL",
                                    "average_rating": "NULL",
                                    "books_count": "NULL",
                                    "user_id": "2",
                                    "book_id": "619"
                                },
                                {
                                    "title": "NULL",
                                    "average_rating": "NULL",
                                    "books_count": "NULL",
                                    "user_id": "2",
                                    "book_id": "1069"
                                },
                                {
                                    "title": "The Iliad",
                                    "average_rating": "3.83",
                                    "books_count": "1726",
                                    "user_id": "2",
                                    "book_id": "1371"
                                },
                                {
                                    "title": "NULL",
                                    "average_rating": "NULL",
                                    "books_count": "NULL",
                                    "user_id": "2",
                                    "book_id": "1384"
                                },
                                {
                                    "title": "NULL",
                                    "average_rating": "NULL",
                                    "books_count": "NULL",
                                    "user_id": "2",
                                    "book_id": "1597"
                                },
                                {
                                    "title": "NULL",
                                    "average_rating": "NULL",
                                    "books_count": "NULL",
                                    "user_id": "2",
                                    "book_id": "1926"
                                },
                                {
                                    "title": "NULL",
                                    "average_rating": "NULL",
                                    "books_count": "NULL",
                                    "user_id": "2",
                                    "book_id": "1967"
                                },
                                {
                                    "title": "NULL",
                                    "average_rating": "NULL",
                                    "books_count": "NULL",
                                    "user_id": "2",
                                    "book_id": "1969"
                                },
                                {
                                    "title": "NULL",
                                    "average_rating": "NULL",
                                    "books_count": "NULL",
                                    "user_id": "2",
                                    "book_id": "2220"
                                },
                                {
                                    "title": "NULL",
                                    "average_rating": "NULL",
                                    "books_count": "NULL",
                                    "user_id": "2",
                                    "book_id": "2388"
                                },
                                {
                                    "title": "NULL",
                                    "average_rating": "NULL",
                                    "books_count": "NULL",
                                    "user_id": "2",
                                    "book_id": "3222"
                                },
                                {
                                    "title": "NULL",
                                    "average_rating": "NULL",
                                    "books_count": "NULL",
                                    "user_id": "2",
                                    "book_id": "3227"
                                },
                                {
                                    "title": "NULL",
                                    "average_rating": "NULL",
                                    "books_count": "NULL",
                                    "user_id": "2",
                                    "book_id": "3733"
                                },
                                {
                                    "title": "NULL",
                                    "average_rating": "NULL",
                                    "books_count": "NULL",
                                    "user_id": "2",
                                    "book_id": "5418"
                                },
                                {
                                    "title": "NULL",
                                    "average_rating": "NULL",
                                    "books_count": "NULL",
                                    "user_id": "2",
                                    "book_id": "6937"
                                },
                                {
                                    "title": "NULL",
                                    "average_rating": "NULL",
                                    "books_count": "NULL",
                                    "user_id": "2",
                                    "book_id": "7146"
                                },
                                {
                                    "title": "NULL",
                                    "average_rating": "NULL",
                                    "books_count": "NULL",
                                    "user_id": "2",
                                    "book_id": "7873"
                                },
                                {
                                    "title": "NULL",
                                    "average_rating": "NULL",
                                    "books_count": "NULL",
                                    "user_id": "2",
                                    "book_id": "8417"
                                },
                                {
                                    "title": "Harry Potter Collection (Harry Potter, #1-6)",
                                    "average_rating": "4.73",
                                    "books_count": "6",
                                    "user_id": "3",
                                    "book_id": "10"
                                },
                                {
                                    "title": "NULL",
                                    "average_rating": "NULL",
                                    "books_count": "NULL",
                                    "user_id": "3",
                                    "book_id": "66"
                                },
                                {
                                    "title": "NULL",
                                    "average_rating": "NULL",
                                    "books_count": "NULL",
                                    "user_id": "3",
                                    "book_id": "233"
                                },
                                {
                                    "title": "NULL",
                                    "average_rating": "NULL",
                                    "books_count": "NULL",
                                    "user_id": "3",
                                    "book_id": "726"
                                },
                                {
                                    "title": "NULL",
                                    "average_rating": "NULL",
                                    "books_count": "NULL",
                                    "user_id": "3",
                                    "book_id": "932"
                                },
                                {
                                    "title": "NULL",
                                    "average_rating": "NULL",
                                    "books_count": "NULL",
                                    "user_id": "3",
                                    "book_id": "1146"
                                },
                                {
                                    "title": "NULL",
                                    "average_rating": "NULL",
                                    "books_count": "NULL",
                                    "user_id": "3",
                                    "book_id": "2439"
                                },
                                {
                                    "title": "NULL",
                                    "average_rating": "NULL",
                                    "books_count": "NULL",
                                    "user_id": "3",
                                    "book_id": "3566"
                                },
                                {
                                    "title": "NULL",
                                    "average_rating": "NULL",
                                    "books_count": "NULL",
                                    "user_id": "3",
                                    "book_id": "4582"
                                },
                                {
                                    "title": "NULL",
                                    "average_rating": "NULL",
                                    "books_count": "NULL",
                                    "user_id": "3",
                                    "book_id": "5448"
                                },
                                {
                                    "title": "NULL",
                                    "average_rating": "NULL",
                                    "books_count": "NULL",
                                    "user_id": "3",
                                    "book_id": "5765"
                                },
                                {
                                    "title": "NULL",
                                    "average_rating": "NULL",
                                    "books_count": "NULL",
                                    "user_id": "3",
                                    "book_id": "6274"
                                },
                                {
                                    "title": "NULL",
                                    "average_rating": "NULL",
                                    "books_count": "NULL",
                                    "user_id": "3",
                                    "book_id": "8403"
                                },
                                {
                                    "title": "NULL",
                                    "average_rating": "NULL",
                                    "books_count": "NULL",
                                    "user_id": "5",
                                    "book_id": "31"
                                },
                                {
                                    "title": "The Virtue of Selfishness: A New Concept of Egoism",
                                    "average_rating": "3.47",
                                    "books_count": "53",
                                    "user_id": "5",
                                    "book_id": "665"
                                },
                                {
                                    "title": "NULL",
                                    "average_rating": "NULL",
                                    "books_count": "NULL",
                                    "user_id": "5",
                                    "book_id": "3074"
                                },
                                {
                                    "title": "Sherlock Holmes: The Complete Novels and Stories, Volume I",
                                    "average_rating": "4.45",
                                    "books_count": "13",
                                    "user_id": "5",
                                    "book_id": "3581"
                                },
                                {
                                    "title": "NULL",
                                    "average_rating": "NULL",
                                    "books_count": "NULL",
                                    "user_id": "6",
                                    "book_id": "64"
                                },
                                {
                                    "title": "NULL",
                                    "average_rating": "NULL",
                                    "books_count": "NULL",
                                    "user_id": "6",
                                    "book_id": "459"
                                },
                                {
                                    "title": "NULL",
                                    "average_rating": "NULL",
                                    "books_count": "NULL",
                                    "user_id": "6",
                                    "book_id": "619"
                                },
                                {
                                    "title": "NULL",
                                    "average_rating": "NULL",
                                    "books_count": "NULL",
                                    "user_id": "6",
                                    "book_id": "649"
                                },
                                {
                                    "title": "NULL",
                                    "average_rating": "NULL",
                                    "books_count": "NULL",
                                    "user_id": "6",
                                    "book_id": "687"
                                },
                                {
                                    "title": "NULL",
                                    "average_rating": "NULL",
                                    "books_count": "NULL",
                                    "user_id": "6",
                                    "book_id": "874"
                                },
                                {
                                    "title": "The War of Art: Break Through the Blocks & Win Your Inner Creative Battles",
                                    "average_rating": "4.07",
                                    "books_count": "29",
                                    "user_id": "6",
                                    "book_id": "1319"
                                },
                                {
                                    "title": "NULL",
                                    "average_rating": "NULL",
                                    "books_count": "NULL",
                                    "user_id": "6",
                                    "book_id": "1912"
                                },
                                {
                                    "title": "NULL",
                                    "average_rating": "NULL",
                                    "books_count": "NULL",
                                    "user_id": "6",
                                    "book_id": "5269"
                                },
                                {
                                    "title": "NULL",
                                    "average_rating": "NULL",
                                    "books_count": "NULL",
                                    "user_id": "6",
                                    "book_id": "5537"
                                },
                                {
                                    "title": "NULL",
                                    "average_rating": "NULL",
                                    "books_count": "NULL",
                                    "user_id": "6",
                                    "book_id": "5820"
                                },
                                {
                                    "title": "NULL",
                                    "average_rating": "NULL",
                                    "books_count": "NULL",
                                    "user_id": "6",
                                    "book_id": "6220"
                                },
                                {
                                    "title": "NULL",
                                    "average_rating": "NULL",
                                    "books_count": "NULL",
                                    "user_id": "6",
                                    "book_id": "7480"
                                },
                                {
                                    "title": "Harry Potter Collection (Harry Potter, #1-6)",
                                    "average_rating": "4.73",
                                    "books_count": "6",
                                    "user_id": "7",
                                    "book_id": "10"
                                },
                                {
                                    "title": "NULL",
                                    "average_rating": "NULL",
                                    "books_count": "NULL",
                                    "user_id": "7",
                                    "book_id": "215"
                                },
                                {
                                    "title": "NULL",
                                    "average_rating": "NULL",
                                    "books_count": "NULL",
                                    "user_id": "7",
                                    "book_id": "225"
                                },
                                {
                                    "title": "NULL",
                                    "average_rating": "NULL",
                                    "books_count": "NULL",
                                    "user_id": "7",
                                    "book_id": "233"
                                },
                                {
                                    "title": "NULL",
                                    "average_rating": "NULL",
                                    "books_count": "NULL",
                                    "user_id": "7",
                                    "book_id": "1322"
                                },
                                {
                                    "title": "NULL",
                                    "average_rating": "NULL",
                                    "books_count": "NULL",
                                    "user_id": "7",
                                    "book_id": "3552"
                                },
                                {
                                    "title": "NULL",
                                    "average_rating": "NULL",
                                    "books_count": "NULL",
                                    "user_id": "7",
                                    "book_id": "3720"
                                },
                                {
                                    "title": "NULL",
                                    "average_rating": "NULL",
                                    "books_count": "NULL",
                                    "user_id": "7",
                                    "book_id": "4468"
                                },
                                {
                                    "title": "NULL",
                                    "average_rating": "NULL",
                                    "books_count": "NULL",
                                    "user_id": "8",
                                    "book_id": "19"
                                },
                                {
                                    "title": "NULL",
                                    "average_rating": "NULL",
                                    "books_count": "NULL",
                                    "user_id": "8",
                                    "book_id": "498"
                                },
                                {
                                    "title": "NULL",
                                    "average_rating": "NULL",
                                    "books_count": "NULL",
                                    "user_id": "8",
                                    "book_id": "1357"
                                },
                                {
                                    "title": "NULL",
                                    "average_rating": "NULL",
                                    "books_count": "NULL",
                                    "user_id": "8",
                                    "book_id": "2177"
                                },
                                {
                                    "title": "NULL",
                                    "average_rating": "NULL",
                                    "books_count": "NULL",
                                    "user_id": "8",
                                    "book_id": "3930"
                                },
                                {
                                    "title": "The Pilgrimage",
                                    "average_rating": "3.64",
                                    "books_count": "171",
                                    "user_id": "8",
                                    "book_id": "4004"
                                },
                                {
                                    "title": "NULL",
                                    "average_rating": "NULL",
                                    "books_count": "NULL",
                                    "user_id": "8",
                                    "book_id": "8792"
                                },
                                {
                                    "title": "NULL",
                                    "average_rating": "NULL",
                                    "books_count": "NULL",
                                    "user_id": "8",
                                    "book_id": "9304"
                                },
                                {
                                    "title": "Harry Potter Boxed Set, Books 1-5 (Harry Potter, #1-5)",
                                    "average_rating": "4.77",
                                    "books_count": "11",
                                    "user_id": "9",
                                    "book_id": "8"
                                },
                                {
                                    "title": "Children of Dune (Dune Chronicles #3)",
                                    "average_rating": "3.9",
                                    "books_count": "116",
                                    "user_id": "9",
                                    "book_id": "112"
                                },
                                {
                                    "title": "NULL",
                                    "average_rating": "NULL",
                                    "books_count": "NULL",
                                    "user_id": "9",
                                    "book_id": "139"
                                },
                                {
                                    "title": "NULL",
                                    "average_rating": "NULL",
                                    "books_count": "NULL",
                                    "user_id": "9",
                                    "book_id": "230"
                                },
                                {
                                    "title": "NULL",
                                    "average_rating": "NULL",
                                    "books_count": "NULL",
                                    "user_id": "9",
                                    "book_id": "233"
                                },
                                {
                                    "title": "NULL",
                                    "average_rating": "NULL",
                                    "books_count": "NULL",
                                    "user_id": "9",
                                    "book_id": "473"
                                },
                                {
                                    "title": "NULL",
                                    "average_rating": "NULL",
                                    "books_count": "NULL",
                                    "user_id": "9",
                                    "book_id": "638"
                                },
                                {
                                    "title": "NULL",
                                    "average_rating": "NULL",
                                    "books_count": "NULL",
                                    "user_id": "9",
                                    "book_id": "653"
                                },
                                {
                                    "title": "NULL",
                                    "average_rating": "NULL",
                                    "books_count": "NULL",
                                    "user_id": "9",
                                    "book_id": "672"
                                },
                                {
                                    "title": "NULL",
                                    "average_rating": "NULL",
                                    "books_count": "NULL",
                                    "user_id": "9",
                                    "book_id": "701"
                                },
                                {
                                    "title": "NULL",
                                    "average_rating": "NULL",
                                    "books_count": "NULL",
                                    "user_id": "9",
                                    "book_id": "736"
                                },
                                {
                                    "title": "NULL",
                                    "average_rating": "NULL",
                                    "books_count": "NULL",
                                    "user_id": "9",
                                    "book_id": "883"
                                },
                                {
                                    "title": "NULL",
                                    "average_rating": "NULL",
                                    "books_count": "NULL",
                                    "user_id": "9",
                                    "book_id": "895"
                                },
                                {
                                    "title": "NULL",
                                    "average_rating": "NULL",
                                    "books_count": "NULL",
                                    "user_id": "9",
                                    "book_id": "1467"
                                },
                                {
                                    "title": "NULL",
                                    "average_rating": "NULL",
                                    "books_count": "NULL",
                                    "user_id": "9",
                                    "book_id": "1582"
                                },
                                {
                                    "title": "NULL",
                                    "average_rating": "NULL",
                                    "books_count": "NULL",
                                    "user_id": "9",
                                    "book_id": "1873"
                                },
                                {
                                    "title": "NULL",
                                    "average_rating": "NULL",
                                    "books_count": "NULL",
                                    "user_id": "9",
                                    "book_id": "2516"
                                },
                                {
                                    "title": "NULL",
                                    "average_rating": "NULL",
                                    "books_count": "NULL",
                                    "user_id": "9",
                                    "book_id": "2630"
                                },
                                {
                                    "title": "NULL",
                                    "average_rating": "NULL",
                                    "books_count": "NULL",
                                    "user_id": "9",
                                    "book_id": "3210"
                                },
                                {
                                    "title": "Icy Sparks",
                                    "average_rating": "3.68",
                                    "books_count": "27",
                                    "user_id": "9",
                                    "book_id": "3476"
                                },
                                {
                                    "title": "NULL",
                                    "average_rating": "NULL",
                                    "books_count": "NULL",
                                    "user_id": "9",
                                    "book_id": "3560"
                                },
                                {
                                    "title": "NULL",
                                    "average_rating": "NULL",
                                    "books_count": "NULL",
                                    "user_id": "9",
                                    "book_id": "3650"
                                },
                                {
                                    "title": "NULL",
                                    "average_rating": "NULL",
                                    "books_count": "NULL",
                                    "user_id": "9",
                                    "book_id": "5286"
                                },
                                {
                                    "title": "NULL",
                                    "average_rating": "NULL",
                                    "books_count": "NULL",
                                    "user_id": "9",
                                    "book_id": "6636"
                                },
                                {
                                    "title": "Harry Potter and the Goblet of Fire (Harry Potter, #4)",
                                    "average_rating": "4.53",
                                    "books_count": "332",
                                    "user_id": "10",
                                    "book_id": "6"
                                },
                                {
                                    "title": "NULL",
                                    "average_rating": "NULL",
                                    "books_count": "NULL",
                                    "user_id": "10",
                                    "book_id": "385"
                                },
                                {
                                    "title": "Atlas Shrugged",
                                    "average_rating": "3.68",
                                    "books_count": "147",
                                    "user_id": "10",
                                    "book_id": "662"
                                },
                                {
                                    "title": "NULL",
                                    "average_rating": "NULL",
                                    "books_count": "NULL",
                                    "user_id": "10",
                                    "book_id": "896"
                                },
                                {
                                    "title": "NULL",
                                    "average_rating": "NULL",
                                    "books_count": "NULL",
                                    "user_id": "10",
                                    "book_id": "1076"
                                },
                                {
                                    "title": "NULL",
                                    "average_rating": "NULL",
                                    "books_count": "NULL",
                                    "user_id": "10",
                                    "book_id": "1082"
                                },
                                {
                                    "title": "NULL",
                                    "average_rating": "NULL",
                                    "books_count": "NULL",
                                    "user_id": "10",
                                    "book_id": "1220"
                                },
                                {
                                    "title": "NULL",
                                    "average_rating": "NULL",
                                    "books_count": "NULL",
                                    "user_id": "10",
                                    "book_id": "1281"
                                },
                                {
                                    "title": "NULL",
                                    "average_rating": "NULL",
                                    "books_count": "NULL",
                                    "user_id": "10",
                                    "book_id": "1439"
                                },
                                {
                                    "title": "NULL",
                                    "average_rating": "NULL",
                                    "books_count": "NULL",
                                    "user_id": "10",
                                    "book_id": "1851"
                                },
                                {
                                    "title": "NULL",
                                    "average_rating": "NULL",
                                    "books_count": "NULL",
                                    "user_id": "10",
                                    "book_id": "1920"
                                },
                                {
                                    "title": "NULL",
                                    "average_rating": "NULL",
                                    "books_count": "NULL",
                                    "user_id": "10",
                                    "book_id": "2441"
                                },
                                {
                                    "title": "NULL",
                                    "average_rating": "NULL",
                                    "books_count": "NULL",
                                    "user_id": "10",
                                    "book_id": "2570"
                                },
                                {
                                    "title": "NULL",
                                    "average_rating": "NULL",
                                    "books_count": "NULL",
                                    "user_id": "10",
                                    "book_id": "2616"
                                },
                                {
                                    "title": "NULL",
                                    "average_rating": "NULL",
                                    "books_count": "NULL",
                                    "user_id": "10",
                                    "book_id": "3059"
                                },
                                {
                                    "title": "NULL",
                                    "average_rating": "NULL",
                                    "books_count": "NULL",
                                    "user_id": "10",
                                    "book_id": "3545"
                                },
                                {
                                    "title": "NULL",
                                    "average_rating": "NULL",
                                    "books_count": "NULL",
                                    "user_id": "10",
                                    "book_id": "3961"
                                },
                                {
                                    "title": "NULL",
                                    "average_rating": "NULL",
                                    "books_count": "NULL",
                                    "user_id": "10",
                                    "book_id": "4369"
                                },
                                {
                                    "title": "NULL",
                                    "average_rating": "NULL",
                                    "books_count": "NULL",
                                    "user_id": "10",
                                    "book_id": "4510"
                                },
                                {
                                    "title": "NULL",
                                    "average_rating": "NULL",
                                    "books_count": "NULL",
                                    "user_id": "10",
                                    "book_id": "5104"
                                },
                                {
                                    "title": "NULL",
                                    "average_rating": "NULL",
                                    "books_count": "NULL",
                                    "user_id": "10",
                                    "book_id": "5254"
                                },
                                {
                                    "title": "NULL",
                                    "average_rating": "NULL",
                                    "books_count": "NULL",
                                    "user_id": "10",
                                    "book_id": "5556"
                                },
                                {
                                    "title": "NULL",
                                    "average_rating": "NULL",
                                    "books_count": "NULL",
                                    "user_id": "10",
                                    "book_id": "6114"
                                },
                                {
                                    "title": "NULL",
                                    "average_rating": "NULL",
                                    "books_count": "NULL",
                                    "user_id": "10",
                                    "book_id": "6917"
                                },
                                {
                                    "title": "NULL",
                                    "average_rating": "NULL",
                                    "books_count": "NULL",
                                    "user_id": "10",
                                    "book_id": "7545"
                                },
                                {
                                    "title": "NULL",
                                    "average_rating": "NULL",
                                    "books_count": "NULL",
                                    "user_id": "10",
                                    "book_id": "7842"
                                },
                                {
                                    "title": "NULL",
                                    "average_rating": "NULL",
                                    "books_count": "NULL",
                                    "user_id": "11",
                                    "book_id": "3643"
                                },
                                {
                                    "title": "Harry Potter and the Half-Blood Prince (Harry Potter, #6)",
                                    "average_rating": "4.54",
                                    "books_count": "275",
                                    "user_id": "12",
                                    "book_id": "1"
                                },
                                {
                                    "title": "NULL",
                                    "average_rating": "NULL",
                                    "books_count": "NULL",
                                    "user_id": "12",
                                    "book_id": "124"
                                },
                                {
                                    "title": "NULL",
                                    "average_rating": "NULL",
                                    "books_count": "NULL",
                                    "user_id": "12",
                                    "book_id": "1471"
                                },
                                {
                                    "title": "NULL",
                                    "average_rating": "NULL",
                                    "books_count": "NULL",
                                    "user_id": "12",
                                    "book_id": "2893"
                                },
                                {
                                    "title": "NULL",
                                    "average_rating": "NULL",
                                    "books_count": "NULL",
                                    "user_id": "13",
                                    "book_id": "81"
                                },
                                {
                                    "title": "NULL",
                                    "average_rating": "NULL",
                                    "books_count": "NULL",
                                    "user_id": "13",
                                    "book_id": "277"
                                },
                                {
                                    "title": "NULL",
                                    "average_rating": "NULL",
                                    "books_count": "NULL",
                                    "user_id": "13",
                                    "book_id": "318"
                                },
                                {
                                    "title": "NULL",
                                    "average_rating": "NULL",
                                    "books_count": "NULL",
                                    "user_id": "13",
                                    "book_id": "430"
                                },
                                {
                                    "title": "NULL",
                                    "average_rating": "NULL",
                                    "books_count": "NULL",
                                    "user_id": "13",
                                    "book_id": "437"
                                },
                                {
                                    "title": "NULL",
                                    "average_rating": "NULL",
                                    "books_count": "NULL",
                                    "user_id": "13",
                                    "book_id": "551"
                                },
                                {
                                    "title": "NULL",
                                    "average_rating": "NULL",
                                    "books_count": "NULL",
                                    "user_id": "13",
                                    "book_id": "560"
                                },
                                {
                                    "title": "NULL",
                                    "average_rating": "NULL",
                                    "books_count": "NULL",
                                    "user_id": "13",
                                    "book_id": "610"
                                },
                                {
                                    "title": "NULL",
                                    "average_rating": "NULL",
                                    "books_count": "NULL",
                                    "user_id": "13",
                                    "book_id": "678"
                                },
                                {
                                    "title": "NULL",
                                    "average_rating": "NULL",
                                    "books_count": "NULL",
                                    "user_id": "13",
                                    "book_id": "979"
                                },
                                {
                                    "title": "NULL",
                                    "average_rating": "NULL",
                                    "books_count": "NULL",
                                    "user_id": "13",
                                    "book_id": "1082"
                                },
                                {
                                    "title": "NULL",
                                    "average_rating": "NULL",
                                    "books_count": "NULL",
                                    "user_id": "13",
                                    "book_id": "1464"
                                },
                                {
                                    "title": "NULL",
                                    "average_rating": "NULL",
                                    "books_count": "NULL",
                                    "user_id": "13",
                                    "book_id": "1577"
                                },
                                {
                                    "title": "NULL",
                                    "average_rating": "NULL",
                                    "books_count": "NULL",
                                    "user_id": "13",
                                    "book_id": "2018"
                                },
                                {
                                    "title": "NULL",
                                    "average_rating": "NULL",
                                    "books_count": "NULL",
                                    "user_id": "13",
                                    "book_id": "2418"
                                },
                                {
                                    "title": "NULL",
                                    "average_rating": "NULL",
                                    "books_count": "NULL",
                                    "user_id": "13",
                                    "book_id": "3257"
                                },
                                {
                                    "title": "NULL",
                                    "average_rating": "NULL",
                                    "books_count": "NULL",
                                    "user_id": "13",
                                    "book_id": "4212"
                                },
                                {
                                    "title": "NULL",
                                    "average_rating": "NULL",
                                    "books_count": "NULL",
                                    "user_id": "13",
                                    "book_id": "4635"
                                },
                                {
                                    "title": "NULL",
                                    "average_rating": "NULL",
                                    "books_count": "NULL",
                                    "user_id": "13",
                                    "book_id": "4704"
                                },
                                {
                                    "title": "NULL",
                                    "average_rating": "NULL",
                                    "books_count": "NULL",
                                    "user_id": "13",
                                    "book_id": "4734"
                                },
                                {
                                    "title": "NULL",
                                    "average_rating": "NULL",
                                    "books_count": "NULL",
                                    "user_id": "13",
                                    "book_id": "4841"
                                },
                                {
                                    "title": "NULL",
                                    "average_rating": "NULL",
                                    "books_count": "NULL",
                                    "user_id": "13",
                                    "book_id": "4848"
                                },
                                {
                                    "title": "NULL",
                                    "average_rating": "NULL",
                                    "books_count": "NULL",
                                    "user_id": "13",
                                    "book_id": "4856"
                                },
                                {
                                    "title": "NULL",
                                    "average_rating": "NULL",
                                    "books_count": "NULL",
                                    "user_id": "13",
                                    "book_id": "4928"
                                },
                                {
                                    "title": "NULL",
                                    "average_rating": "NULL",
                                    "books_count": "NULL",
                                    "user_id": "13",
                                    "book_id": "6114"
                                },
                                {
                                    "title": "NULL",
                                    "average_rating": "NULL",
                                    "books_count": "NULL",
                                    "user_id": "13",
                                    "book_id": "6793"
                                },
                                {
                                    "title": "NULL",
                                    "average_rating": "NULL",
                                    "books_count": "NULL",
                                    "user_id": "13",
                                    "book_id": "6962"
                                },
                                {
                                    "title": "NULL",
                                    "average_rating": "NULL",
                                    "books_count": "NULL",
                                    "user_id": "13",
                                    "book_id": "8717"
                                },
                                {
                                    "title": "NULL",
                                    "average_rating": "NULL",
                                    "books_count": "NULL",
                                    "user_id": "14",
                                    "book_id": "493"
                                },
                                {
                                    "title": "NULL",
                                    "average_rating": "NULL",
                                    "books_count": "NULL",
                                    "user_id": "14",
                                    "book_id": "1179"
                                },
                                {
                                    "title": "NULL",
                                    "average_rating": "NULL",
                                    "books_count": "NULL",
                                    "user_id": "14",
                                    "book_id": "2693"
                                },
                                {
                                    "title": "Sherlock Holmes: The Complete Novels and Stories, Volume I",
                                    "average_rating": "4.45",
                                    "books_count": "13",
                                    "user_id": "14",
                                    "book_id": "3581"
                                },
                                {
                                    "title": "NULL",
                                    "average_rating": "NULL",
                                    "books_count": "NULL",
                                    "user_id": "14",
                                    "book_id": "3683"
                                },
                                {
                                    "title": "NULL",
                                    "average_rating": "NULL",
                                    "books_count": "NULL",
                                    "user_id": "14",
                                    "book_id": "3953"
                                },
                                {
                                    "title": "NULL",
                                    "average_rating": "NULL",
                                    "books_count": "NULL",
                                    "user_id": "14",
                                    "book_id": "4220"
                                },
                                {
                                    "title": "NULL",
                                    "average_rating": "NULL",
                                    "books_count": "NULL",
                                    "user_id": "14",
                                    "book_id": "5076"
                                },
                                {
                                    "title": "NULL",
                                    "average_rating": "NULL",
                                    "books_count": "NULL",
                                    "user_id": "14",
                                    "book_id": "5537"
                                },
                                {
                                    "title": "NULL",
                                    "average_rating": "NULL",
                                    "books_count": "NULL",
                                    "user_id": "14",
                                    "book_id": "7777"
                                },
                                {
                                    "title": "NULL",
                                    "average_rating": "NULL",
                                    "books_count": "NULL",
                                    "user_id": "15",
                                    "book_id": "191"
                                },
                                {
                                    "title": "The Lover",
                                    "average_rating": "3.76",
                                    "books_count": "148",
                                    "user_id": "15",
                                    "book_id": "275"
                                },
                                {
                                    "title": "NULL",
                                    "average_rating": "NULL",
                                    "books_count": "NULL",
                                    "user_id": "15",
                                    "book_id": "398"
                                },
                                {
                                    "title": "NULL",
                                    "average_rating": "NULL",
                                    "books_count": "NULL",
                                    "user_id": "15",
                                    "book_id": "666"
                                },
                                {
                                    "title": "NULL",
                                    "average_rating": "NULL",
                                    "books_count": "NULL",
                                    "user_id": "15",
                                    "book_id": "1491"
                                },
                                {
                                    "title": "NULL",
                                    "average_rating": "NULL",
                                    "books_count": "NULL",
                                    "user_id": "15",
                                    "book_id": "5210"
                                },
                                {
                                    "title": "NULL",
                                    "average_rating": "NULL",
                                    "books_count": "NULL",
                                    "user_id": "17",
                                    "book_id": "1344"
                                },
                                {
                                    "title": "The Good Soldier",
                                    "average_rating": "3.72",
                                    "books_count": "362",
                                    "user_id": "20",
                                    "book_id": "7628"
                                },
                                {
                                    "title": "NULL",
                                    "average_rating": "NULL",
                                    "books_count": "NULL",
                                    "user_id": "22",
                                    "book_id": "653"
                                },
                                {
                                    "title": "NULL",
                                    "average_rating": "NULL",
                                    "books_count": "NULL",
                                    "user_id": "22",
                                    "book_id": "1403"
                                },
                                {
                                    "title": "NULL",
                                    "average_rating": "NULL",
                                    "books_count": "NULL",
                                    "user_id": "22",
                                    "book_id": "1405"
                                },
                                {
                                    "title": "NULL",
                                    "average_rating": "NULL",
                                    "books_count": "NULL",
                                    "user_id": "22",
                                    "book_id": "1645"
                                },
                                {
                                    "title": "NULL",
                                    "average_rating": "NULL",
                                    "books_count": "NULL",
                                    "user_id": "22",
                                    "book_id": "2500"
                                },
                                {
                                    "title": "NULL",
                                    "average_rating": "NULL",
                                    "books_count": "NULL",
                                    "user_id": "22",
                                    "book_id": "2691"
                                },
                                {
                                    "title": "NULL",
                                    "average_rating": "NULL",
                                    "books_count": "NULL",
                                    "user_id": "22",
                                    "book_id": "4995"
                                },
                                {
                                    "title": "NULL",
                                    "average_rating": "NULL",
                                    "books_count": "NULL",
                                    "user_id": "23",
                                    "book_id": "273"
                                },
                                {
                                    "title": "NULL",
                                    "average_rating": "NULL",
                                    "books_count": "NULL",
                                    "user_id": "23",
                                    "book_id": "459"
                                },
                                {
                                    "title": "NULL",
                                    "average_rating": "NULL",
                                    "books_count": "NULL",
                                    "user_id": "23",
                                    "book_id": "791"
                                },
                                {
                                    "title": "NULL",
                                    "average_rating": "NULL",
                                    "books_count": "NULL",
                                    "user_id": "23",
                                    "book_id": "886"
                                },
                                {
                                    "title": "NULL",
                                    "average_rating": "NULL",
                                    "books_count": "NULL",
                                    "user_id": "23",
                                    "book_id": "925"
                                },
                                {
                                    "title": "NULL",
                                    "average_rating": "NULL",
                                    "books_count": "NULL",
                                    "user_id": "23",
                                    "book_id": "1198"
                                },
                                {
                                    "title": "NULL",
                                    "average_rating": "NULL",
                                    "books_count": "NULL",
                                    "user_id": "23",
                                    "book_id": "1597"
                                },
                                {
                                    "title": "NULL",
                                    "average_rating": "NULL",
                                    "books_count": "NULL",
                                    "user_id": "23",
                                    "book_id": "1688"
                                },
                                {
                                    "title": "NULL",
                                    "average_rating": "NULL",
                                    "books_count": "NULL",
                                    "user_id": "23",
                                    "book_id": "2251"
                                },
                                {
                                    "title": "NULL",
                                    "average_rating": "NULL",
                                    "books_count": "NULL",
                                    "user_id": "23",
                                    "book_id": "2350"
                                },
                                {
                                    "title": "NULL",
                                    "average_rating": "NULL",
                                    "books_count": "NULL",
                                    "user_id": "23",
                                    "book_id": "2613"
                                },
                                {
                                    "title": "NULL",
                                    "average_rating": "NULL",
                                    "books_count": "NULL",
                                    "user_id": "23",
                                    "book_id": "3312"
                                },
                                {
                                    "title": "NULL",
                                    "average_rating": "NULL",
                                    "books_count": "NULL",
                                    "user_id": "23",
                                    "book_id": "3343"
                                },
                                {
                                    "title": "NULL",
                                    "average_rating": "NULL",
                                    "books_count": "NULL",
                                    "user_id": "24",
                                    "book_id": "61"
                                },
                                {
                                    "title": "NULL",
                                    "average_rating": "NULL",
                                    "books_count": "NULL",
                                    "user_id": "24",
                                    "book_id": "143"
                                },
                                {
                                    "title": "NULL",
                                    "average_rating": "NULL",
                                    "books_count": "NULL",
                                    "user_id": "24",
                                    "book_id": "421"
                                },
                                {
                                    "title": "NULL",
                                    "average_rating": "NULL",
                                    "books_count": "NULL",
                                    "user_id": "24",
                                    "book_id": "467"
                                },
                                {
                                    "title": "NULL",
                                    "average_rating": "NULL",
                                    "books_count": "NULL",
                                    "user_id": "24",
                                    "book_id": "974"
                                },
                                {
                                    "title": "NULL",
                                    "average_rating": "NULL",
                                    "books_count": "NULL",
                                    "user_id": "26",
                                    "book_id": "508"
                                },
                                {
                                    "title": "NULL",
                                    "average_rating": "NULL",
                                    "books_count": "NULL",
                                    "user_id": "26",
                                    "book_id": "1796"
                                },
                                {
                                    "title": "NULL",
                                    "average_rating": "NULL",
                                    "books_count": "NULL",
                                    "user_id": "26",
                                    "book_id": "2257"
                                },
                                {
                                    "title": "NULL",
                                    "average_rating": "NULL",
                                    "books_count": "NULL",
                                    "user_id": "26",
                                    "book_id": "2314"
                                },
                                {
                                    "title": "NULL",
                                    "average_rating": "NULL",
                                    "books_count": "NULL",
                                    "user_id": "26",
                                    "book_id": "2357"
                                },
                                {
                                    "title": "NULL",
                                    "average_rating": "NULL",
                                    "books_count": "NULL",
                                    "user_id": "26",
                                    "book_id": "2738"
                                },
                                {
                                    "title": "NULL",
                                    "average_rating": "NULL",
                                    "books_count": "NULL",
                                    "user_id": "26",
                                    "book_id": "2810"
                                },
                                {
                                    "title": "NULL",
                                    "average_rating": "NULL",
                                    "books_count": "NULL",
                                    "user_id": "26",
                                    "book_id": "3207"
                                },
                                {
                                    "title": "The Thorn Birds",
                                    "average_rating": "4.22",
                                    "books_count": "201",
                                    "user_id": "26",
                                    "book_id": "3412"
                                },
                                {
                                    "title": "The Complete Sherlock Holmes, Vol 2",
                                    "average_rating": "4.46",
                                    "books_count": "117",
                                    "user_id": "26",
                                    "book_id": "3586"
                                },
                                {
                                    "title": "The Dark Tower (The Dark Tower, #7)",
                                    "average_rating": "4.27",
                                    "books_count": "105",
                                    "user_id": "26",
                                    "book_id": "5091"
                                },
                                {
                                    "title": "NULL",
                                    "average_rating": "NULL",
                                    "books_count": "NULL",
                                    "user_id": "26",
                                    "book_id": "5550"
                                },
                                {
                                    "title": "NULL",
                                    "average_rating": "NULL",
                                    "books_count": "NULL",
                                    "user_id": "26",
                                    "book_id": "6877"
                                },
                                {
                                    "title": "NULL",
                                    "average_rating": "NULL",
                                    "books_count": "NULL",
                                    "user_id": "26",
                                    "book_id": "7970"
                                },
                                {
                                    "title": "NULL",
                                    "average_rating": "NULL",
                                    "books_count": "NULL",
                                    "user_id": "28",
                                    "book_id": "265"
                                },
                                {
                                    "title": "NULL",
                                    "average_rating": "NULL",
                                    "books_count": "NULL",
                                    "user_id": "28",
                                    "book_id": "587"
                                },
                                {
                                    "title": "NULL",
                                    "average_rating": "NULL",
                                    "books_count": "NULL",
                                    "user_id": "28",
                                    "book_id": "3543"
                                },
                                {
                                    "title": "NULL",
                                    "average_rating": "NULL",
                                    "books_count": "NULL",
                                    "user_id": "28",
                                    "book_id": "5215"
                                },
                                {
                                    "title": "NULL",
                                    "average_rating": "NULL",
                                    "books_count": "NULL",
                                    "user_id": "28",
                                    "book_id": "7496"
                                },
                                {
                                    "title": "NULL",
                                    "average_rating": "NULL",
                                    "books_count": "NULL",
                                    "user_id": "28",
                                    "book_id": "8654"
                                },
                                {
                                    "title": "NULL",
                                    "average_rating": "NULL",
                                    "books_count": "NULL",
                                    "user_id": "29",
                                    "book_id": "31"
                                },
                                {
                                    "title": "NULL",
                                    "average_rating": "NULL",
                                    "books_count": "NULL",
                                    "user_id": "29",
                                    "book_id": "32"
                                },
                                {
                                    "title": "The Lord of the Rings: Weapons and Warfare",
                                    "average_rating": "4.53",
                                    "books_count": "12",
                                    "user_id": "29",
                                    "book_id": "36"
                                },
                                {
                                    "title": "NULL",
                                    "average_rating": "NULL",
                                    "books_count": "NULL",
                                    "user_id": "29",
                                    "book_id": "45"
                                },
                                {
                                    "title": "NULL",
                                    "average_rating": "NULL",
                                    "books_count": "NULL",
                                    "user_id": "29",
                                    "book_id": "65"
                                },
                                {
                                    "title": "NULL",
                                    "average_rating": "NULL",
                                    "books_count": "NULL",
                                    "user_id": "29",
                                    "book_id": "87"
                                },
                                {
                                    "title": "NULL",
                                    "average_rating": "NULL",
                                    "books_count": "NULL",
                                    "user_id": "29",
                                    "book_id": "115"
                                },
                                {
                                    "title": "NULL",
                                    "average_rating": "NULL",
                                    "books_count": "NULL",
                                    "user_id": "29",
                                    "book_id": "121"
                                },
                                {
                                    "title": "NULL",
                                    "average_rating": "NULL",
                                    "books_count": "NULL",
                                    "user_id": "29",
                                    "book_id": "131"
                                },
                                {
                                    "title": "NULL",
                                    "average_rating": "NULL",
                                    "books_count": "NULL",
                                    "user_id": "29",
                                    "book_id": "178"
                                },
                                {
                                    "title": "NULL",
                                    "average_rating": "NULL",
                                    "books_count": "NULL",
                                    "user_id": "29",
                                    "book_id": "256"
                                },
                                {
                                    "title": "NULL",
                                    "average_rating": "NULL",
                                    "books_count": "NULL",
                                    "user_id": "29",
                                    "book_id": "323"
                                },
                                {
                                    "title": "Slouching Towards Bethlehem",
                                    "average_rating": "4.24",
                                    "books_count": "34",
                                    "user_id": "29",
                                    "book_id": "424"
                                },
                                {
                                    "title": "NULL",
                                    "average_rating": "NULL",
                                    "books_count": "NULL",
                                    "user_id": "29",
                                    "book_id": "467"
                                },
                                {
                                    "title": "NULL",
                                    "average_rating": "NULL",
                                    "books_count": "NULL",
                                    "user_id": "29",
                                    "book_id": "550"
                                },
                                {
                                    "title": "NULL",
                                    "average_rating": "NULL",
                                    "books_count": "NULL",
                                    "user_id": "29",
                                    "book_id": "618"
                                },
                                {
                                    "title": "Atlas Shrugged",
                                    "average_rating": "3.68",
                                    "books_count": "147",
                                    "user_id": "29",
                                    "book_id": "662"
                                },
                                {
                                    "title": "NULL",
                                    "average_rating": "NULL",
                                    "books_count": "NULL",
                                    "user_id": "29",
                                    "book_id": "709"
                                },
                                {
                                    "title": "NULL",
                                    "average_rating": "NULL",
                                    "books_count": "NULL",
                                    "user_id": "29",
                                    "book_id": "730"
                                },
                                {
                                    "title": "NULL",
                                    "average_rating": "NULL",
                                    "books_count": "NULL",
                                    "user_id": "29",
                                    "book_id": "771"
                                },
                                {
                                    "title": "NULL",
                                    "average_rating": "NULL",
                                    "books_count": "NULL",
                                    "user_id": "29",
                                    "book_id": "809"
                                },
                                {
                                    "title": "NULL",
                                    "average_rating": "NULL",
                                    "books_count": "NULL",
                                    "user_id": "29",
                                    "book_id": "934"
                                },
                                {
                                    "title": "NULL",
                                    "average_rating": "NULL",
                                    "books_count": "NULL",
                                    "user_id": "29",
                                    "book_id": "1084"
                                },
                                {
                                    "title": "NULL",
                                    "average_rating": "NULL",
                                    "books_count": "NULL",
                                    "user_id": "29",
                                    "book_id": "1364"
                                },
                                {
                                    "title": "NULL",
                                    "average_rating": "NULL",
                                    "books_count": "NULL",
                                    "user_id": "29",
                                    "book_id": "1642"
                                },
                                {
                                    "title": "NULL",
                                    "average_rating": "NULL",
                                    "books_count": "NULL",
                                    "user_id": "29",
                                    "book_id": "1695"
                                },
                                {
                                    "title": "NULL",
                                    "average_rating": "NULL",
                                    "books_count": "NULL",
                                    "user_id": "29",
                                    "book_id": "2259"
                                },
                                {
                                    "title": "NULL",
                                    "average_rating": "NULL",
                                    "books_count": "NULL",
                                    "user_id": "29",
                                    "book_id": "2284"
                                },
                                {
                                    "title": "NULL",
                                    "average_rating": "NULL",
                                    "books_count": "NULL",
                                    "user_id": "29",
                                    "book_id": "2304"
                                },
                                {
                                    "title": "NULL",
                                    "average_rating": "NULL",
                                    "books_count": "NULL",
                                    "user_id": "29",
                                    "book_id": "2967"
                                },
                                {
                                    "title": "NULL",
                                    "average_rating": "NULL",
                                    "books_count": "NULL",
                                    "user_id": "29",
                                    "book_id": "3508"
                                },
                                {
                                    "title": "NULL",
                                    "average_rating": "NULL",
                                    "books_count": "NULL",
                                    "user_id": "29",
                                    "book_id": "4359"
                                },
                                {
                                    "title": "NULL",
                                    "average_rating": "NULL",
                                    "books_count": "NULL",
                                    "user_id": "29",
                                    "book_id": "4394"
                                },
                                {
                                    "title": "NULL",
                                    "average_rating": "NULL",
                                    "books_count": "NULL",
                                    "user_id": "29",
                                    "book_id": "4475"
                                },
                                {
                                    "title": "NULL",
                                    "average_rating": "NULL",
                                    "books_count": "NULL",
                                    "user_id": "29",
                                    "book_id": "4629"
                                },
                                {
                                    "title": "NULL",
                                    "average_rating": "NULL",
                                    "books_count": "NULL",
                                    "user_id": "29",
                                    "book_id": "5090"
                                },
                                {
                                    "title": "NULL",
                                    "average_rating": "NULL",
                                    "books_count": "NULL",
                                    "user_id": "29",
                                    "book_id": "5596"
                                },
                                {
                                    "title": "NULL",
                                    "average_rating": "NULL",
                                    "books_count": "NULL",
                                    "user_id": "29",
                                    "book_id": "5851"
                                },
                                {
                                    "title": "NULL",
                                    "average_rating": "NULL",
                                    "books_count": "NULL",
                                    "user_id": "29",
                                    "book_id": "6104"
                                },
                                {
                                    "title": "NULL",
                                    "average_rating": "NULL",
                                    "books_count": "NULL",
                                    "user_id": "30",
                                    "book_id": "47"
                                },
                                {
                                    "title": "The Known World",
                                    "average_rating": "3.82",
                                    "books_count": "42",
                                    "user_id": "30",
                                    "book_id": "67"
                                },
                                {
                                    "title": "NULL",
                                    "average_rating": "NULL",
                                    "books_count": "NULL",
                                    "user_id": "30",
                                    "book_id": "82"
                                },
                                {
                                    "title": "NULL",
                                    "average_rating": "NULL",
                                    "books_count": "NULL",
                                    "user_id": "30",
                                    "book_id": "121"
                                },
                                {
                                    "title": "NULL",
                                    "average_rating": "NULL",
                                    "books_count": "NULL",
                                    "user_id": "30",
                                    "book_id": "177"
                                },
                                {
                                    "title": "Tropic of Cancer",
                                    "average_rating": "3.71",
                                    "books_count": "205",
                                    "user_id": "30",
                                    "book_id": "249"
                                },
                                {
                                    "title": "NULL",
                                    "average_rating": "NULL",
                                    "books_count": "NULL",
                                    "user_id": "30",
                                    "book_id": "297"
                                },
                                {
                                    "title": "NULL",
                                    "average_rating": "NULL",
                                    "books_count": "NULL",
                                    "user_id": "30",
                                    "book_id": "407"
                                },
                                {
                                    "title": "NULL",
                                    "average_rating": "NULL",
                                    "books_count": "NULL",
                                    "user_id": "30",
                                    "book_id": "426"
                                },
                                {
                                    "title": "NULL",
                                    "average_rating": "NULL",
                                    "books_count": "NULL",
                                    "user_id": "30",
                                    "book_id": "430"
                                },
                                {
                                    "title": "NULL",
                                    "average_rating": "NULL",
                                    "books_count": "NULL",
                                    "user_id": "30",
                                    "book_id": "442"
                                },
                                {
                                    "title": "NULL",
                                    "average_rating": "NULL",
                                    "books_count": "NULL",
                                    "user_id": "30",
                                    "book_id": "516"
                                },
                                {
                                    "title": "NULL",
                                    "average_rating": "NULL",
                                    "books_count": "NULL",
                                    "user_id": "30",
                                    "book_id": "658"
                                },
                                {
                                    "title": "NULL",
                                    "average_rating": "NULL",
                                    "books_count": "NULL",
                                    "user_id": "30",
                                    "book_id": "895"
                                },
                                {
                                    "title": "NULL",
                                    "average_rating": "NULL",
                                    "books_count": "NULL",
                                    "user_id": "30",
                                    "book_id": "1039"
                                },
                                {
                                    "title": "NULL",
                                    "average_rating": "NULL",
                                    "books_count": "NULL",
                                    "user_id": "30",
                                    "book_id": "1094"
                                },
                                {
                                    "title": "The Odyssey",
                                    "average_rating": "3.73",
                                    "books_count": "1703",
                                    "user_id": "30",
                                    "book_id": "1381"
                                },
                                {
                                    "title": "NULL",
                                    "average_rating": "NULL",
                                    "books_count": "NULL",
                                    "user_id": "30",
                                    "book_id": "2117"
                                },
                                {
                                    "title": "NULL",
                                    "average_rating": "NULL",
                                    "books_count": "NULL",
                                    "user_id": "30",
                                    "book_id": "2426"
                                },
                                {
                                    "title": "NULL",
                                    "average_rating": "NULL",
                                    "books_count": "NULL",
                                    "user_id": "30",
                                    "book_id": "3444"
                                },
                                {
                                    "title": "The Pilgrimage",
                                    "average_rating": "3.64",
                                    "books_count": "171",
                                    "user_id": "30",
                                    "book_id": "4004"
                                },
                                {
                                    "title": "NULL",
                                    "average_rating": "NULL",
                                    "books_count": "NULL",
                                    "user_id": "30",
                                    "book_id": "4202"
                                },
                                {
                                    "title": "NULL",
                                    "average_rating": "NULL",
                                    "books_count": "NULL",
                                    "user_id": "30",
                                    "book_id": "4509"
                                },
                                {
                                    "title": "NULL",
                                    "average_rating": "NULL",
                                    "books_count": "NULL",
                                    "user_id": "30",
                                    "book_id": "5880"
                                },
                                {
                                    "title": "The Hobbit",
                                    "average_rating": "4.25",
                                    "books_count": "969",
                                    "user_id": "30",
                                    "book_id": "5907"
                                },
                                {
                                    "title": "NULL",
                                    "average_rating": "NULL",
                                    "books_count": "NULL",
                                    "user_id": "30",
                                    "book_id": "6828"
                                },
                                {
                                    "title": "NULL",
                                    "average_rating": "NULL",
                                    "books_count": "NULL",
                                    "user_id": "30",
                                    "book_id": "7563"
                                },
                                {
                                    "title": "NULL",
                                    "average_rating": "NULL",
                                    "books_count": "NULL",
                                    "user_id": "30",
                                    "book_id": "8737"
                                },
                                {
                                    "title": "NULL",
                                    "average_rating": "NULL",
                                    "books_count": "NULL",
                                    "user_id": "31",
                                    "book_id": "94"
                                },
                                {
                                    "title": "NULL",
                                    "average_rating": "NULL",
                                    "books_count": "NULL",
                                    "user_id": "31",
                                    "book_id": "584"
                                }
                            ]
                        },
                        "text/html": [
                            "<table>",
                            "<tr><th>title</th><th>average_rating</th><th>books_count</th><th>user_id</th><th>book_id</th></tr>",
                            "<tr><td>Children of Dune (Dune Chronicles #3)</td><td>3.9</td><td>116</td><td>1</td><td>112</td></tr>",
                            "<tr><td>NULL</td><td>NULL</td><td>NULL</td><td>1</td><td>235</td></tr>",
                            "<tr><td>NULL</td><td>NULL</td><td>NULL</td><td>1</td><td>533</td></tr>",
                            "<tr><td>NULL</td><td>NULL</td><td>NULL</td><td>1</td><td>1198</td></tr>",
                            "<tr><td>NULL</td><td>NULL</td><td>NULL</td><td>1</td><td>1874</td></tr>",
                            "<tr><td>NULL</td><td>NULL</td><td>NULL</td><td>1</td><td>2058</td></tr>",
                            "<tr><td>NULL</td><td>NULL</td><td>NULL</td><td>1</td><td>3334</td></tr>",
                            "<tr><td>NULL</td><td>NULL</td><td>NULL</td><td>2</td><td>4</td></tr>",
                            "<tr><td>NULL</td><td>NULL</td><td>NULL</td><td>2</td><td>11</td></tr>",
                            "<tr><td>The Ultimate Hitchhiker's Guide to the Galaxy</td><td>4.37</td><td>32</td><td>2</td><td>13</td></tr>",
                            "<tr><td>NULL</td><td>NULL</td><td>NULL</td><td>2</td><td>16</td></tr>",
                            "<tr><td>NULL</td><td>NULL</td><td>NULL</td><td>2</td><td>92</td></tr>",
                            "<tr><td>Dune Messiah (Dune Chronicles #2)</td><td>3.86</td><td>140</td><td>2</td><td>106</td></tr>",
                            "<tr><td>NULL</td><td>NULL</td><td>NULL</td><td>2</td><td>113</td></tr>",
                            "<tr><td>NULL</td><td>NULL</td><td>NULL</td><td>2</td><td>233</td></tr>",
                            "<tr><td>NULL</td><td>NULL</td><td>NULL</td><td>2</td><td>247</td></tr>",
                            "<tr><td>NULL</td><td>NULL</td><td>NULL</td><td>2</td><td>380</td></tr>",
                            "<tr><td>NULL</td><td>NULL</td><td>NULL</td><td>2</td><td>408</td></tr>",
                            "<tr><td>NULL</td><td>NULL</td><td>NULL</td><td>2</td><td>439</td></tr>",
                            "<tr><td>NULL</td><td>NULL</td><td>NULL</td><td>2</td><td>479</td></tr>",
                            "<tr><td>NULL</td><td>NULL</td><td>NULL</td><td>2</td><td>516</td></tr>",
                            "<tr><td>NULL</td><td>NULL</td><td>NULL</td><td>2</td><td>619</td></tr>",
                            "<tr><td>NULL</td><td>NULL</td><td>NULL</td><td>2</td><td>1069</td></tr>",
                            "<tr><td>The Iliad</td><td>3.83</td><td>1726</td><td>2</td><td>1371</td></tr>",
                            "<tr><td>NULL</td><td>NULL</td><td>NULL</td><td>2</td><td>1384</td></tr>",
                            "<tr><td>NULL</td><td>NULL</td><td>NULL</td><td>2</td><td>1597</td></tr>",
                            "<tr><td>NULL</td><td>NULL</td><td>NULL</td><td>2</td><td>1926</td></tr>",
                            "<tr><td>NULL</td><td>NULL</td><td>NULL</td><td>2</td><td>1967</td></tr>",
                            "<tr><td>NULL</td><td>NULL</td><td>NULL</td><td>2</td><td>1969</td></tr>",
                            "<tr><td>NULL</td><td>NULL</td><td>NULL</td><td>2</td><td>2220</td></tr>",
                            "<tr><td>NULL</td><td>NULL</td><td>NULL</td><td>2</td><td>2388</td></tr>",
                            "<tr><td>NULL</td><td>NULL</td><td>NULL</td><td>2</td><td>3222</td></tr>",
                            "<tr><td>NULL</td><td>NULL</td><td>NULL</td><td>2</td><td>3227</td></tr>",
                            "<tr><td>NULL</td><td>NULL</td><td>NULL</td><td>2</td><td>3733</td></tr>",
                            "<tr><td>NULL</td><td>NULL</td><td>NULL</td><td>2</td><td>5418</td></tr>",
                            "<tr><td>NULL</td><td>NULL</td><td>NULL</td><td>2</td><td>6937</td></tr>",
                            "<tr><td>NULL</td><td>NULL</td><td>NULL</td><td>2</td><td>7146</td></tr>",
                            "<tr><td>NULL</td><td>NULL</td><td>NULL</td><td>2</td><td>7873</td></tr>",
                            "<tr><td>NULL</td><td>NULL</td><td>NULL</td><td>2</td><td>8417</td></tr>",
                            "<tr><td>Harry Potter Collection (Harry Potter, #1-6)</td><td>4.73</td><td>6</td><td>3</td><td>10</td></tr>",
                            "<tr><td>NULL</td><td>NULL</td><td>NULL</td><td>3</td><td>66</td></tr>",
                            "<tr><td>NULL</td><td>NULL</td><td>NULL</td><td>3</td><td>233</td></tr>",
                            "<tr><td>NULL</td><td>NULL</td><td>NULL</td><td>3</td><td>726</td></tr>",
                            "<tr><td>NULL</td><td>NULL</td><td>NULL</td><td>3</td><td>932</td></tr>",
                            "<tr><td>NULL</td><td>NULL</td><td>NULL</td><td>3</td><td>1146</td></tr>",
                            "<tr><td>NULL</td><td>NULL</td><td>NULL</td><td>3</td><td>2439</td></tr>",
                            "<tr><td>NULL</td><td>NULL</td><td>NULL</td><td>3</td><td>3566</td></tr>",
                            "<tr><td>NULL</td><td>NULL</td><td>NULL</td><td>3</td><td>4582</td></tr>",
                            "<tr><td>NULL</td><td>NULL</td><td>NULL</td><td>3</td><td>5448</td></tr>",
                            "<tr><td>NULL</td><td>NULL</td><td>NULL</td><td>3</td><td>5765</td></tr>",
                            "<tr><td>NULL</td><td>NULL</td><td>NULL</td><td>3</td><td>6274</td></tr>",
                            "<tr><td>NULL</td><td>NULL</td><td>NULL</td><td>3</td><td>8403</td></tr>",
                            "<tr><td>NULL</td><td>NULL</td><td>NULL</td><td>5</td><td>31</td></tr>",
                            "<tr><td>The Virtue of Selfishness: A New Concept of Egoism</td><td>3.47</td><td>53</td><td>5</td><td>665</td></tr>",
                            "<tr><td>NULL</td><td>NULL</td><td>NULL</td><td>5</td><td>3074</td></tr>",
                            "<tr><td>Sherlock Holmes: The Complete Novels and Stories, Volume I</td><td>4.45</td><td>13</td><td>5</td><td>3581</td></tr>",
                            "<tr><td>NULL</td><td>NULL</td><td>NULL</td><td>6</td><td>64</td></tr>",
                            "<tr><td>NULL</td><td>NULL</td><td>NULL</td><td>6</td><td>459</td></tr>",
                            "<tr><td>NULL</td><td>NULL</td><td>NULL</td><td>6</td><td>619</td></tr>",
                            "<tr><td>NULL</td><td>NULL</td><td>NULL</td><td>6</td><td>649</td></tr>",
                            "<tr><td>NULL</td><td>NULL</td><td>NULL</td><td>6</td><td>687</td></tr>",
                            "<tr><td>NULL</td><td>NULL</td><td>NULL</td><td>6</td><td>874</td></tr>",
                            "<tr><td>The War of Art: Break Through the Blocks &amp; Win Your Inner Creative Battles</td><td>4.07</td><td>29</td><td>6</td><td>1319</td></tr>",
                            "<tr><td>NULL</td><td>NULL</td><td>NULL</td><td>6</td><td>1912</td></tr>",
                            "<tr><td>NULL</td><td>NULL</td><td>NULL</td><td>6</td><td>5269</td></tr>",
                            "<tr><td>NULL</td><td>NULL</td><td>NULL</td><td>6</td><td>5537</td></tr>",
                            "<tr><td>NULL</td><td>NULL</td><td>NULL</td><td>6</td><td>5820</td></tr>",
                            "<tr><td>NULL</td><td>NULL</td><td>NULL</td><td>6</td><td>6220</td></tr>",
                            "<tr><td>NULL</td><td>NULL</td><td>NULL</td><td>6</td><td>7480</td></tr>",
                            "<tr><td>Harry Potter Collection (Harry Potter, #1-6)</td><td>4.73</td><td>6</td><td>7</td><td>10</td></tr>",
                            "<tr><td>NULL</td><td>NULL</td><td>NULL</td><td>7</td><td>215</td></tr>",
                            "<tr><td>NULL</td><td>NULL</td><td>NULL</td><td>7</td><td>225</td></tr>",
                            "<tr><td>NULL</td><td>NULL</td><td>NULL</td><td>7</td><td>233</td></tr>",
                            "<tr><td>NULL</td><td>NULL</td><td>NULL</td><td>7</td><td>1322</td></tr>",
                            "<tr><td>NULL</td><td>NULL</td><td>NULL</td><td>7</td><td>3552</td></tr>",
                            "<tr><td>NULL</td><td>NULL</td><td>NULL</td><td>7</td><td>3720</td></tr>",
                            "<tr><td>NULL</td><td>NULL</td><td>NULL</td><td>7</td><td>4468</td></tr>",
                            "<tr><td>NULL</td><td>NULL</td><td>NULL</td><td>8</td><td>19</td></tr>",
                            "<tr><td>NULL</td><td>NULL</td><td>NULL</td><td>8</td><td>498</td></tr>",
                            "<tr><td>NULL</td><td>NULL</td><td>NULL</td><td>8</td><td>1357</td></tr>",
                            "<tr><td>NULL</td><td>NULL</td><td>NULL</td><td>8</td><td>2177</td></tr>",
                            "<tr><td>NULL</td><td>NULL</td><td>NULL</td><td>8</td><td>3930</td></tr>",
                            "<tr><td>The Pilgrimage</td><td>3.64</td><td>171</td><td>8</td><td>4004</td></tr>",
                            "<tr><td>NULL</td><td>NULL</td><td>NULL</td><td>8</td><td>8792</td></tr>",
                            "<tr><td>NULL</td><td>NULL</td><td>NULL</td><td>8</td><td>9304</td></tr>",
                            "<tr><td>Harry Potter Boxed Set, Books 1-5 (Harry Potter, #1-5)</td><td>4.77</td><td>11</td><td>9</td><td>8</td></tr>",
                            "<tr><td>Children of Dune (Dune Chronicles #3)</td><td>3.9</td><td>116</td><td>9</td><td>112</td></tr>",
                            "<tr><td>NULL</td><td>NULL</td><td>NULL</td><td>9</td><td>139</td></tr>",
                            "<tr><td>NULL</td><td>NULL</td><td>NULL</td><td>9</td><td>230</td></tr>",
                            "<tr><td>NULL</td><td>NULL</td><td>NULL</td><td>9</td><td>233</td></tr>",
                            "<tr><td>NULL</td><td>NULL</td><td>NULL</td><td>9</td><td>473</td></tr>",
                            "<tr><td>NULL</td><td>NULL</td><td>NULL</td><td>9</td><td>638</td></tr>",
                            "<tr><td>NULL</td><td>NULL</td><td>NULL</td><td>9</td><td>653</td></tr>",
                            "<tr><td>NULL</td><td>NULL</td><td>NULL</td><td>9</td><td>672</td></tr>",
                            "<tr><td>NULL</td><td>NULL</td><td>NULL</td><td>9</td><td>701</td></tr>",
                            "<tr><td>NULL</td><td>NULL</td><td>NULL</td><td>9</td><td>736</td></tr>",
                            "<tr><td>NULL</td><td>NULL</td><td>NULL</td><td>9</td><td>883</td></tr>",
                            "<tr><td>NULL</td><td>NULL</td><td>NULL</td><td>9</td><td>895</td></tr>",
                            "<tr><td>NULL</td><td>NULL</td><td>NULL</td><td>9</td><td>1467</td></tr>",
                            "<tr><td>NULL</td><td>NULL</td><td>NULL</td><td>9</td><td>1582</td></tr>",
                            "<tr><td>NULL</td><td>NULL</td><td>NULL</td><td>9</td><td>1873</td></tr>",
                            "<tr><td>NULL</td><td>NULL</td><td>NULL</td><td>9</td><td>2516</td></tr>",
                            "<tr><td>NULL</td><td>NULL</td><td>NULL</td><td>9</td><td>2630</td></tr>",
                            "<tr><td>NULL</td><td>NULL</td><td>NULL</td><td>9</td><td>3210</td></tr>",
                            "<tr><td>Icy Sparks</td><td>3.68</td><td>27</td><td>9</td><td>3476</td></tr>",
                            "<tr><td>NULL</td><td>NULL</td><td>NULL</td><td>9</td><td>3560</td></tr>",
                            "<tr><td>NULL</td><td>NULL</td><td>NULL</td><td>9</td><td>3650</td></tr>",
                            "<tr><td>NULL</td><td>NULL</td><td>NULL</td><td>9</td><td>5286</td></tr>",
                            "<tr><td>NULL</td><td>NULL</td><td>NULL</td><td>9</td><td>6636</td></tr>",
                            "<tr><td>Harry Potter and the Goblet of Fire (Harry Potter, #4)</td><td>4.53</td><td>332</td><td>10</td><td>6</td></tr>",
                            "<tr><td>NULL</td><td>NULL</td><td>NULL</td><td>10</td><td>385</td></tr>",
                            "<tr><td>Atlas Shrugged</td><td>3.68</td><td>147</td><td>10</td><td>662</td></tr>",
                            "<tr><td>NULL</td><td>NULL</td><td>NULL</td><td>10</td><td>896</td></tr>",
                            "<tr><td>NULL</td><td>NULL</td><td>NULL</td><td>10</td><td>1076</td></tr>",
                            "<tr><td>NULL</td><td>NULL</td><td>NULL</td><td>10</td><td>1082</td></tr>",
                            "<tr><td>NULL</td><td>NULL</td><td>NULL</td><td>10</td><td>1220</td></tr>",
                            "<tr><td>NULL</td><td>NULL</td><td>NULL</td><td>10</td><td>1281</td></tr>",
                            "<tr><td>NULL</td><td>NULL</td><td>NULL</td><td>10</td><td>1439</td></tr>",
                            "<tr><td>NULL</td><td>NULL</td><td>NULL</td><td>10</td><td>1851</td></tr>",
                            "<tr><td>NULL</td><td>NULL</td><td>NULL</td><td>10</td><td>1920</td></tr>",
                            "<tr><td>NULL</td><td>NULL</td><td>NULL</td><td>10</td><td>2441</td></tr>",
                            "<tr><td>NULL</td><td>NULL</td><td>NULL</td><td>10</td><td>2570</td></tr>",
                            "<tr><td>NULL</td><td>NULL</td><td>NULL</td><td>10</td><td>2616</td></tr>",
                            "<tr><td>NULL</td><td>NULL</td><td>NULL</td><td>10</td><td>3059</td></tr>",
                            "<tr><td>NULL</td><td>NULL</td><td>NULL</td><td>10</td><td>3545</td></tr>",
                            "<tr><td>NULL</td><td>NULL</td><td>NULL</td><td>10</td><td>3961</td></tr>",
                            "<tr><td>NULL</td><td>NULL</td><td>NULL</td><td>10</td><td>4369</td></tr>",
                            "<tr><td>NULL</td><td>NULL</td><td>NULL</td><td>10</td><td>4510</td></tr>",
                            "<tr><td>NULL</td><td>NULL</td><td>NULL</td><td>10</td><td>5104</td></tr>",
                            "<tr><td>NULL</td><td>NULL</td><td>NULL</td><td>10</td><td>5254</td></tr>",
                            "<tr><td>NULL</td><td>NULL</td><td>NULL</td><td>10</td><td>5556</td></tr>",
                            "<tr><td>NULL</td><td>NULL</td><td>NULL</td><td>10</td><td>6114</td></tr>",
                            "<tr><td>NULL</td><td>NULL</td><td>NULL</td><td>10</td><td>6917</td></tr>",
                            "<tr><td>NULL</td><td>NULL</td><td>NULL</td><td>10</td><td>7545</td></tr>",
                            "<tr><td>NULL</td><td>NULL</td><td>NULL</td><td>10</td><td>7842</td></tr>",
                            "<tr><td>NULL</td><td>NULL</td><td>NULL</td><td>11</td><td>3643</td></tr>",
                            "<tr><td>Harry Potter and the Half-Blood Prince (Harry Potter, #6)</td><td>4.54</td><td>275</td><td>12</td><td>1</td></tr>",
                            "<tr><td>NULL</td><td>NULL</td><td>NULL</td><td>12</td><td>124</td></tr>",
                            "<tr><td>NULL</td><td>NULL</td><td>NULL</td><td>12</td><td>1471</td></tr>",
                            "<tr><td>NULL</td><td>NULL</td><td>NULL</td><td>12</td><td>2893</td></tr>",
                            "<tr><td>NULL</td><td>NULL</td><td>NULL</td><td>13</td><td>81</td></tr>",
                            "<tr><td>NULL</td><td>NULL</td><td>NULL</td><td>13</td><td>277</td></tr>",
                            "<tr><td>NULL</td><td>NULL</td><td>NULL</td><td>13</td><td>318</td></tr>",
                            "<tr><td>NULL</td><td>NULL</td><td>NULL</td><td>13</td><td>430</td></tr>",
                            "<tr><td>NULL</td><td>NULL</td><td>NULL</td><td>13</td><td>437</td></tr>",
                            "<tr><td>NULL</td><td>NULL</td><td>NULL</td><td>13</td><td>551</td></tr>",
                            "<tr><td>NULL</td><td>NULL</td><td>NULL</td><td>13</td><td>560</td></tr>",
                            "<tr><td>NULL</td><td>NULL</td><td>NULL</td><td>13</td><td>610</td></tr>",
                            "<tr><td>NULL</td><td>NULL</td><td>NULL</td><td>13</td><td>678</td></tr>",
                            "<tr><td>NULL</td><td>NULL</td><td>NULL</td><td>13</td><td>979</td></tr>",
                            "<tr><td>NULL</td><td>NULL</td><td>NULL</td><td>13</td><td>1082</td></tr>",
                            "<tr><td>NULL</td><td>NULL</td><td>NULL</td><td>13</td><td>1464</td></tr>",
                            "<tr><td>NULL</td><td>NULL</td><td>NULL</td><td>13</td><td>1577</td></tr>",
                            "<tr><td>NULL</td><td>NULL</td><td>NULL</td><td>13</td><td>2018</td></tr>",
                            "<tr><td>NULL</td><td>NULL</td><td>NULL</td><td>13</td><td>2418</td></tr>",
                            "<tr><td>NULL</td><td>NULL</td><td>NULL</td><td>13</td><td>3257</td></tr>",
                            "<tr><td>NULL</td><td>NULL</td><td>NULL</td><td>13</td><td>4212</td></tr>",
                            "<tr><td>NULL</td><td>NULL</td><td>NULL</td><td>13</td><td>4635</td></tr>",
                            "<tr><td>NULL</td><td>NULL</td><td>NULL</td><td>13</td><td>4704</td></tr>",
                            "<tr><td>NULL</td><td>NULL</td><td>NULL</td><td>13</td><td>4734</td></tr>",
                            "<tr><td>NULL</td><td>NULL</td><td>NULL</td><td>13</td><td>4841</td></tr>",
                            "<tr><td>NULL</td><td>NULL</td><td>NULL</td><td>13</td><td>4848</td></tr>",
                            "<tr><td>NULL</td><td>NULL</td><td>NULL</td><td>13</td><td>4856</td></tr>",
                            "<tr><td>NULL</td><td>NULL</td><td>NULL</td><td>13</td><td>4928</td></tr>",
                            "<tr><td>NULL</td><td>NULL</td><td>NULL</td><td>13</td><td>6114</td></tr>",
                            "<tr><td>NULL</td><td>NULL</td><td>NULL</td><td>13</td><td>6793</td></tr>",
                            "<tr><td>NULL</td><td>NULL</td><td>NULL</td><td>13</td><td>6962</td></tr>",
                            "<tr><td>NULL</td><td>NULL</td><td>NULL</td><td>13</td><td>8717</td></tr>",
                            "<tr><td>NULL</td><td>NULL</td><td>NULL</td><td>14</td><td>493</td></tr>",
                            "<tr><td>NULL</td><td>NULL</td><td>NULL</td><td>14</td><td>1179</td></tr>",
                            "<tr><td>NULL</td><td>NULL</td><td>NULL</td><td>14</td><td>2693</td></tr>",
                            "<tr><td>Sherlock Holmes: The Complete Novels and Stories, Volume I</td><td>4.45</td><td>13</td><td>14</td><td>3581</td></tr>",
                            "<tr><td>NULL</td><td>NULL</td><td>NULL</td><td>14</td><td>3683</td></tr>",
                            "<tr><td>NULL</td><td>NULL</td><td>NULL</td><td>14</td><td>3953</td></tr>",
                            "<tr><td>NULL</td><td>NULL</td><td>NULL</td><td>14</td><td>4220</td></tr>",
                            "<tr><td>NULL</td><td>NULL</td><td>NULL</td><td>14</td><td>5076</td></tr>",
                            "<tr><td>NULL</td><td>NULL</td><td>NULL</td><td>14</td><td>5537</td></tr>",
                            "<tr><td>NULL</td><td>NULL</td><td>NULL</td><td>14</td><td>7777</td></tr>",
                            "<tr><td>NULL</td><td>NULL</td><td>NULL</td><td>15</td><td>191</td></tr>",
                            "<tr><td>The Lover</td><td>3.76</td><td>148</td><td>15</td><td>275</td></tr>",
                            "<tr><td>NULL</td><td>NULL</td><td>NULL</td><td>15</td><td>398</td></tr>",
                            "<tr><td>NULL</td><td>NULL</td><td>NULL</td><td>15</td><td>666</td></tr>",
                            "<tr><td>NULL</td><td>NULL</td><td>NULL</td><td>15</td><td>1491</td></tr>",
                            "<tr><td>NULL</td><td>NULL</td><td>NULL</td><td>15</td><td>5210</td></tr>",
                            "<tr><td>NULL</td><td>NULL</td><td>NULL</td><td>17</td><td>1344</td></tr>",
                            "<tr><td>The Good Soldier</td><td>3.72</td><td>362</td><td>20</td><td>7628</td></tr>",
                            "<tr><td>NULL</td><td>NULL</td><td>NULL</td><td>22</td><td>653</td></tr>",
                            "<tr><td>NULL</td><td>NULL</td><td>NULL</td><td>22</td><td>1403</td></tr>",
                            "<tr><td>NULL</td><td>NULL</td><td>NULL</td><td>22</td><td>1405</td></tr>",
                            "<tr><td>NULL</td><td>NULL</td><td>NULL</td><td>22</td><td>1645</td></tr>",
                            "<tr><td>NULL</td><td>NULL</td><td>NULL</td><td>22</td><td>2500</td></tr>",
                            "<tr><td>NULL</td><td>NULL</td><td>NULL</td><td>22</td><td>2691</td></tr>",
                            "<tr><td>NULL</td><td>NULL</td><td>NULL</td><td>22</td><td>4995</td></tr>",
                            "<tr><td>NULL</td><td>NULL</td><td>NULL</td><td>23</td><td>273</td></tr>",
                            "<tr><td>NULL</td><td>NULL</td><td>NULL</td><td>23</td><td>459</td></tr>",
                            "<tr><td>NULL</td><td>NULL</td><td>NULL</td><td>23</td><td>791</td></tr>",
                            "<tr><td>NULL</td><td>NULL</td><td>NULL</td><td>23</td><td>886</td></tr>",
                            "<tr><td>NULL</td><td>NULL</td><td>NULL</td><td>23</td><td>925</td></tr>",
                            "<tr><td>NULL</td><td>NULL</td><td>NULL</td><td>23</td><td>1198</td></tr>",
                            "<tr><td>NULL</td><td>NULL</td><td>NULL</td><td>23</td><td>1597</td></tr>",
                            "<tr><td>NULL</td><td>NULL</td><td>NULL</td><td>23</td><td>1688</td></tr>",
                            "<tr><td>NULL</td><td>NULL</td><td>NULL</td><td>23</td><td>2251</td></tr>",
                            "<tr><td>NULL</td><td>NULL</td><td>NULL</td><td>23</td><td>2350</td></tr>",
                            "<tr><td>NULL</td><td>NULL</td><td>NULL</td><td>23</td><td>2613</td></tr>",
                            "<tr><td>NULL</td><td>NULL</td><td>NULL</td><td>23</td><td>3312</td></tr>",
                            "<tr><td>NULL</td><td>NULL</td><td>NULL</td><td>23</td><td>3343</td></tr>",
                            "<tr><td>NULL</td><td>NULL</td><td>NULL</td><td>24</td><td>61</td></tr>",
                            "<tr><td>NULL</td><td>NULL</td><td>NULL</td><td>24</td><td>143</td></tr>",
                            "<tr><td>NULL</td><td>NULL</td><td>NULL</td><td>24</td><td>421</td></tr>",
                            "<tr><td>NULL</td><td>NULL</td><td>NULL</td><td>24</td><td>467</td></tr>",
                            "<tr><td>NULL</td><td>NULL</td><td>NULL</td><td>24</td><td>974</td></tr>",
                            "<tr><td>NULL</td><td>NULL</td><td>NULL</td><td>26</td><td>508</td></tr>",
                            "<tr><td>NULL</td><td>NULL</td><td>NULL</td><td>26</td><td>1796</td></tr>",
                            "<tr><td>NULL</td><td>NULL</td><td>NULL</td><td>26</td><td>2257</td></tr>",
                            "<tr><td>NULL</td><td>NULL</td><td>NULL</td><td>26</td><td>2314</td></tr>",
                            "<tr><td>NULL</td><td>NULL</td><td>NULL</td><td>26</td><td>2357</td></tr>",
                            "<tr><td>NULL</td><td>NULL</td><td>NULL</td><td>26</td><td>2738</td></tr>",
                            "<tr><td>NULL</td><td>NULL</td><td>NULL</td><td>26</td><td>2810</td></tr>",
                            "<tr><td>NULL</td><td>NULL</td><td>NULL</td><td>26</td><td>3207</td></tr>",
                            "<tr><td>The Thorn Birds</td><td>4.22</td><td>201</td><td>26</td><td>3412</td></tr>",
                            "<tr><td>The Complete Sherlock Holmes, Vol 2</td><td>4.46</td><td>117</td><td>26</td><td>3586</td></tr>",
                            "<tr><td>The Dark Tower (The Dark Tower, #7)</td><td>4.27</td><td>105</td><td>26</td><td>5091</td></tr>",
                            "<tr><td>NULL</td><td>NULL</td><td>NULL</td><td>26</td><td>5550</td></tr>",
                            "<tr><td>NULL</td><td>NULL</td><td>NULL</td><td>26</td><td>6877</td></tr>",
                            "<tr><td>NULL</td><td>NULL</td><td>NULL</td><td>26</td><td>7970</td></tr>",
                            "<tr><td>NULL</td><td>NULL</td><td>NULL</td><td>28</td><td>265</td></tr>",
                            "<tr><td>NULL</td><td>NULL</td><td>NULL</td><td>28</td><td>587</td></tr>",
                            "<tr><td>NULL</td><td>NULL</td><td>NULL</td><td>28</td><td>3543</td></tr>",
                            "<tr><td>NULL</td><td>NULL</td><td>NULL</td><td>28</td><td>5215</td></tr>",
                            "<tr><td>NULL</td><td>NULL</td><td>NULL</td><td>28</td><td>7496</td></tr>",
                            "<tr><td>NULL</td><td>NULL</td><td>NULL</td><td>28</td><td>8654</td></tr>",
                            "<tr><td>NULL</td><td>NULL</td><td>NULL</td><td>29</td><td>31</td></tr>",
                            "<tr><td>NULL</td><td>NULL</td><td>NULL</td><td>29</td><td>32</td></tr>",
                            "<tr><td>The Lord of the Rings: Weapons and Warfare</td><td>4.53</td><td>12</td><td>29</td><td>36</td></tr>",
                            "<tr><td>NULL</td><td>NULL</td><td>NULL</td><td>29</td><td>45</td></tr>",
                            "<tr><td>NULL</td><td>NULL</td><td>NULL</td><td>29</td><td>65</td></tr>",
                            "<tr><td>NULL</td><td>NULL</td><td>NULL</td><td>29</td><td>87</td></tr>",
                            "<tr><td>NULL</td><td>NULL</td><td>NULL</td><td>29</td><td>115</td></tr>",
                            "<tr><td>NULL</td><td>NULL</td><td>NULL</td><td>29</td><td>121</td></tr>",
                            "<tr><td>NULL</td><td>NULL</td><td>NULL</td><td>29</td><td>131</td></tr>",
                            "<tr><td>NULL</td><td>NULL</td><td>NULL</td><td>29</td><td>178</td></tr>",
                            "<tr><td>NULL</td><td>NULL</td><td>NULL</td><td>29</td><td>256</td></tr>",
                            "<tr><td>NULL</td><td>NULL</td><td>NULL</td><td>29</td><td>323</td></tr>",
                            "<tr><td>Slouching Towards Bethlehem</td><td>4.24</td><td>34</td><td>29</td><td>424</td></tr>",
                            "<tr><td>NULL</td><td>NULL</td><td>NULL</td><td>29</td><td>467</td></tr>",
                            "<tr><td>NULL</td><td>NULL</td><td>NULL</td><td>29</td><td>550</td></tr>",
                            "<tr><td>NULL</td><td>NULL</td><td>NULL</td><td>29</td><td>618</td></tr>",
                            "<tr><td>Atlas Shrugged</td><td>3.68</td><td>147</td><td>29</td><td>662</td></tr>",
                            "<tr><td>NULL</td><td>NULL</td><td>NULL</td><td>29</td><td>709</td></tr>",
                            "<tr><td>NULL</td><td>NULL</td><td>NULL</td><td>29</td><td>730</td></tr>",
                            "<tr><td>NULL</td><td>NULL</td><td>NULL</td><td>29</td><td>771</td></tr>",
                            "<tr><td>NULL</td><td>NULL</td><td>NULL</td><td>29</td><td>809</td></tr>",
                            "<tr><td>NULL</td><td>NULL</td><td>NULL</td><td>29</td><td>934</td></tr>",
                            "<tr><td>NULL</td><td>NULL</td><td>NULL</td><td>29</td><td>1084</td></tr>",
                            "<tr><td>NULL</td><td>NULL</td><td>NULL</td><td>29</td><td>1364</td></tr>",
                            "<tr><td>NULL</td><td>NULL</td><td>NULL</td><td>29</td><td>1642</td></tr>",
                            "<tr><td>NULL</td><td>NULL</td><td>NULL</td><td>29</td><td>1695</td></tr>",
                            "<tr><td>NULL</td><td>NULL</td><td>NULL</td><td>29</td><td>2259</td></tr>",
                            "<tr><td>NULL</td><td>NULL</td><td>NULL</td><td>29</td><td>2284</td></tr>",
                            "<tr><td>NULL</td><td>NULL</td><td>NULL</td><td>29</td><td>2304</td></tr>",
                            "<tr><td>NULL</td><td>NULL</td><td>NULL</td><td>29</td><td>2967</td></tr>",
                            "<tr><td>NULL</td><td>NULL</td><td>NULL</td><td>29</td><td>3508</td></tr>",
                            "<tr><td>NULL</td><td>NULL</td><td>NULL</td><td>29</td><td>4359</td></tr>",
                            "<tr><td>NULL</td><td>NULL</td><td>NULL</td><td>29</td><td>4394</td></tr>",
                            "<tr><td>NULL</td><td>NULL</td><td>NULL</td><td>29</td><td>4475</td></tr>",
                            "<tr><td>NULL</td><td>NULL</td><td>NULL</td><td>29</td><td>4629</td></tr>",
                            "<tr><td>NULL</td><td>NULL</td><td>NULL</td><td>29</td><td>5090</td></tr>",
                            "<tr><td>NULL</td><td>NULL</td><td>NULL</td><td>29</td><td>5596</td></tr>",
                            "<tr><td>NULL</td><td>NULL</td><td>NULL</td><td>29</td><td>5851</td></tr>",
                            "<tr><td>NULL</td><td>NULL</td><td>NULL</td><td>29</td><td>6104</td></tr>",
                            "<tr><td>NULL</td><td>NULL</td><td>NULL</td><td>30</td><td>47</td></tr>",
                            "<tr><td>The Known World</td><td>3.82</td><td>42</td><td>30</td><td>67</td></tr>",
                            "<tr><td>NULL</td><td>NULL</td><td>NULL</td><td>30</td><td>82</td></tr>",
                            "<tr><td>NULL</td><td>NULL</td><td>NULL</td><td>30</td><td>121</td></tr>",
                            "<tr><td>NULL</td><td>NULL</td><td>NULL</td><td>30</td><td>177</td></tr>",
                            "<tr><td>Tropic of Cancer</td><td>3.71</td><td>205</td><td>30</td><td>249</td></tr>",
                            "<tr><td>NULL</td><td>NULL</td><td>NULL</td><td>30</td><td>297</td></tr>",
                            "<tr><td>NULL</td><td>NULL</td><td>NULL</td><td>30</td><td>407</td></tr>",
                            "<tr><td>NULL</td><td>NULL</td><td>NULL</td><td>30</td><td>426</td></tr>",
                            "<tr><td>NULL</td><td>NULL</td><td>NULL</td><td>30</td><td>430</td></tr>",
                            "<tr><td>NULL</td><td>NULL</td><td>NULL</td><td>30</td><td>442</td></tr>",
                            "<tr><td>NULL</td><td>NULL</td><td>NULL</td><td>30</td><td>516</td></tr>",
                            "<tr><td>NULL</td><td>NULL</td><td>NULL</td><td>30</td><td>658</td></tr>",
                            "<tr><td>NULL</td><td>NULL</td><td>NULL</td><td>30</td><td>895</td></tr>",
                            "<tr><td>NULL</td><td>NULL</td><td>NULL</td><td>30</td><td>1039</td></tr>",
                            "<tr><td>NULL</td><td>NULL</td><td>NULL</td><td>30</td><td>1094</td></tr>",
                            "<tr><td>The Odyssey</td><td>3.73</td><td>1703</td><td>30</td><td>1381</td></tr>",
                            "<tr><td>NULL</td><td>NULL</td><td>NULL</td><td>30</td><td>2117</td></tr>",
                            "<tr><td>NULL</td><td>NULL</td><td>NULL</td><td>30</td><td>2426</td></tr>",
                            "<tr><td>NULL</td><td>NULL</td><td>NULL</td><td>30</td><td>3444</td></tr>",
                            "<tr><td>The Pilgrimage</td><td>3.64</td><td>171</td><td>30</td><td>4004</td></tr>",
                            "<tr><td>NULL</td><td>NULL</td><td>NULL</td><td>30</td><td>4202</td></tr>",
                            "<tr><td>NULL</td><td>NULL</td><td>NULL</td><td>30</td><td>4509</td></tr>",
                            "<tr><td>NULL</td><td>NULL</td><td>NULL</td><td>30</td><td>5880</td></tr>",
                            "<tr><td>The Hobbit</td><td>4.25</td><td>969</td><td>30</td><td>5907</td></tr>",
                            "<tr><td>NULL</td><td>NULL</td><td>NULL</td><td>30</td><td>6828</td></tr>",
                            "<tr><td>NULL</td><td>NULL</td><td>NULL</td><td>30</td><td>7563</td></tr>",
                            "<tr><td>NULL</td><td>NULL</td><td>NULL</td><td>30</td><td>8737</td></tr>",
                            "<tr><td>NULL</td><td>NULL</td><td>NULL</td><td>31</td><td>94</td></tr>",
                            "<tr><td>NULL</td><td>NULL</td><td>NULL</td><td>31</td><td>584</td></tr>",
                            "</table>"
                        ]
                    }
                }
            ],
            "execution_count": 11
        },
        {
            "cell_type": "markdown",
            "source": [
                "## **QUESTION 3:** Exploring FULL JOINS with the **books** and **to\\_read** tables\n",
                "\n",
                "You will need to uncomment the Query to answer the question.\n",
                "\n",
                "**Part A:**  Look at the table and explore how it was populated.  Try manipulating the query to better understand how this table works.  Try adding a WHERE clause, or ORDER BY a column on the **books** table.  Based on your exploration, can you think of when you might want a FULL join rather than a LEFT, RIGHT, or INNER?\n",
                "\n",
                "> Your Answer:"
            ],
            "metadata": {
                "azdata_cell_guid": "8f6b8f22-3e5a-4b87-a2f2-07279f1deb94"
            },
            "attachments": {}
        },
        {
            "cell_type": "code",
            "source": [
                "\n",
                "-- FULL JOIN\n",
                "-- SELECT TOP 30 b.title, b.average_rating, b.books_count,tr.user_id, tr.book_id\n",
                "-- FROM BooksDB.dbo.books AS b\n",
                "-- FULL JOIN BooksDB.dbo.to_read AS tr\n",
                "-- ON b.book_id = tr.book_id;\n",
                "\n",
                "SELECT TOP 30 b.title, b.average_rating, b.books_count,tr.user_id, tr.book_id\n",
                "FROM BooksDB.dbo.books AS b\n",
                "Full JOIN BooksDB.dbo.to_read AS tr\n",
                "ON b.best_book_id = tr.book_id\n",
                "WHERE tr.user_id IS NOT NULL\n",
                "ORDER BY b.average_rating;"
            ],
            "metadata": {
                "azdata_cell_guid": "7c2a3dff-ef55-4222-aef0-7c0ab4f942eb",
                "tags": [],
                "language": "sql"
            },
            "outputs": [
                {
                    "output_type": "display_data",
                    "data": {
                        "text/html": "(30 rows affected)"
                    },
                    "metadata": {}
                },
                {
                    "output_type": "display_data",
                    "data": {
                        "text/html": "Total execution time: 00:00:00.192"
                    },
                    "metadata": {}
                },
                {
                    "output_type": "execute_result",
                    "metadata": {},
                    "execution_count": 18,
                    "data": {
                        "application/vnd.dataresource+json": {
                            "schema": {
                                "fields": [
                                    {
                                        "name": "title"
                                    },
                                    {
                                        "name": "average_rating"
                                    },
                                    {
                                        "name": "books_count"
                                    },
                                    {
                                        "name": "user_id"
                                    },
                                    {
                                        "name": "book_id"
                                    }
                                ]
                            },
                            "data": [
                                {
                                    "title": "NULL",
                                    "average_rating": "NULL",
                                    "books_count": "NULL",
                                    "user_id": "1",
                                    "book_id": "1198"
                                },
                                {
                                    "title": "NULL",
                                    "average_rating": "NULL",
                                    "books_count": "NULL",
                                    "user_id": "2",
                                    "book_id": "4"
                                },
                                {
                                    "title": "NULL",
                                    "average_rating": "NULL",
                                    "books_count": "NULL",
                                    "user_id": "1",
                                    "book_id": "533"
                                },
                                {
                                    "title": "NULL",
                                    "average_rating": "NULL",
                                    "books_count": "NULL",
                                    "user_id": "2",
                                    "book_id": "247"
                                },
                                {
                                    "title": "NULL",
                                    "average_rating": "NULL",
                                    "books_count": "NULL",
                                    "user_id": "1",
                                    "book_id": "235"
                                },
                                {
                                    "title": "NULL",
                                    "average_rating": "NULL",
                                    "books_count": "NULL",
                                    "user_id": "2",
                                    "book_id": "92"
                                },
                                {
                                    "title": "NULL",
                                    "average_rating": "NULL",
                                    "books_count": "NULL",
                                    "user_id": "1",
                                    "book_id": "3334"
                                },
                                {
                                    "title": "NULL",
                                    "average_rating": "NULL",
                                    "books_count": "NULL",
                                    "user_id": "2",
                                    "book_id": "2388"
                                },
                                {
                                    "title": "NULL",
                                    "average_rating": "NULL",
                                    "books_count": "NULL",
                                    "user_id": "2",
                                    "book_id": "11"
                                },
                                {
                                    "title": "NULL",
                                    "average_rating": "NULL",
                                    "books_count": "NULL",
                                    "user_id": "1",
                                    "book_id": "1874"
                                },
                                {
                                    "title": "NULL",
                                    "average_rating": "NULL",
                                    "books_count": "NULL",
                                    "user_id": "2",
                                    "book_id": "16"
                                },
                                {
                                    "title": "NULL",
                                    "average_rating": "NULL",
                                    "books_count": "NULL",
                                    "user_id": "2",
                                    "book_id": "3222"
                                },
                                {
                                    "title": "NULL",
                                    "average_rating": "NULL",
                                    "books_count": "NULL",
                                    "user_id": "1",
                                    "book_id": "2058"
                                },
                                {
                                    "title": "NULL",
                                    "average_rating": "NULL",
                                    "books_count": "NULL",
                                    "user_id": "2",
                                    "book_id": "113"
                                },
                                {
                                    "title": "NULL",
                                    "average_rating": "NULL",
                                    "books_count": "NULL",
                                    "user_id": "2",
                                    "book_id": "233"
                                },
                                {
                                    "title": "NULL",
                                    "average_rating": "NULL",
                                    "books_count": "NULL",
                                    "user_id": "2",
                                    "book_id": "3733"
                                },
                                {
                                    "title": "NULL",
                                    "average_rating": "NULL",
                                    "books_count": "NULL",
                                    "user_id": "2",
                                    "book_id": "380"
                                },
                                {
                                    "title": "NULL",
                                    "average_rating": "NULL",
                                    "books_count": "NULL",
                                    "user_id": "2",
                                    "book_id": "408"
                                },
                                {
                                    "title": "NULL",
                                    "average_rating": "NULL",
                                    "books_count": "NULL",
                                    "user_id": "2",
                                    "book_id": "439"
                                },
                                {
                                    "title": "NULL",
                                    "average_rating": "NULL",
                                    "books_count": "NULL",
                                    "user_id": "2",
                                    "book_id": "479"
                                },
                                {
                                    "title": "NULL",
                                    "average_rating": "NULL",
                                    "books_count": "NULL",
                                    "user_id": "2",
                                    "book_id": "516"
                                },
                                {
                                    "title": "NULL",
                                    "average_rating": "NULL",
                                    "books_count": "NULL",
                                    "user_id": "2",
                                    "book_id": "619"
                                },
                                {
                                    "title": "NULL",
                                    "average_rating": "NULL",
                                    "books_count": "NULL",
                                    "user_id": "2",
                                    "book_id": "1069"
                                },
                                {
                                    "title": "NULL",
                                    "average_rating": "NULL",
                                    "books_count": "NULL",
                                    "user_id": "2",
                                    "book_id": "3227"
                                },
                                {
                                    "title": "NULL",
                                    "average_rating": "NULL",
                                    "books_count": "NULL",
                                    "user_id": "2",
                                    "book_id": "1384"
                                },
                                {
                                    "title": "NULL",
                                    "average_rating": "NULL",
                                    "books_count": "NULL",
                                    "user_id": "2",
                                    "book_id": "1597"
                                },
                                {
                                    "title": "NULL",
                                    "average_rating": "NULL",
                                    "books_count": "NULL",
                                    "user_id": "2",
                                    "book_id": "1926"
                                },
                                {
                                    "title": "NULL",
                                    "average_rating": "NULL",
                                    "books_count": "NULL",
                                    "user_id": "2",
                                    "book_id": "1967"
                                },
                                {
                                    "title": "NULL",
                                    "average_rating": "NULL",
                                    "books_count": "NULL",
                                    "user_id": "2",
                                    "book_id": "1969"
                                },
                                {
                                    "title": "NULL",
                                    "average_rating": "NULL",
                                    "books_count": "NULL",
                                    "user_id": "2",
                                    "book_id": "2220"
                                }
                            ]
                        },
                        "text/html": [
                            "<table>",
                            "<tr><th>title</th><th>average_rating</th><th>books_count</th><th>user_id</th><th>book_id</th></tr>",
                            "<tr><td>NULL</td><td>NULL</td><td>NULL</td><td>1</td><td>1198</td></tr>",
                            "<tr><td>NULL</td><td>NULL</td><td>NULL</td><td>2</td><td>4</td></tr>",
                            "<tr><td>NULL</td><td>NULL</td><td>NULL</td><td>1</td><td>533</td></tr>",
                            "<tr><td>NULL</td><td>NULL</td><td>NULL</td><td>2</td><td>247</td></tr>",
                            "<tr><td>NULL</td><td>NULL</td><td>NULL</td><td>1</td><td>235</td></tr>",
                            "<tr><td>NULL</td><td>NULL</td><td>NULL</td><td>2</td><td>92</td></tr>",
                            "<tr><td>NULL</td><td>NULL</td><td>NULL</td><td>1</td><td>3334</td></tr>",
                            "<tr><td>NULL</td><td>NULL</td><td>NULL</td><td>2</td><td>2388</td></tr>",
                            "<tr><td>NULL</td><td>NULL</td><td>NULL</td><td>2</td><td>11</td></tr>",
                            "<tr><td>NULL</td><td>NULL</td><td>NULL</td><td>1</td><td>1874</td></tr>",
                            "<tr><td>NULL</td><td>NULL</td><td>NULL</td><td>2</td><td>16</td></tr>",
                            "<tr><td>NULL</td><td>NULL</td><td>NULL</td><td>2</td><td>3222</td></tr>",
                            "<tr><td>NULL</td><td>NULL</td><td>NULL</td><td>1</td><td>2058</td></tr>",
                            "<tr><td>NULL</td><td>NULL</td><td>NULL</td><td>2</td><td>113</td></tr>",
                            "<tr><td>NULL</td><td>NULL</td><td>NULL</td><td>2</td><td>233</td></tr>",
                            "<tr><td>NULL</td><td>NULL</td><td>NULL</td><td>2</td><td>3733</td></tr>",
                            "<tr><td>NULL</td><td>NULL</td><td>NULL</td><td>2</td><td>380</td></tr>",
                            "<tr><td>NULL</td><td>NULL</td><td>NULL</td><td>2</td><td>408</td></tr>",
                            "<tr><td>NULL</td><td>NULL</td><td>NULL</td><td>2</td><td>439</td></tr>",
                            "<tr><td>NULL</td><td>NULL</td><td>NULL</td><td>2</td><td>479</td></tr>",
                            "<tr><td>NULL</td><td>NULL</td><td>NULL</td><td>2</td><td>516</td></tr>",
                            "<tr><td>NULL</td><td>NULL</td><td>NULL</td><td>2</td><td>619</td></tr>",
                            "<tr><td>NULL</td><td>NULL</td><td>NULL</td><td>2</td><td>1069</td></tr>",
                            "<tr><td>NULL</td><td>NULL</td><td>NULL</td><td>2</td><td>3227</td></tr>",
                            "<tr><td>NULL</td><td>NULL</td><td>NULL</td><td>2</td><td>1384</td></tr>",
                            "<tr><td>NULL</td><td>NULL</td><td>NULL</td><td>2</td><td>1597</td></tr>",
                            "<tr><td>NULL</td><td>NULL</td><td>NULL</td><td>2</td><td>1926</td></tr>",
                            "<tr><td>NULL</td><td>NULL</td><td>NULL</td><td>2</td><td>1967</td></tr>",
                            "<tr><td>NULL</td><td>NULL</td><td>NULL</td><td>2</td><td>1969</td></tr>",
                            "<tr><td>NULL</td><td>NULL</td><td>NULL</td><td>2</td><td>2220</td></tr>",
                            "</table>"
                        ]
                    }
                }
            ],
            "execution_count": 18
        },
        {
            "cell_type": "markdown",
            "source": [
                "## **QUESTION 4:** Exploring INNER Joins with the **books** and **to\\_read** tables\n",
                "\n",
                "You will need to uncomment the Query to answer the question.\n",
                "\n",
                "**Part A:**  What does an inner join do?\n",
                "\n",
                "> <span style=\"background-color: rgba(127, 127, 127, 0.1); font-family: -apple-system, BlinkMacSystemFont, sans-serif;\">Your Answer:Inner join, join all the columns connected matching rows</span>\n",
                "\n",
                "<span style=\"background-color: rgba(127, 127, 127, 0.1); font-family: -apple-system, BlinkMacSystemFont, sans-serif;\"><b>Part B:</b>&nbsp;Currently this table has an <b>'IS NOT NULL'</b> in the <b>WHERE</b> clause.&nbsp; Is this necessary for this table?&nbsp; Why or Why not?&nbsp;</span>   \n",
                "\n",
                "> Your Answer: here is not null not required as in inner join it only joins the matching rows.\n",
                "\n",
                "**Part C:**  When using SQL, you are usually returning much larger tables so every line of code will add to the compilation and return time.  Rewrite this inner join query so that it contains no redundant code.   \n",
                "\n",
                "> Your Answer:  Update the query in the code box below."
            ],
            "metadata": {
                "azdata_cell_guid": "4dab11ce-7995-4444-92dd-4cb2c0bc02c8"
            },
            "attachments": {}
        },
        {
            "cell_type": "code",
            "source": [
                "\n",
                "-- INNER JOIN\n",
                "-- SELECT TOP 30 b.title, b.average_rating, b.books_count,tr.user_id, tr.book_id\n",
                "-- FROM BooksDB.dbo.books AS b\n",
                "-- INNER JOIN BooksDB.dbo.to_read AS tr\n",
                "-- ON b.book_id = tr.book_id\n",
                "-- WHERE b.title IS NOT NULL\n",
                "-- ORDER BY tr.book_id;\n",
                "\n",
                "SELECT TOP 30 b.title, b.average_rating, b.books_count,tr.user_id, tr.book_id\n",
                "FROM BooksDB.dbo.books AS b\n",
                "INNER JOIN BooksDB.dbo.to_read AS tr\n",
                "ON b.book_id = tr.book_id\n",
                "\n",
                ""
            ],
            "metadata": {
                "azdata_cell_guid": "66d430ab-18aa-4a29-a32d-0585445e417c",
                "tags": [],
                "language": "sql"
            },
            "outputs": [
                {
                    "output_type": "display_data",
                    "data": {
                        "text/html": "(30 rows affected)"
                    },
                    "metadata": {}
                },
                {
                    "output_type": "display_data",
                    "data": {
                        "text/html": "Total execution time: 00:00:00.070"
                    },
                    "metadata": {}
                },
                {
                    "output_type": "execute_result",
                    "metadata": {},
                    "execution_count": 29,
                    "data": {
                        "application/vnd.dataresource+json": {
                            "schema": {
                                "fields": [
                                    {
                                        "name": "title"
                                    },
                                    {
                                        "name": "average_rating"
                                    },
                                    {
                                        "name": "books_count"
                                    },
                                    {
                                        "name": "user_id"
                                    },
                                    {
                                        "name": "book_id"
                                    }
                                ]
                            },
                            "data": [
                                {
                                    "title": "Children of Dune (Dune Chronicles #3)",
                                    "average_rating": "3.9",
                                    "books_count": "116",
                                    "user_id": "1",
                                    "book_id": "112"
                                },
                                {
                                    "title": "The Hitchhiker's Guide to the Galaxy (Hitchhiker's Guide to the Galaxy, #1)",
                                    "average_rating": "4.2",
                                    "books_count": "257",
                                    "user_id": "2",
                                    "book_id": "11"
                                },
                                {
                                    "title": "The Ultimate Hitchhiker's Guide to the Galaxy",
                                    "average_rating": "4.37",
                                    "books_count": "32",
                                    "user_id": "2",
                                    "book_id": "13"
                                },
                                {
                                    "title": "Dune Messiah (Dune Chronicles #2)",
                                    "average_rating": "3.86",
                                    "books_count": "140",
                                    "user_id": "2",
                                    "book_id": "106"
                                },
                                {
                                    "title": "The Iliad",
                                    "average_rating": "3.83",
                                    "books_count": "1726",
                                    "user_id": "2",
                                    "book_id": "1371"
                                },
                                {
                                    "title": "Harry Potter Collection (Harry Potter, #1-6)",
                                    "average_rating": "4.73",
                                    "books_count": "6",
                                    "user_id": "3",
                                    "book_id": "10"
                                },
                                {
                                    "title": "The Virtue of Selfishness: A New Concept of Egoism",
                                    "average_rating": "3.47",
                                    "books_count": "53",
                                    "user_id": "5",
                                    "book_id": "665"
                                },
                                {
                                    "title": "Sherlock Holmes: The Complete Novels and Stories, Volume I",
                                    "average_rating": "4.45",
                                    "books_count": "13",
                                    "user_id": "5",
                                    "book_id": "3581"
                                },
                                {
                                    "title": "The War of Art: Break Through the Blocks & Win Your Inner Creative Battles",
                                    "average_rating": "4.07",
                                    "books_count": "29",
                                    "user_id": "6",
                                    "book_id": "1319"
                                },
                                {
                                    "title": "Harry Potter Collection (Harry Potter, #1-6)",
                                    "average_rating": "4.73",
                                    "books_count": "6",
                                    "user_id": "7",
                                    "book_id": "10"
                                },
                                {
                                    "title": "The Pilgrimage",
                                    "average_rating": "3.64",
                                    "books_count": "171",
                                    "user_id": "8",
                                    "book_id": "4004"
                                },
                                {
                                    "title": "Harry Potter Boxed Set, Books 1-5 (Harry Potter, #1-5)",
                                    "average_rating": "4.77",
                                    "books_count": "11",
                                    "user_id": "9",
                                    "book_id": "8"
                                },
                                {
                                    "title": "Children of Dune (Dune Chronicles #3)",
                                    "average_rating": "3.9",
                                    "books_count": "116",
                                    "user_id": "9",
                                    "book_id": "112"
                                },
                                {
                                    "title": "Icy Sparks",
                                    "average_rating": "3.68",
                                    "books_count": "27",
                                    "user_id": "9",
                                    "book_id": "3476"
                                },
                                {
                                    "title": "Harry Potter and the Goblet of Fire (Harry Potter, #4)",
                                    "average_rating": "4.53",
                                    "books_count": "332",
                                    "user_id": "10",
                                    "book_id": "6"
                                },
                                {
                                    "title": "Atlas Shrugged",
                                    "average_rating": "3.68",
                                    "books_count": "147",
                                    "user_id": "10",
                                    "book_id": "662"
                                },
                                {
                                    "title": "Harry Potter and the Half-Blood Prince (Harry Potter, #6)",
                                    "average_rating": "4.54",
                                    "books_count": "275",
                                    "user_id": "12",
                                    "book_id": "1"
                                },
                                {
                                    "title": "Sherlock Holmes: The Complete Novels and Stories, Volume I",
                                    "average_rating": "4.45",
                                    "books_count": "13",
                                    "user_id": "14",
                                    "book_id": "3581"
                                },
                                {
                                    "title": "The Lover",
                                    "average_rating": "3.76",
                                    "books_count": "148",
                                    "user_id": "15",
                                    "book_id": "275"
                                },
                                {
                                    "title": "The Good Soldier",
                                    "average_rating": "3.72",
                                    "books_count": "362",
                                    "user_id": "20",
                                    "book_id": "7628"
                                },
                                {
                                    "title": "The Thorn Birds",
                                    "average_rating": "4.22",
                                    "books_count": "201",
                                    "user_id": "26",
                                    "book_id": "3412"
                                },
                                {
                                    "title": "The Complete Sherlock Holmes, Vol 2",
                                    "average_rating": "4.46",
                                    "books_count": "117",
                                    "user_id": "26",
                                    "book_id": "3586"
                                },
                                {
                                    "title": "The Dark Tower (The Dark Tower, #7)",
                                    "average_rating": "4.27",
                                    "books_count": "105",
                                    "user_id": "26",
                                    "book_id": "5091"
                                },
                                {
                                    "title": "The Lord of the Rings: Weapons and Warfare",
                                    "average_rating": "4.53",
                                    "books_count": "12",
                                    "user_id": "29",
                                    "book_id": "36"
                                },
                                {
                                    "title": "Slouching Towards Bethlehem",
                                    "average_rating": "4.24",
                                    "books_count": "34",
                                    "user_id": "29",
                                    "book_id": "424"
                                },
                                {
                                    "title": "Atlas Shrugged",
                                    "average_rating": "3.68",
                                    "books_count": "147",
                                    "user_id": "29",
                                    "book_id": "662"
                                },
                                {
                                    "title": "The Elegant Universe: Superstrings, Hidden Dimensions, and the Quest for the Ultimate Theory",
                                    "average_rating": "4.06",
                                    "books_count": "75",
                                    "user_id": "29",
                                    "book_id": "771"
                                },
                                {
                                    "title": "The Known World",
                                    "average_rating": "3.82",
                                    "books_count": "42",
                                    "user_id": "30",
                                    "book_id": "67"
                                },
                                {
                                    "title": "Tropic of Cancer",
                                    "average_rating": "3.71",
                                    "books_count": "205",
                                    "user_id": "30",
                                    "book_id": "249"
                                },
                                {
                                    "title": "The Odyssey",
                                    "average_rating": "3.73",
                                    "books_count": "1703",
                                    "user_id": "30",
                                    "book_id": "1381"
                                }
                            ]
                        },
                        "text/html": [
                            "<table>",
                            "<tr><th>title</th><th>average_rating</th><th>books_count</th><th>user_id</th><th>book_id</th></tr>",
                            "<tr><td>Children of Dune (Dune Chronicles #3)</td><td>3.9</td><td>116</td><td>1</td><td>112</td></tr>",
                            "<tr><td>The Hitchhiker's Guide to the Galaxy (Hitchhiker's Guide to the Galaxy, #1)</td><td>4.2</td><td>257</td><td>2</td><td>11</td></tr>",
                            "<tr><td>The Ultimate Hitchhiker's Guide to the Galaxy</td><td>4.37</td><td>32</td><td>2</td><td>13</td></tr>",
                            "<tr><td>Dune Messiah (Dune Chronicles #2)</td><td>3.86</td><td>140</td><td>2</td><td>106</td></tr>",
                            "<tr><td>The Iliad</td><td>3.83</td><td>1726</td><td>2</td><td>1371</td></tr>",
                            "<tr><td>Harry Potter Collection (Harry Potter, #1-6)</td><td>4.73</td><td>6</td><td>3</td><td>10</td></tr>",
                            "<tr><td>The Virtue of Selfishness: A New Concept of Egoism</td><td>3.47</td><td>53</td><td>5</td><td>665</td></tr>",
                            "<tr><td>Sherlock Holmes: The Complete Novels and Stories, Volume I</td><td>4.45</td><td>13</td><td>5</td><td>3581</td></tr>",
                            "<tr><td>The War of Art: Break Through the Blocks &amp; Win Your Inner Creative Battles</td><td>4.07</td><td>29</td><td>6</td><td>1319</td></tr>",
                            "<tr><td>Harry Potter Collection (Harry Potter, #1-6)</td><td>4.73</td><td>6</td><td>7</td><td>10</td></tr>",
                            "<tr><td>The Pilgrimage</td><td>3.64</td><td>171</td><td>8</td><td>4004</td></tr>",
                            "<tr><td>Harry Potter Boxed Set, Books 1-5 (Harry Potter, #1-5)</td><td>4.77</td><td>11</td><td>9</td><td>8</td></tr>",
                            "<tr><td>Children of Dune (Dune Chronicles #3)</td><td>3.9</td><td>116</td><td>9</td><td>112</td></tr>",
                            "<tr><td>Icy Sparks</td><td>3.68</td><td>27</td><td>9</td><td>3476</td></tr>",
                            "<tr><td>Harry Potter and the Goblet of Fire (Harry Potter, #4)</td><td>4.53</td><td>332</td><td>10</td><td>6</td></tr>",
                            "<tr><td>Atlas Shrugged</td><td>3.68</td><td>147</td><td>10</td><td>662</td></tr>",
                            "<tr><td>Harry Potter and the Half-Blood Prince (Harry Potter, #6)</td><td>4.54</td><td>275</td><td>12</td><td>1</td></tr>",
                            "<tr><td>Sherlock Holmes: The Complete Novels and Stories, Volume I</td><td>4.45</td><td>13</td><td>14</td><td>3581</td></tr>",
                            "<tr><td>The Lover</td><td>3.76</td><td>148</td><td>15</td><td>275</td></tr>",
                            "<tr><td>The Good Soldier</td><td>3.72</td><td>362</td><td>20</td><td>7628</td></tr>",
                            "<tr><td>The Thorn Birds</td><td>4.22</td><td>201</td><td>26</td><td>3412</td></tr>",
                            "<tr><td>The Complete Sherlock Holmes, Vol 2</td><td>4.46</td><td>117</td><td>26</td><td>3586</td></tr>",
                            "<tr><td>The Dark Tower (The Dark Tower, #7)</td><td>4.27</td><td>105</td><td>26</td><td>5091</td></tr>",
                            "<tr><td>The Lord of the Rings: Weapons and Warfare</td><td>4.53</td><td>12</td><td>29</td><td>36</td></tr>",
                            "<tr><td>Slouching Towards Bethlehem</td><td>4.24</td><td>34</td><td>29</td><td>424</td></tr>",
                            "<tr><td>Atlas Shrugged</td><td>3.68</td><td>147</td><td>29</td><td>662</td></tr>",
                            "<tr><td>The Elegant Universe: Superstrings, Hidden Dimensions, and the Quest for the Ultimate Theory</td><td>4.06</td><td>75</td><td>29</td><td>771</td></tr>",
                            "<tr><td>The Known World</td><td>3.82</td><td>42</td><td>30</td><td>67</td></tr>",
                            "<tr><td>Tropic of Cancer</td><td>3.71</td><td>205</td><td>30</td><td>249</td></tr>",
                            "<tr><td>The Odyssey</td><td>3.73</td><td>1703</td><td>30</td><td>1381</td></tr>",
                            "</table>"
                        ]
                    }
                }
            ],
            "execution_count": 29
        },
        {
            "cell_type": "markdown",
            "source": [
                "## **QUESTION 5:**  Using joins to find the most tagged book and the most popular tag\n",
                "\n",
                "We will be writing 3 queries to find both the most tagged book and that book's most popular tag.\n",
                "\n",
                "**Part A:**  What is the most tagged book?\n",
                "\n",
                "> <span style=\"background-color: rgba(127, 127, 127, 0.1); font-family: -apple-system, BlinkMacSystemFont, sans-serif;\">Start by joining the </span> **books** <span style=\"background-color: rgba(127, 127, 127, 0.1); font-family: -apple-system, BlinkMacSystemFont, sans-serif;\">and </span> **book\\_tags**   <span style=\"background-color: rgba(127, 127, 127, 0.1); font-family: -apple-system, BlinkMacSystemFont, sans-serif;\">&nbsp;tables ON the books.best_book_id and book_tags.goodreads_book_id.&nbsp;&nbsp;<br></span>    <span style=\"background-color: rgba(127, 127, 127, 0.1); font-family: -apple-system, BlinkMacSystemFont, sans-serif;\">We want the <i>most popular</i> book, so think about ordering the table in a way that will display both the book title and the number of times a book tag has been used.</span>\n",
                "> \n",
                "> _MInimum Desired output:_  The title of the most tagged book, and the number of times the book has been tagged.\n",
                "> \n",
                "> **Title:** **Harry Potter and the Half-Blood Prince**\n",
                "\n",
                "**Part B:** How many different tags have been used for the most tagged book?\n",
                "\n",
                "> <span style=\"font-family: -apple-system, BlinkMacSystemFont, sans-serif; background-color: rgba(127, 127, 127, 0.1);\">Start by joining the&nbsp;</span>   **books** <span style=\"font-family: -apple-system, BlinkMacSystemFont, sans-serif; background-color: rgba(127, 127, 127, 0.1);\">and&nbsp;</span>   **book\\_tags**   <span style=\"font-family: -apple-system, BlinkMacSystemFont, sans-serif; background-color: rgba(127, 127, 127, 0.1);\">&nbsp;tables ON the books.best_book_id and book_tags.goodreads_book_id.&nbsp;&nbsp;<br></span>    We want to find the _most popular_ tag id, so think about ordering in a way that will display the most popular tag id.\n",
                "> \n",
                "> <span style=\"font-family: -apple-system, BlinkMacSystemFont, sans-serif; background-color: rgba(127, 127, 127, 0.1);\"><i>Minimum Desired Output:</i> The tag id for the most popular tag used for the most tagged book.&nbsp;</span>  \n",
                "> \n",
                "> <span style=\"font-family: -apple-system, BlinkMacSystemFont, sans-serif; background-color: rgba(127, 127, 127, 0.1);\"><b>Tag Id: 1</b></span>\n",
                "\n",
                "<span style=\"font-family: -apple-system, BlinkMacSystemFont, sans-serif; background-color: rgba(127, 127, 127, 0.1);\"><b>Part C: </b>What is this particular tag?</span>\n",
                "\n",
                "> You may return this answer with a simple query.\n",
                "\n",
                "> <span style=\"font-family: -apple-system, BlinkMacSystemFont, sans-serif; background-color: rgba(127, 127, 127, 0.1);\"><i>Minimum Desired Output:</i>&nbsp;The tag name for the most popular tag used for the most tagged book.&nbsp;</span>  \n",
                "> \n",
                "> <span style=\"font-family: -apple-system, BlinkMacSystemFont, sans-serif; background-color: rgba(127, 127, 127, 0.1);\"><b>Tag Name:</b></span>"
            ],
            "metadata": {
                "azdata_cell_guid": "a685e9cc-2ae2-40e8-8cc1-022c8064d66d"
            },
            "attachments": {}
        },
        {
            "cell_type": "code",
            "source": [
                "-- Code Here:\n",
                "SELECT TOP 30 b.title, b.average_rating, b.books_count,b.best_book_id,tr.tag_id,tr.goodreads_book_id\n",
                "FROM BooksDB.dbo.books AS b\n",
                "INNER JOIN BooksDB.dbo.book_tags AS tr\n",
                "ON b.best_book_id = tr.tag_id\n",
                "ORDER BY tr.tag_id;"
            ],
            "metadata": {
                "azdata_cell_guid": "de3ac253-6b47-4740-8c6e-5f9d1b0ce36b",
                "language": "sql",
                "tags": []
            },
            "outputs": [
                {
                    "output_type": "display_data",
                    "data": {
                        "text/html": "(30 rows affected)"
                    },
                    "metadata": {}
                },
                {
                    "output_type": "display_data",
                    "data": {
                        "text/html": "Total execution time: 00:00:05.109"
                    },
                    "metadata": {}
                },
                {
                    "output_type": "execute_result",
                    "metadata": {},
                    "execution_count": 38,
                    "data": {
                        "application/vnd.dataresource+json": {
                            "schema": {
                                "fields": [
                                    {
                                        "name": "title"
                                    },
                                    {
                                        "name": "average_rating"
                                    },
                                    {
                                        "name": "books_count"
                                    },
                                    {
                                        "name": "best_book_id"
                                    },
                                    {
                                        "name": "tag_id"
                                    },
                                    {
                                        "name": "goodreads_book_id"
                                    }
                                ]
                            },
                            "data": [
                                {
                                    "title": "Harry Potter and the Half-Blood Prince (Harry Potter, #6)",
                                    "average_rating": "4.54",
                                    "books_count": "275",
                                    "best_book_id": "1",
                                    "tag_id": "1",
                                    "goodreads_book_id": "43799"
                                },
                                {
                                    "title": "Harry Potter and the Half-Blood Prince (Harry Potter, #6)",
                                    "average_rating": "4.54",
                                    "books_count": "275",
                                    "best_book_id": "1",
                                    "tag_id": "1",
                                    "goodreads_book_id": "1207904"
                                },
                                {
                                    "title": "Harry Potter and the Order of the Phoenix (Harry Potter, #5)",
                                    "average_rating": "4.46",
                                    "books_count": "307",
                                    "best_book_id": "2",
                                    "tag_id": "2",
                                    "goodreads_book_id": "513367"
                                },
                                {
                                    "title": "Harry Potter and the Sorcerer's Stone (Harry Potter, #1)",
                                    "average_rating": "4.44",
                                    "books_count": "491",
                                    "best_book_id": "3",
                                    "tag_id": "3",
                                    "goodreads_book_id": "5552"
                                },
                                {
                                    "title": "Harry Potter and the Prisoner of Azkaban (Harry Potter, #3)",
                                    "average_rating": "4.53",
                                    "books_count": "376",
                                    "best_book_id": "5",
                                    "tag_id": "5",
                                    "goodreads_book_id": "79006"
                                },
                                {
                                    "title": "Harry Potter and the Goblet of Fire (Harry Potter, #4)",
                                    "average_rating": "4.53",
                                    "books_count": "332",
                                    "best_book_id": "6",
                                    "tag_id": "6",
                                    "goodreads_book_id": "79006"
                                },
                                {
                                    "title": "Harry Potter Boxed Set, Books 1-5 (Harry Potter, #1-5)",
                                    "average_rating": "4.77",
                                    "books_count": "11",
                                    "best_book_id": "8",
                                    "tag_id": "8",
                                    "goodreads_book_id": "168814"
                                },
                                {
                                    "title": "Harry Potter Collection (Harry Potter, #1-6)",
                                    "average_rating": "4.73",
                                    "books_count": "6",
                                    "best_book_id": "10",
                                    "tag_id": "10",
                                    "goodreads_book_id": "43799"
                                },
                                {
                                    "title": "The Ultimate Hitchhiker's Guide to the Galaxy",
                                    "average_rating": "4.37",
                                    "books_count": "32",
                                    "best_book_id": "13",
                                    "tag_id": "13",
                                    "goodreads_book_id": "1207904"
                                },
                                {
                                    "title": "A Short History of Nearly Everything",
                                    "average_rating": "4.19",
                                    "books_count": "155",
                                    "best_book_id": "21",
                                    "tag_id": "21",
                                    "goodreads_book_id": "36058"
                                },
                                {
                                    "title": "A Short History of Nearly Everything",
                                    "average_rating": "4.19",
                                    "books_count": "155",
                                    "best_book_id": "21",
                                    "tag_id": "21",
                                    "goodreads_book_id": "7519866"
                                },
                                {
                                    "title": "In a Sunburned Country",
                                    "average_rating": "4.05",
                                    "books_count": "76",
                                    "best_book_id": "24",
                                    "tag_id": "24",
                                    "goodreads_book_id": "22320"
                                },
                                {
                                    "title": "I'm a Stranger Here Myself: Notes on Returning to America after Twenty Years Away",
                                    "average_rating": "3.89",
                                    "books_count": "69",
                                    "best_book_id": "25",
                                    "tag_id": "25",
                                    "goodreads_book_id": "4673605"
                                },
                                {
                                    "title": "The Lost Continent: Travels in Small Town America",
                                    "average_rating": "3.83",
                                    "books_count": "47",
                                    "best_book_id": "26",
                                    "tag_id": "26",
                                    "goodreads_book_id": "43886"
                                },
                                {
                                    "title": "Neither Here nor There: Travels in Europe",
                                    "average_rating": "3.88",
                                    "books_count": "57",
                                    "best_book_id": "27",
                                    "tag_id": "27",
                                    "goodreads_book_id": "6588"
                                },
                                {
                                    "title": "Neither Here nor There: Travels in Europe",
                                    "average_rating": "3.88",
                                    "books_count": "57",
                                    "best_book_id": "27",
                                    "tag_id": "27",
                                    "goodreads_book_id": "11666"
                                },
                                {
                                    "title": "Neither Here nor There: Travels in Europe",
                                    "average_rating": "3.88",
                                    "books_count": "57",
                                    "best_book_id": "27",
                                    "tag_id": "27",
                                    "goodreads_book_id": "19674"
                                },
                                {
                                    "title": "Neither Here nor There: Travels in Europe",
                                    "average_rating": "3.88",
                                    "books_count": "57",
                                    "best_book_id": "27",
                                    "tag_id": "27",
                                    "goodreads_book_id": "21683"
                                },
                                {
                                    "title": "Neither Here nor There: Travels in Europe",
                                    "average_rating": "3.88",
                                    "books_count": "57",
                                    "best_book_id": "27",
                                    "tag_id": "27",
                                    "goodreads_book_id": "21685"
                                },
                                {
                                    "title": "Neither Here nor There: Travels in Europe",
                                    "average_rating": "3.88",
                                    "books_count": "57",
                                    "best_book_id": "27",
                                    "tag_id": "27",
                                    "goodreads_book_id": "43886"
                                },
                                {
                                    "title": "Neither Here nor There: Travels in Europe",
                                    "average_rating": "3.88",
                                    "books_count": "57",
                                    "best_book_id": "27",
                                    "tag_id": "27",
                                    "goodreads_book_id": "46917"
                                },
                                {
                                    "title": "Neither Here nor There: Travels in Europe",
                                    "average_rating": "3.88",
                                    "books_count": "57",
                                    "best_book_id": "27",
                                    "tag_id": "27",
                                    "goodreads_book_id": "64860"
                                },
                                {
                                    "title": "Neither Here nor There: Travels in Europe",
                                    "average_rating": "3.88",
                                    "books_count": "57",
                                    "best_book_id": "27",
                                    "tag_id": "27",
                                    "goodreads_book_id": "79379"
                                },
                                {
                                    "title": "Neither Here nor There: Travels in Europe",
                                    "average_rating": "3.88",
                                    "books_count": "57",
                                    "best_book_id": "27",
                                    "tag_id": "27",
                                    "goodreads_book_id": "85391"
                                },
                                {
                                    "title": "Neither Here nor There: Travels in Europe",
                                    "average_rating": "3.88",
                                    "books_count": "57",
                                    "best_book_id": "27",
                                    "tag_id": "27",
                                    "goodreads_book_id": "154424"
                                },
                                {
                                    "title": "Neither Here nor There: Travels in Europe",
                                    "average_rating": "3.88",
                                    "books_count": "57",
                                    "best_book_id": "27",
                                    "tag_id": "27",
                                    "goodreads_book_id": "337623"
                                },
                                {
                                    "title": "Neither Here nor There: Travels in Europe",
                                    "average_rating": "3.88",
                                    "books_count": "57",
                                    "best_book_id": "27",
                                    "tag_id": "27",
                                    "goodreads_book_id": "643962"
                                },
                                {
                                    "title": "Neither Here nor There: Travels in Europe",
                                    "average_rating": "3.88",
                                    "books_count": "57",
                                    "best_book_id": "27",
                                    "tag_id": "27",
                                    "goodreads_book_id": "1406197"
                                },
                                {
                                    "title": "Neither Here nor There: Travels in Europe",
                                    "average_rating": "3.88",
                                    "books_count": "57",
                                    "best_book_id": "27",
                                    "tag_id": "27",
                                    "goodreads_book_id": "2798094"
                                },
                                {
                                    "title": "Neither Here nor There: Travels in Europe",
                                    "average_rating": "3.88",
                                    "books_count": "57",
                                    "best_book_id": "27",
                                    "tag_id": "27",
                                    "goodreads_book_id": "6098691"
                                }
                            ]
                        },
                        "text/html": [
                            "<table>",
                            "<tr><th>title</th><th>average_rating</th><th>books_count</th><th>best_book_id</th><th>tag_id</th><th>goodreads_book_id</th></tr>",
                            "<tr><td>Harry Potter and the Half-Blood Prince (Harry Potter, #6)</td><td>4.54</td><td>275</td><td>1</td><td>1</td><td>43799</td></tr>",
                            "<tr><td>Harry Potter and the Half-Blood Prince (Harry Potter, #6)</td><td>4.54</td><td>275</td><td>1</td><td>1</td><td>1207904</td></tr>",
                            "<tr><td>Harry Potter and the Order of the Phoenix (Harry Potter, #5)</td><td>4.46</td><td>307</td><td>2</td><td>2</td><td>513367</td></tr>",
                            "<tr><td>Harry Potter and the Sorcerer's Stone (Harry Potter, #1)</td><td>4.44</td><td>491</td><td>3</td><td>3</td><td>5552</td></tr>",
                            "<tr><td>Harry Potter and the Prisoner of Azkaban (Harry Potter, #3)</td><td>4.53</td><td>376</td><td>5</td><td>5</td><td>79006</td></tr>",
                            "<tr><td>Harry Potter and the Goblet of Fire (Harry Potter, #4)</td><td>4.53</td><td>332</td><td>6</td><td>6</td><td>79006</td></tr>",
                            "<tr><td>Harry Potter Boxed Set, Books 1-5 (Harry Potter, #1-5)</td><td>4.77</td><td>11</td><td>8</td><td>8</td><td>168814</td></tr>",
                            "<tr><td>Harry Potter Collection (Harry Potter, #1-6)</td><td>4.73</td><td>6</td><td>10</td><td>10</td><td>43799</td></tr>",
                            "<tr><td>The Ultimate Hitchhiker's Guide to the Galaxy</td><td>4.37</td><td>32</td><td>13</td><td>13</td><td>1207904</td></tr>",
                            "<tr><td>A Short History of Nearly Everything</td><td>4.19</td><td>155</td><td>21</td><td>21</td><td>36058</td></tr>",
                            "<tr><td>A Short History of Nearly Everything</td><td>4.19</td><td>155</td><td>21</td><td>21</td><td>7519866</td></tr>",
                            "<tr><td>In a Sunburned Country</td><td>4.05</td><td>76</td><td>24</td><td>24</td><td>22320</td></tr>",
                            "<tr><td>I'm a Stranger Here Myself: Notes on Returning to America after Twenty Years Away</td><td>3.89</td><td>69</td><td>25</td><td>25</td><td>4673605</td></tr>",
                            "<tr><td>The Lost Continent: Travels in Small Town America</td><td>3.83</td><td>47</td><td>26</td><td>26</td><td>43886</td></tr>",
                            "<tr><td>Neither Here nor There: Travels in Europe</td><td>3.88</td><td>57</td><td>27</td><td>27</td><td>6588</td></tr>",
                            "<tr><td>Neither Here nor There: Travels in Europe</td><td>3.88</td><td>57</td><td>27</td><td>27</td><td>11666</td></tr>",
                            "<tr><td>Neither Here nor There: Travels in Europe</td><td>3.88</td><td>57</td><td>27</td><td>27</td><td>19674</td></tr>",
                            "<tr><td>Neither Here nor There: Travels in Europe</td><td>3.88</td><td>57</td><td>27</td><td>27</td><td>21683</td></tr>",
                            "<tr><td>Neither Here nor There: Travels in Europe</td><td>3.88</td><td>57</td><td>27</td><td>27</td><td>21685</td></tr>",
                            "<tr><td>Neither Here nor There: Travels in Europe</td><td>3.88</td><td>57</td><td>27</td><td>27</td><td>43886</td></tr>",
                            "<tr><td>Neither Here nor There: Travels in Europe</td><td>3.88</td><td>57</td><td>27</td><td>27</td><td>46917</td></tr>",
                            "<tr><td>Neither Here nor There: Travels in Europe</td><td>3.88</td><td>57</td><td>27</td><td>27</td><td>64860</td></tr>",
                            "<tr><td>Neither Here nor There: Travels in Europe</td><td>3.88</td><td>57</td><td>27</td><td>27</td><td>79379</td></tr>",
                            "<tr><td>Neither Here nor There: Travels in Europe</td><td>3.88</td><td>57</td><td>27</td><td>27</td><td>85391</td></tr>",
                            "<tr><td>Neither Here nor There: Travels in Europe</td><td>3.88</td><td>57</td><td>27</td><td>27</td><td>154424</td></tr>",
                            "<tr><td>Neither Here nor There: Travels in Europe</td><td>3.88</td><td>57</td><td>27</td><td>27</td><td>337623</td></tr>",
                            "<tr><td>Neither Here nor There: Travels in Europe</td><td>3.88</td><td>57</td><td>27</td><td>27</td><td>643962</td></tr>",
                            "<tr><td>Neither Here nor There: Travels in Europe</td><td>3.88</td><td>57</td><td>27</td><td>27</td><td>1406197</td></tr>",
                            "<tr><td>Neither Here nor There: Travels in Europe</td><td>3.88</td><td>57</td><td>27</td><td>27</td><td>2798094</td></tr>",
                            "<tr><td>Neither Here nor There: Travels in Europe</td><td>3.88</td><td>57</td><td>27</td><td>27</td><td>6098691</td></tr>",
                            "</table>"
                        ]
                    }
                }
            ],
            "execution_count": 38
        },
        {
            "cell_type": "markdown",
            "source": [
                "## **QUESTION 6:** Find a book based on a tag of your choice using joins.\n",
                "\n",
                "Some suggestions: any hobbies you like? baking, drawing, etc. how about favorite holidays, subjects, animals, etc?\n",
                "\n",
                "**Part A:** Explore the tags table for a tag of your choice.  Suggested ideas, try searching for one of your hobbies, a favorite time of year, favorite animal, etc.  Start by querying the tag table for your chosen tag.  (_Hint:_ in order to make sure you find all combinations of your tags, use the wildcard).  If your query returns more than one result, pick your favorite.\n",
                "\n",
                "> > _Here is an example.  Alyce wanted to search for halloween books.  She used the wildcard, '%halloween%' and 8 different combinations were found.  Alyce selected '**halloween-storytime**', with a tag id of 13877._\n",
                "\n",
                "> _Minimum Desired Output:_ <span style=\"font-family: -apple-system, BlinkMacSystemFont, sans-serif; background-color: rgba(127, 127, 127, 0.1);\">tag name and tag id</span>\n",
                "\n",
                "> **Your Tag and Tag Id:**\n",
                "\n",
                "**Part B:** Now that you have the **tag id**, find the title that was tagged the most with this tag by joining the books and books\\_tags tables.\n",
                "\n",
                "> > _Alyce joined the book table with the tags table and discovered that <u>The Little Old Lady Who Was Not Afraid of Anything</u> was tagged as '**halloween-storytime**' the most._\n",
                "\n",
                "> _Minimum Desired Output:_ <span style=\"background-color: rgba(127, 127, 127, 0.1); font-family: -apple-system, BlinkMacSystemFont, sans-serif;\">title and tag count</span>\n",
                "\n",
                "> **Your Title and Number of times the tag was used:**"
            ],
            "metadata": {
                "azdata_cell_guid": "df783e7e-3aff-4e63-9edb-f2e729c7d1c8"
            },
            "attachments": {}
        },
        {
            "cell_type": "code",
            "source": [
                "-- Code Here:\n",
                "SELECT TOP 30 b.title, b.books_count,b.best_book_id,tr.tag_id,tr.goodreads_book_id\n",
                "FROM BooksDB.dbo.books AS b\n",
                "FULL JOIN BooksDB.dbo.book_tags AS tr\n",
                "ON b.best_book_id = tr.tag_id\n",
                "WHERE title LIKE '%Harry Potter%'\n",
                "-- GROUP BY b.title\n",
                "-- HAVING tr.tag_id = 15881\n",
                ""
            ],
            "metadata": {
                "azdata_cell_guid": "c4b0b67c-7cfa-4f52-be97-ffe5cc28ed54",
                "tags": [],
                "language": "sql"
            },
            "outputs": [
                {
                    "output_type": "display_data",
                    "data": {
                        "text/html": "(30 rows affected)"
                    },
                    "metadata": {}
                },
                {
                    "output_type": "display_data",
                    "data": {
                        "text/html": "Total execution time: 00:00:00.178"
                    },
                    "metadata": {}
                },
                {
                    "output_type": "execute_result",
                    "metadata": {},
                    "execution_count": 73,
                    "data": {
                        "application/vnd.dataresource+json": {
                            "schema": {
                                "fields": [
                                    {
                                        "name": "title"
                                    },
                                    {
                                        "name": "books_count"
                                    },
                                    {
                                        "name": "best_book_id"
                                    },
                                    {
                                        "name": "tag_id"
                                    },
                                    {
                                        "name": "goodreads_book_id"
                                    }
                                ]
                            },
                            "data": [
                                {
                                    "title": "Harry Potter and the Chamber of Secrets (Harry Potter, #2)",
                                    "books_count": "398",
                                    "best_book_id": "15881",
                                    "tag_id": "15881",
                                    "goodreads_book_id": "3559"
                                },
                                {
                                    "title": "Harry Potter and the Sorcerer's Stone (Harry Potter, #1)",
                                    "books_count": "491",
                                    "best_book_id": "3",
                                    "tag_id": "3",
                                    "goodreads_book_id": "5552"
                                },
                                {
                                    "title": "Harry Potter and the Chamber of Secrets (Harry Potter, #2)",
                                    "books_count": "398",
                                    "best_book_id": "15881",
                                    "tag_id": "15881",
                                    "goodreads_book_id": "12657"
                                },
                                {
                                    "title": "Harry Potter and Philosophy: If Aristotle Ran Hogwarts",
                                    "books_count": "10",
                                    "best_book_id": "31819",
                                    "tag_id": "31819",
                                    "goodreads_book_id": "32827"
                                },
                                {
                                    "title": "Harry Potter and Philosophy: If Aristotle Ran Hogwarts",
                                    "books_count": "10",
                                    "best_book_id": "31819",
                                    "tag_id": "31819",
                                    "goodreads_book_id": "32829"
                                },
                                {
                                    "title": "Harry Potter and Philosophy: If Aristotle Ran Hogwarts",
                                    "books_count": "10",
                                    "best_book_id": "31819",
                                    "tag_id": "31819",
                                    "goodreads_book_id": "32831"
                                },
                                {
                                    "title": "Harry Potter and Philosophy: If Aristotle Ran Hogwarts",
                                    "books_count": "10",
                                    "best_book_id": "31819",
                                    "tag_id": "31819",
                                    "goodreads_book_id": "33507"
                                },
                                {
                                    "title": "Harry Potter and the Chamber of Secrets (Harry Potter, #2)",
                                    "books_count": "398",
                                    "best_book_id": "15881",
                                    "tag_id": "15881",
                                    "goodreads_book_id": "42691"
                                },
                                {
                                    "title": "Harry Potter and the Chamber of Secrets (Harry Potter, #2)",
                                    "books_count": "398",
                                    "best_book_id": "15881",
                                    "tag_id": "15881",
                                    "goodreads_book_id": "42697"
                                },
                                {
                                    "title": "Harry Potter and the Half-Blood Prince (Harry Potter, #6)",
                                    "books_count": "275",
                                    "best_book_id": "1",
                                    "tag_id": "1",
                                    "goodreads_book_id": "43799"
                                },
                                {
                                    "title": "Harry Potter Collection (Harry Potter, #1-6)",
                                    "books_count": "6",
                                    "best_book_id": "10",
                                    "tag_id": "10",
                                    "goodreads_book_id": "43799"
                                },
                                {
                                    "title": "Harry Potter and Philosophy: If Aristotle Ran Hogwarts",
                                    "books_count": "10",
                                    "best_book_id": "31819",
                                    "tag_id": "31819",
                                    "goodreads_book_id": "54479"
                                },
                                {
                                    "title": "Harry Potter and the Prisoner of Azkaban (Harry Potter, #3)",
                                    "books_count": "376",
                                    "best_book_id": "5",
                                    "tag_id": "5",
                                    "goodreads_book_id": "79006"
                                },
                                {
                                    "title": "Harry Potter and the Goblet of Fire (Harry Potter, #4)",
                                    "books_count": "332",
                                    "best_book_id": "6",
                                    "tag_id": "6",
                                    "goodreads_book_id": "79006"
                                },
                                {
                                    "title": "Harry Potter Schoolbooks Box Set: Two Classic Books from the Library of Hogwarts School of Witchcraft and Wizardry",
                                    "books_count": "5",
                                    "best_book_id": "2002",
                                    "tag_id": "2002",
                                    "goodreads_book_id": "94319"
                                },
                                {
                                    "title": "Harry Potter Schoolbooks Box Set: Two Classic Books from the Library of Hogwarts School of Witchcraft and Wizardry",
                                    "books_count": "5",
                                    "best_book_id": "2002",
                                    "tag_id": "2002",
                                    "goodreads_book_id": "103983"
                                },
                                {
                                    "title": "Harry Potter Schoolbooks Box Set: Two Classic Books from the Library of Hogwarts School of Witchcraft and Wizardry",
                                    "books_count": "5",
                                    "best_book_id": "2002",
                                    "tag_id": "2002",
                                    "goodreads_book_id": "136782"
                                },
                                {
                                    "title": "Harry Potter Boxed Set, Books 1-5 (Harry Potter, #1-5)",
                                    "books_count": "11",
                                    "best_book_id": "8",
                                    "tag_id": "8",
                                    "goodreads_book_id": "168814"
                                },
                                {
                                    "title": "Harry Potter Schoolbooks Box Set: Two Classic Books from the Library of Hogwarts School of Witchcraft and Wizardry",
                                    "books_count": "5",
                                    "best_book_id": "2002",
                                    "tag_id": "2002",
                                    "goodreads_book_id": "175004"
                                },
                                {
                                    "title": "Harry Potter Schoolbooks Box Set: Two Classic Books from the Library of Hogwarts School of Witchcraft and Wizardry",
                                    "books_count": "5",
                                    "best_book_id": "2002",
                                    "tag_id": "2002",
                                    "goodreads_book_id": "224500"
                                },
                                {
                                    "title": "Harry Potter and the Order of the Phoenix (Harry Potter, #5)",
                                    "books_count": "307",
                                    "best_book_id": "2",
                                    "tag_id": "2",
                                    "goodreads_book_id": "513367"
                                },
                                {
                                    "title": "Harry Potter Schoolbooks Box Set: Two Classic Books from the Library of Hogwarts School of Witchcraft and Wizardry",
                                    "books_count": "5",
                                    "best_book_id": "2002",
                                    "tag_id": "2002",
                                    "goodreads_book_id": "542414"
                                },
                                {
                                    "title": "Harry Potter and the Chamber of Secrets (Harry Potter, #2)",
                                    "books_count": "398",
                                    "best_book_id": "15881",
                                    "tag_id": "15881",
                                    "goodreads_book_id": "769712"
                                },
                                {
                                    "title": "Harry Potter and the Half-Blood Prince (Harry Potter, #6)",
                                    "books_count": "275",
                                    "best_book_id": "1",
                                    "tag_id": "1",
                                    "goodreads_book_id": "1207904"
                                },
                                {
                                    "title": "Harry Potter and Philosophy: If Aristotle Ran Hogwarts",
                                    "books_count": "10",
                                    "best_book_id": "31819",
                                    "tag_id": "31819",
                                    "goodreads_book_id": "1219103"
                                },
                                {
                                    "title": "Harry Potter Schoolbooks Box Set: Two Classic Books from the Library of Hogwarts School of Witchcraft and Wizardry",
                                    "books_count": "5",
                                    "best_book_id": "2002",
                                    "tag_id": "2002",
                                    "goodreads_book_id": "1821571"
                                },
                                {
                                    "title": "Harry Potter and the Chamber of Secrets (Harry Potter, #2)",
                                    "books_count": "398",
                                    "best_book_id": "15881",
                                    "tag_id": "15881",
                                    "goodreads_book_id": "3243517"
                                },
                                {
                                    "title": "Harry Potter Schoolbooks Box Set: Two Classic Books from the Library of Hogwarts School of Witchcraft and Wizardry",
                                    "books_count": "5",
                                    "best_book_id": "2002",
                                    "tag_id": "2002",
                                    "goodreads_book_id": "6566616"
                                },
                                {
                                    "title": "Harry Potter and the Chamber of Secrets (Harry Potter, #2)",
                                    "books_count": "398",
                                    "best_book_id": "15881",
                                    "tag_id": "15881",
                                    "goodreads_book_id": "6692041"
                                },
                                {
                                    "title": "Harry Potter Schoolbooks Box Set: Two Classic Books from the Library of Hogwarts School of Witchcraft and Wizardry",
                                    "books_count": "5",
                                    "best_book_id": "2002",
                                    "tag_id": "2002",
                                    "goodreads_book_id": "8435445"
                                }
                            ]
                        },
                        "text/html": [
                            "<table>",
                            "<tr><th>title</th><th>books_count</th><th>best_book_id</th><th>tag_id</th><th>goodreads_book_id</th></tr>",
                            "<tr><td>Harry Potter and the Chamber of Secrets (Harry Potter, #2)</td><td>398</td><td>15881</td><td>15881</td><td>3559</td></tr>",
                            "<tr><td>Harry Potter and the Sorcerer's Stone (Harry Potter, #1)</td><td>491</td><td>3</td><td>3</td><td>5552</td></tr>",
                            "<tr><td>Harry Potter and the Chamber of Secrets (Harry Potter, #2)</td><td>398</td><td>15881</td><td>15881</td><td>12657</td></tr>",
                            "<tr><td>Harry Potter and Philosophy: If Aristotle Ran Hogwarts</td><td>10</td><td>31819</td><td>31819</td><td>32827</td></tr>",
                            "<tr><td>Harry Potter and Philosophy: If Aristotle Ran Hogwarts</td><td>10</td><td>31819</td><td>31819</td><td>32829</td></tr>",
                            "<tr><td>Harry Potter and Philosophy: If Aristotle Ran Hogwarts</td><td>10</td><td>31819</td><td>31819</td><td>32831</td></tr>",
                            "<tr><td>Harry Potter and Philosophy: If Aristotle Ran Hogwarts</td><td>10</td><td>31819</td><td>31819</td><td>33507</td></tr>",
                            "<tr><td>Harry Potter and the Chamber of Secrets (Harry Potter, #2)</td><td>398</td><td>15881</td><td>15881</td><td>42691</td></tr>",
                            "<tr><td>Harry Potter and the Chamber of Secrets (Harry Potter, #2)</td><td>398</td><td>15881</td><td>15881</td><td>42697</td></tr>",
                            "<tr><td>Harry Potter and the Half-Blood Prince (Harry Potter, #6)</td><td>275</td><td>1</td><td>1</td><td>43799</td></tr>",
                            "<tr><td>Harry Potter Collection (Harry Potter, #1-6)</td><td>6</td><td>10</td><td>10</td><td>43799</td></tr>",
                            "<tr><td>Harry Potter and Philosophy: If Aristotle Ran Hogwarts</td><td>10</td><td>31819</td><td>31819</td><td>54479</td></tr>",
                            "<tr><td>Harry Potter and the Prisoner of Azkaban (Harry Potter, #3)</td><td>376</td><td>5</td><td>5</td><td>79006</td></tr>",
                            "<tr><td>Harry Potter and the Goblet of Fire (Harry Potter, #4)</td><td>332</td><td>6</td><td>6</td><td>79006</td></tr>",
                            "<tr><td>Harry Potter Schoolbooks Box Set: Two Classic Books from the Library of Hogwarts School of Witchcraft and Wizardry</td><td>5</td><td>2002</td><td>2002</td><td>94319</td></tr>",
                            "<tr><td>Harry Potter Schoolbooks Box Set: Two Classic Books from the Library of Hogwarts School of Witchcraft and Wizardry</td><td>5</td><td>2002</td><td>2002</td><td>103983</td></tr>",
                            "<tr><td>Harry Potter Schoolbooks Box Set: Two Classic Books from the Library of Hogwarts School of Witchcraft and Wizardry</td><td>5</td><td>2002</td><td>2002</td><td>136782</td></tr>",
                            "<tr><td>Harry Potter Boxed Set, Books 1-5 (Harry Potter, #1-5)</td><td>11</td><td>8</td><td>8</td><td>168814</td></tr>",
                            "<tr><td>Harry Potter Schoolbooks Box Set: Two Classic Books from the Library of Hogwarts School of Witchcraft and Wizardry</td><td>5</td><td>2002</td><td>2002</td><td>175004</td></tr>",
                            "<tr><td>Harry Potter Schoolbooks Box Set: Two Classic Books from the Library of Hogwarts School of Witchcraft and Wizardry</td><td>5</td><td>2002</td><td>2002</td><td>224500</td></tr>",
                            "<tr><td>Harry Potter and the Order of the Phoenix (Harry Potter, #5)</td><td>307</td><td>2</td><td>2</td><td>513367</td></tr>",
                            "<tr><td>Harry Potter Schoolbooks Box Set: Two Classic Books from the Library of Hogwarts School of Witchcraft and Wizardry</td><td>5</td><td>2002</td><td>2002</td><td>542414</td></tr>",
                            "<tr><td>Harry Potter and the Chamber of Secrets (Harry Potter, #2)</td><td>398</td><td>15881</td><td>15881</td><td>769712</td></tr>",
                            "<tr><td>Harry Potter and the Half-Blood Prince (Harry Potter, #6)</td><td>275</td><td>1</td><td>1</td><td>1207904</td></tr>",
                            "<tr><td>Harry Potter and Philosophy: If Aristotle Ran Hogwarts</td><td>10</td><td>31819</td><td>31819</td><td>1219103</td></tr>",
                            "<tr><td>Harry Potter Schoolbooks Box Set: Two Classic Books from the Library of Hogwarts School of Witchcraft and Wizardry</td><td>5</td><td>2002</td><td>2002</td><td>1821571</td></tr>",
                            "<tr><td>Harry Potter and the Chamber of Secrets (Harry Potter, #2)</td><td>398</td><td>15881</td><td>15881</td><td>3243517</td></tr>",
                            "<tr><td>Harry Potter Schoolbooks Box Set: Two Classic Books from the Library of Hogwarts School of Witchcraft and Wizardry</td><td>5</td><td>2002</td><td>2002</td><td>6566616</td></tr>",
                            "<tr><td>Harry Potter and the Chamber of Secrets (Harry Potter, #2)</td><td>398</td><td>15881</td><td>15881</td><td>6692041</td></tr>",
                            "<tr><td>Harry Potter Schoolbooks Box Set: Two Classic Books from the Library of Hogwarts School of Witchcraft and Wizardry</td><td>5</td><td>2002</td><td>2002</td><td>8435445</td></tr>",
                            "</table>"
                        ]
                    }
                }
            ],
            "execution_count": 73
        },
        {
            "cell_type": "markdown",
            "source": [
                "## **QUESTION 7:** What are the top 10 most popular book titles on the 'to read' list?\n",
                "\n",
                "**Part A:**  Explore how the **to\\_read** and **books** tables are organized, and then join them.  What will you use as a key?\n",
                "\n",
                "> Your Answer:\n",
                "\n",
                "**Part B:** Organize your newly joined table in a way that groups popularity based on the title based on users.\n",
                "\n",
                "> _Hint:_ Suggest using an alias for the aggregation you will need to run on the **user\\_id**\n",
                "\n",
                "> _Minimum Desired Output:_ title and aliased column"
            ],
            "metadata": {
                "azdata_cell_guid": "4e5349b7-24f6-481a-9d88-bb4f86abc624"
            },
            "attachments": {}
        },
        {
            "cell_type": "code",
            "source": [
                "-- Code Here:\n",
                "SELECT TOP 10 b.title, tr.user_id,b.book_id\n",
                "FROM BooksDB.dbo.books AS b\n",
                "RIGHT JOIN BooksDB.dbo.to_read AS tr\n",
                "ON b.book_id= tr.user_id\n",
                "WHERE tr.user_id IS NOT NULL\n",
                "ORDER BY tr.user_id;\n",
                ""
            ],
            "metadata": {
                "azdata_cell_guid": "8af25df1-ce61-4152-8198-0b53c17642d0",
                "language": "sql"
            },
            "outputs": [
                {
                    "output_type": "display_data",
                    "data": {
                        "text/html": "(10 rows affected)"
                    },
                    "metadata": {}
                },
                {
                    "output_type": "display_data",
                    "data": {
                        "text/html": "Total execution time: 00:00:00.336"
                    },
                    "metadata": {}
                },
                {
                    "output_type": "execute_result",
                    "metadata": {},
                    "execution_count": 86,
                    "data": {
                        "application/vnd.dataresource+json": {
                            "schema": {
                                "fields": [
                                    {
                                        "name": "title"
                                    },
                                    {
                                        "name": "user_id"
                                    },
                                    {
                                        "name": "book_id"
                                    }
                                ]
                            },
                            "data": [
                                {
                                    "title": "Harry Potter and the Half-Blood Prince (Harry Potter, #6)",
                                    "user_id": "1",
                                    "book_id": "1"
                                },
                                {
                                    "title": "Harry Potter and the Half-Blood Prince (Harry Potter, #6)",
                                    "user_id": "1",
                                    "book_id": "1"
                                },
                                {
                                    "title": "Harry Potter and the Half-Blood Prince (Harry Potter, #6)",
                                    "user_id": "1",
                                    "book_id": "1"
                                },
                                {
                                    "title": "Harry Potter and the Half-Blood Prince (Harry Potter, #6)",
                                    "user_id": "1",
                                    "book_id": "1"
                                },
                                {
                                    "title": "Harry Potter and the Half-Blood Prince (Harry Potter, #6)",
                                    "user_id": "1",
                                    "book_id": "1"
                                },
                                {
                                    "title": "Harry Potter and the Half-Blood Prince (Harry Potter, #6)",
                                    "user_id": "1",
                                    "book_id": "1"
                                },
                                {
                                    "title": "Harry Potter and the Half-Blood Prince (Harry Potter, #6)",
                                    "user_id": "1",
                                    "book_id": "1"
                                },
                                {
                                    "title": "Harry Potter and the Order of the Phoenix (Harry Potter, #5)",
                                    "user_id": "2",
                                    "book_id": "2"
                                },
                                {
                                    "title": "Harry Potter and the Order of the Phoenix (Harry Potter, #5)",
                                    "user_id": "2",
                                    "book_id": "2"
                                },
                                {
                                    "title": "Harry Potter and the Order of the Phoenix (Harry Potter, #5)",
                                    "user_id": "2",
                                    "book_id": "2"
                                }
                            ]
                        },
                        "text/html": [
                            "<table>",
                            "<tr><th>title</th><th>user_id</th><th>book_id</th></tr>",
                            "<tr><td>Harry Potter and the Half-Blood Prince (Harry Potter, #6)</td><td>1</td><td>1</td></tr>",
                            "<tr><td>Harry Potter and the Half-Blood Prince (Harry Potter, #6)</td><td>1</td><td>1</td></tr>",
                            "<tr><td>Harry Potter and the Half-Blood Prince (Harry Potter, #6)</td><td>1</td><td>1</td></tr>",
                            "<tr><td>Harry Potter and the Half-Blood Prince (Harry Potter, #6)</td><td>1</td><td>1</td></tr>",
                            "<tr><td>Harry Potter and the Half-Blood Prince (Harry Potter, #6)</td><td>1</td><td>1</td></tr>",
                            "<tr><td>Harry Potter and the Half-Blood Prince (Harry Potter, #6)</td><td>1</td><td>1</td></tr>",
                            "<tr><td>Harry Potter and the Half-Blood Prince (Harry Potter, #6)</td><td>1</td><td>1</td></tr>",
                            "<tr><td>Harry Potter and the Order of the Phoenix (Harry Potter, #5)</td><td>2</td><td>2</td></tr>",
                            "<tr><td>Harry Potter and the Order of the Phoenix (Harry Potter, #5)</td><td>2</td><td>2</td></tr>",
                            "<tr><td>Harry Potter and the Order of the Phoenix (Harry Potter, #5)</td><td>2</td><td>2</td></tr>",
                            "</table>"
                        ]
                    }
                }
            ],
            "execution_count": 86
        },
        {
            "cell_type": "markdown",
            "source": [
                "## **QUESTION 8:** Largest 'To Read' Lists\n",
                "\n",
                "**Part A:**  Create a query that returns a table that contains the top 10 users with the most number of titles on their 'to read' list.    Group all the entries by user\\_id.  \n",
                "\n",
                "> _Hint:_ You might want an alias for the titles.\n",
                "> \n",
                "> _Minimum Desired Output:_  user\\_id and your aliased column of titles.\n",
                "\n",
                "**Part B:**  The longest list length is 15 titles total, and is shared by 4 different users.  Select one of the uses and print out their entire '**to read**' list."
            ],
            "metadata": {
                "azdata_cell_guid": "0b0090b0-2b28-44c6-8bb6-06b4c03c3ff1"
            },
            "attachments": {}
        },
        {
            "cell_type": "code",
            "source": [
                "-- Code Here:\n",
                "\n",
                ""
            ],
            "metadata": {
                "azdata_cell_guid": "c6c815f8-890d-4163-be63-3d300e320597",
                "tags": [],
                "language": "sql"
            },
            "outputs": [
                {
                    "output_type": "display_data",
                    "data": {
                        "text/html": "Commands completed successfully."
                    },
                    "metadata": {}
                },
                {
                    "output_type": "display_data",
                    "data": {
                        "text/html": "Total execution time: 00:00:00.055"
                    },
                    "metadata": {}
                }
            ],
            "execution_count": 30
        }
    ]
}